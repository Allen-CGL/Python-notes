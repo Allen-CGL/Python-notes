{
 "cells": [
  {
   "cell_type": "markdown",
   "id": "5189f3e5",
   "metadata": {},
   "source": [
    "class 類別簡介"
   ]
  },
  {
   "cell_type": "code",
   "execution_count": 1,
   "id": "fe9aff32",
   "metadata": {},
   "outputs": [],
   "source": [
    "class Circle:\n",
    "    ''' test of class of circle'''\n",
    "    pi = 3.14159 \n",
    "    def __init__(self, x = 0 , y =0 , radius =1 ):\n",
    "        self.x = x\n",
    "        self.y = y\n",
    "        self.radius = radius\n",
    "        \n",
    "    def area(self):\n",
    "        return Circle.pi * self.radius * self.radius\n"
   ]
  },
  {
   "cell_type": "code",
   "execution_count": 2,
   "id": "861fdd56",
   "metadata": {},
   "outputs": [
    {
     "name": "stdout",
     "output_type": "stream",
     "text": [
      "0 0 1\n"
     ]
    }
   ],
   "source": [
    "C1=Circle()\n",
    "print(C1.x, C1.y, C1.radius)"
   ]
  },
  {
   "cell_type": "code",
   "execution_count": 3,
   "id": "ddaca461",
   "metadata": {},
   "outputs": [
    {
     "name": "stdout",
     "output_type": "stream",
     "text": [
      "3 6 9\n"
     ]
    }
   ],
   "source": [
    "C2=Circle(3, 6, 9)\n",
    "print(C2.x, C2.y, C2.radius)"
   ]
  },
  {
   "cell_type": "code",
   "execution_count": 4,
   "id": "3e0eac05",
   "metadata": {},
   "outputs": [
    {
     "name": "stdout",
     "output_type": "stream",
     "text": [
      "area of C1 3.14159\n"
     ]
    }
   ],
   "source": [
    "print('area of C1', C1.area())"
   ]
  },
  {
   "cell_type": "code",
   "execution_count": 5,
   "id": "fcb99e68",
   "metadata": {},
   "outputs": [
    {
     "name": "stdout",
     "output_type": "stream",
     "text": [
      "pi from math: 3.141592653589793\n",
      "pi from Circle: 3.14159\n"
     ]
    }
   ],
   "source": [
    "import math\n",
    "print('pi from math:', math.pi)\n",
    "print('pi from Circle:', C1.pi)"
   ]
  },
  {
   "cell_type": "code",
   "execution_count": null,
   "id": "b7724ec3-db73-49a9-8e79-37e888210af7",
   "metadata": {},
   "outputs": [],
   "source": []
  }
 ],
 "metadata": {
  "kernelspec": {
   "display_name": "Python 3 (ipykernel)",
   "language": "python",
   "name": "python3"
  },
  "language_info": {
   "codemirror_mode": {
    "name": "ipython",
    "version": 3
   },
   "file_extension": ".py",
   "mimetype": "text/x-python",
   "name": "python",
   "nbconvert_exporter": "python",
   "pygments_lexer": "ipython3",
   "version": "3.8.8"
  }
 },
 "nbformat": 4,
 "nbformat_minor": 5
}
