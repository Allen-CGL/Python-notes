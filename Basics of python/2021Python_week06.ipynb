{
 "cells": [
  {
   "cell_type": "markdown",
   "metadata": {},
   "source": [
    "list operator"
   ]
  },
  {
   "cell_type": "code",
   "execution_count": 1,
   "metadata": {},
   "outputs": [
    {
     "name": "stdout",
     "output_type": "stream",
     "text": [
      "[1, 2, 3, 4, 5, [6, 7]]\n"
     ]
    }
   ],
   "source": [
    "a = [1, 2, 3]\n",
    "b = [4, 5, [6, 7]]\n",
    "c = a + b\n",
    "print(c)"
   ]
  },
  {
   "cell_type": "code",
   "execution_count": 2,
   "metadata": {},
   "outputs": [
    {
     "data": {
      "text/plain": [
       "[0, 0, 0, 0]"
      ]
     },
     "execution_count": 2,
     "metadata": {},
     "output_type": "execute_result"
    }
   ],
   "source": [
    "[0] * 4"
   ]
  },
  {
   "cell_type": "code",
   "execution_count": 3,
   "metadata": {},
   "outputs": [
    {
     "data": {
      "text/plain": [
       "[1, 2, 3, 1, 2, 3, 1, 2, 3]"
      ]
     },
     "execution_count": 3,
     "metadata": {},
     "output_type": "execute_result"
    }
   ],
   "source": [
    "[1, 2, 3] *3"
   ]
  },
  {
   "cell_type": "code",
   "execution_count": 4,
   "metadata": {},
   "outputs": [
    {
     "data": {
      "text/plain": [
       "['apple', [1, 2], 'apple', [1, 2], 'apple', [1, 2]]"
      ]
     },
     "execution_count": 4,
     "metadata": {},
     "output_type": "execute_result"
    }
   ],
   "source": [
    "['apple', [1, 2]] * 3"
   ]
  },
  {
   "cell_type": "code",
   "execution_count": null,
   "metadata": {},
   "outputs": [
    {
     "name": "stdout",
     "output_type": "stream",
     "text": [
      "[1, 0, 3, 0, 5, 0, 7, 0, 9, 0]\n"
     ]
    }
   ],
   "source": [
    "x = [1, 2, 3, 4, 5, 6, 7, 8, 9, 10]\n",
    "x[1::2] = [0] * len(x[1::2])\n",
    "print(x)"
   ]
  },
  {
   "cell_type": "markdown",
   "metadata": {},
   "source": [
    "In operator"
   ]
  },
  {
   "cell_type": "code",
   "execution_count": 11,
   "metadata": {},
   "outputs": [
    {
     "name": "stdout",
     "output_type": "stream",
     "text": [
      "case1: 101 in p  True\n",
      "case2: dog not in p True\n"
     ]
    }
   ],
   "source": [
    "#清單搜尋\n",
    "p = [4, 'cat', 10, 101]\n",
    "print('case1: 101 in p ', 101 in p)\n",
    "print('case2: dog not in p', 'dog' not in p)"
   ]
  },
  {
   "cell_type": "code",
   "execution_count": 12,
   "metadata": {},
   "outputs": [
    {
     "name": "stdout",
     "output_type": "stream",
     "text": [
      "test3: True\n"
     ]
    }
   ],
   "source": [
    "#字串搜尋\n",
    "str_a = 'an apple a day keeps the doctor away'\n",
    "print('test3:','pp' in str_a)"
   ]
  },
  {
   "cell_type": "code",
   "execution_count": 13,
   "metadata": {},
   "outputs": [
    {
     "name": "stdout",
     "output_type": "stream",
     "text": [
      "test1: False\n",
      "test2: True\n"
     ]
    }
   ],
   "source": [
    "fruit_list = ['apple', 'banana', 'orange']\n",
    "print('test1:','pp' in fruit_list)\n",
    "print('test2:','apple' in fruit_list)"
   ]
  },
  {
   "cell_type": "markdown",
   "metadata": {},
   "source": [
    "Is operator"
   ]
  },
  {
   "cell_type": "code",
   "execution_count": 14,
   "metadata": {},
   "outputs": [
    {
     "name": "stdout",
     "output_type": "stream",
     "text": [
      "1st: a is b False\n",
      "1st: a =  5  b =  6\n",
      "2nd: a is b True\n",
      "2nd: a =  5  b =  5\n"
     ]
    }
   ],
   "source": [
    "# is運算符: 左右邊的物件參照相同 True\n",
    "a = 5\n",
    "b = 6\n",
    "print('1st: a is b',a is b)\n",
    "print('1st: a = ',a,' b = ',b)\n",
    "b = a\n",
    "print('2nd: a is b',a is b)\n",
    "print('2nd: a = ',a,' b = ',b)"
   ]
  },
  {
   "cell_type": "markdown",
   "metadata": {},
   "source": [
    "Mutable/immutable data types"
   ]
  },
  {
   "cell_type": "code",
   "execution_count": 2,
   "metadata": {},
   "outputs": [
    {
     "name": "stdout",
     "output_type": "stream",
     "text": [
      "immutable data: a is b True\n",
      "immutable data: a =  banana  b =  banana\n"
     ]
    }
   ],
   "source": [
    "#immutable data types\n",
    "a = 'banana'\n",
    "#b = a\n",
    "b = 'banana'\n",
    "print('immutable data: a is b',a is b)\n",
    "print('immutable data: a = ',a,' b = ',b)"
   ]
  },
  {
   "cell_type": "code",
   "execution_count": 4,
   "metadata": {},
   "outputs": [
    {
     "name": "stdout",
     "output_type": "stream",
     "text": [
      "mutable data: a is b True\n",
      "mutable data: a =  ['banana']  b =  ['banana']\n"
     ]
    }
   ],
   "source": [
    "#mutable data types\n",
    "a = ['banana']\n",
    "b = a\n",
    "#b = ['banana']\n",
    "print('mutable data: a is b',a is b)\n",
    "print('mutable data: a = ',a,' b = ',b)"
   ]
  },
  {
   "cell_type": "code",
   "execution_count": 22,
   "metadata": {},
   "outputs": [
    {
     "name": "stdout",
     "output_type": "stream",
     "text": [
      "mutable data: a is b False\n",
      "immutable data in mutable data: a is b True\n",
      "immutable data in mutable data: a[0] =  ['banana']  b[0] =  ['banana']\n"
     ]
    }
   ],
   "source": [
    "#immutable data in mutable data types\n",
    "a = ['banana']\n",
    "b = ['banana']\n",
    "print('mutable data: a is b',a is b)\n",
    "print('immutable data in mutable data: a is b',a[0] is b[0])\n",
    "print('immutable data in mutable data: a[0] = ',a,' b[0] = ',b)"
   ]
  },
  {
   "cell_type": "markdown",
   "metadata": {},
   "source": [
    "Quiz (list operator, is , in)"
   ]
  },
  {
   "cell_type": "code",
   "execution_count": 19,
   "metadata": {},
   "outputs": [
    {
     "name": "stdout",
     "output_type": "stream",
     "text": [
      "test1: False\n",
      "test2: True\n",
      "test3: True\n",
      "test4: False\n"
     ]
    }
   ],
   "source": [
    "fruit_list = ['apple', 'banana', 'orange',['pear','cherry']]\n",
    "print('test1:',['banana', 'orange'] in fruit_list)\n",
    "print('test2:',['pear','cherry'] in fruit_list)\n",
    "print('test3:', 'apple' in fruit_list)\n",
    "print('test4:','pear' in fruit_list)"
   ]
  },
  {
   "cell_type": "code",
   "execution_count": 5,
   "metadata": {},
   "outputs": [
    {
     "name": "stdout",
     "output_type": "stream",
     "text": [
      "a= orange\n",
      "b= pear\n",
      "c= ['apple', 'pear', 'orange', 'pear']\n",
      "d= apple\n",
      "c[0] is a :  False\n",
      "c[1] is b :  True\n",
      "c[0] is d :  True\n",
      "c[0] is c[2] :  False\n"
     ]
    }
   ],
   "source": [
    "a = 'apple'\n",
    "b = 'pear'\n",
    "c = [a, b, a, b]\n",
    "d = a\n",
    "a = 'orange'\n",
    "c[2] = a\n",
    "print('a=', a)\n",
    "print('b=', b)\n",
    "print('c=', c)\n",
    "print('d=', d)\n",
    "print('c[0] is a : ',c[0] is a)\n",
    "print('c[1] is b : ',c[1] is b)\n",
    "print('c[0] is d : ',c[0] is d)\n",
    "print('c[0] is c[2] : ',c[0] is c[2])"
   ]
  },
  {
   "cell_type": "markdown",
   "metadata": {},
   "source": [
    "List aliasing"
   ]
  },
  {
   "cell_type": "code",
   "execution_count": 6,
   "metadata": {},
   "outputs": [
    {
     "name": "stdout",
     "output_type": "stream",
     "text": [
      "(1) list_a is list_b  True\n",
      "1st list_a ['pear', 1, 12.3]\n",
      "1st list_b ['pear', 1, 12.3]\n",
      "2nd list_a: ['pear', 1, 101.123]\n",
      "2nd list_b: ['pear', 1, 101.123]\n"
     ]
    }
   ],
   "source": [
    "list_a = ['apple', 1, 12.3]\n",
    "list_b = list_a\n",
    "print('(1) list_a is list_b ',list_a is list_b)\n",
    "list_a[0] = 'pear'\n",
    "print('1st list_a',list_a)\n",
    "print('1st list_b',list_b)\n",
    "list_b[2] = 101.123\n",
    "print('2nd list_a:', list_a)\n",
    "print('2nd list_b:', list_b)\n",
    "###################################################"
   ]
  },
  {
   "cell_type": "code",
   "execution_count": 7,
   "metadata": {},
   "outputs": [
    {
     "name": "stdout",
     "output_type": "stream",
     "text": [
      "(2) list_a is list_b  False\n",
      "(3) list_a[0] is list_b[0]  True\n",
      "list_a ['pear', 1, 12.3]\n",
      "list_b ['apple', 1, 12.3]\n"
     ]
    }
   ],
   "source": [
    "list_a = ['apple', 1, 12.3]\n",
    "list_b = ['apple', 1, 12.3]\n",
    "print('(2) list_a is list_b ',list_a is list_b)\n",
    "print('(3) list_a[0] is list_b[0] ',list_a[0] is list_b[0])\n",
    "list_a[0] = 'pear'\n",
    "print('list_a',list_a)\n",
    "print('list_b',list_b)\n",
    "###################################################"
   ]
  },
  {
   "cell_type": "markdown",
   "metadata": {},
   "source": [
    "list arguments"
   ]
  },
  {
   "cell_type": "code",
   "execution_count": 10,
   "metadata": {},
   "outputs": [
    {
     "name": "stdout",
     "output_type": "stream",
     "text": [
      "[1, 2, 3]\n",
      "None\n",
      "[1, 2, 3]\n"
     ]
    }
   ],
   "source": [
    "# append method modified the existing list \n",
    "t1 = [1, 2]\n",
    "t2 = t1.append(3)\n",
    "print(t1)\n",
    "print(t2)\n",
    "t22=t1\n",
    "print(t22)\n",
    "###################################################"
   ]
  },
  {
   "cell_type": "code",
   "execution_count": 31,
   "metadata": {},
   "outputs": [
    {
     "name": "stdout",
     "output_type": "stream",
     "text": [
      "[1, 2]\n",
      "[1, 2, 3]\n"
     ]
    }
   ],
   "source": [
    "# + operator create new list\n",
    "t3 = [1, 2]\n",
    "t4 = t3 + [3]\n",
    "print(t3)\n",
    "print(t4)"
   ]
  },
  {
   "cell_type": "code",
   "execution_count": 32,
   "metadata": {},
   "outputs": [
    {
     "name": "stdout",
     "output_type": "stream",
     "text": [
      "t5: ['a', 'b', 'c']\n",
      "t6: ['b', 'c']\n"
     ]
    }
   ],
   "source": [
    "t5 = ['a', 'b', 'c']\n",
    "t6 = t5[1:]\n",
    "print('t5:',t5)\n",
    "print('t6:',t6)"
   ]
  },
  {
   "cell_type": "code",
   "execution_count": 33,
   "metadata": {},
   "outputs": [
    {
     "name": "stdout",
     "output_type": "stream",
     "text": [
      "t7: ['a', 'b', 'c']\n",
      "run delete_head1  ['b', 'c']\n",
      "after delete_head1 t7: ['a', 'b', 'c']\n",
      "after delete_head2 t7: ['b', 'c']\n",
      "after modify_list t7: ['0', 'c']\n",
      "after modify_int int7: 7\n"
     ]
    }
   ],
   "source": [
    "def delete_head1(t):\n",
    "    t = t[1:]\n",
    "    print('run delete_head1 ',t)\n",
    "def delete_head2(t):\n",
    "    return t[1:]\n",
    "def modify_list(t):\n",
    "    t[0]='0'\n",
    "def modify_int(t):\n",
    "    t=0\n",
    "    \n",
    "t7 = ['a', 'b', 'c']\n",
    "print('t7:',t7)\n",
    "delete_head1(t7)\n",
    "print('after delete_head1 t7:',t7)\n",
    "t7 = delete_head2(t7)\n",
    "print('after delete_head2 t7:',t7)\n",
    "modify_list(t7)\n",
    "print('after modify_list t7:',t7)\n",
    "int7=7\n",
    "modify_int(int7)\n",
    "print('after modify_int int7:',int7)"
   ]
  },
  {
   "cell_type": "markdown",
   "metadata": {},
   "source": [
    "list (Quiz)"
   ]
  },
  {
   "cell_type": "code",
   "execution_count": 34,
   "metadata": {},
   "outputs": [
    {
     "name": "stdout",
     "output_type": "stream",
     "text": [
      "t = [1, 3, 5, 8]\n",
      "sorted t2 = [1, 3, 5, 8]\n"
     ]
    }
   ],
   "source": [
    "# copy list reference ==> alising\n",
    "t = [3, 1, 5, 8]\n",
    "t2 = t\n",
    "t2.sort()\n",
    "print('t =',t)\n",
    "print('sorted t2 =', t2)"
   ]
  },
  {
   "cell_type": "code",
   "execution_count": 35,
   "metadata": {},
   "outputs": [
    {
     "name": "stdout",
     "output_type": "stream",
     "text": [
      "t = [3, 1, 5, 8]\n",
      "sorted t2 = [1, 3, 5, 8]\n"
     ]
    }
   ],
   "source": [
    "# copy data in a list not list reference to avoid alising\n",
    "t = [3, 1, 5, 8]\n",
    "t2 = t[:]\n",
    "t2.sort()\n",
    "print('t =',t)\n",
    "print('sorted t2 =', t2)"
   ]
  },
  {
   "cell_type": "code",
   "execution_count": 18,
   "metadata": {},
   "outputs": [
    {
     "name": "stdout",
     "output_type": "stream",
     "text": [
      "None\n"
     ]
    }
   ],
   "source": [
    "x ='cherry'\n",
    "t = ['apple', 'banana']\n",
    "#====\n",
    "#t.append(x)\n",
    "#print('(a)',t)\n",
    "#=====\n",
    "#t = t + [x]\n",
    "#print('(b)',t)\n",
    "#====\n",
    "#t.append([x])\n",
    "#print(t)\n",
    "#======\n",
    "#t = t.append(x)\n",
    "#print(t)\n",
    "#=======\n",
    "#t + [x]\n",
    "#print(t)\n",
    "#======\n",
    "#t = t + x\n",
    "#print(t)"
   ]
  },
  {
   "cell_type": "markdown",
   "metadata": {},
   "source": [
    "list comprehension (清單生成式)"
   ]
  },
  {
   "cell_type": "code",
   "execution_count": 1,
   "metadata": {},
   "outputs": [
    {
     "name": "stdout",
     "output_type": "stream",
     "text": [
      "[37.77777777777778, 2.2222222222222223, 15.0, -12.222222222222221, 50.55555555555556, 34.44444444444444, 30.555555555555557]\n"
     ]
    }
   ],
   "source": [
    "#華氏溫度 ⇒ 攝氏溫度\n",
    "ft = [100, 36, 59, 10, 123, 94, 87]\n",
    "ct = []\n",
    "for x1 in ft:\n",
    "    ct.append((x1 - 32) * 5 / 9)\n",
    "print(ct)"
   ]
  },
  {
   "cell_type": "code",
   "execution_count": 2,
   "metadata": {},
   "outputs": [
    {
     "name": "stdout",
     "output_type": "stream",
     "text": [
      "[37.77777777777778, 2.2222222222222223, 15.0, -12.222222222222221, 50.55555555555556, 34.44444444444444, 30.555555555555557]\n"
     ]
    }
   ],
   "source": [
    "#華氏溫度 ⇒ 攝氏溫度 list comprehension method\n",
    "ft = [100, 36, 59, 10, 123, 94, 87]\n",
    "ct = [(x1 -32) * 5 / 9 for x1 in ft]\n",
    "print(ct)"
   ]
  },
  {
   "cell_type": "code",
   "execution_count": 3,
   "metadata": {},
   "outputs": [
    {
     "name": "stdout",
     "output_type": "stream",
     "text": [
      "Step 1:  [1900, 1901, 1902, 1903, 1904, 1905, 1906, 1907, 1908, 1909, 1910, 1911, 1912, 1913, 1914, 1915, 1916, 1917, 1918, 1919, 1920, 1921, 1922, 1923, 1924, 1925, 1926, 1927, 1928, 1929, 1930, 1931, 1932, 1933, 1934, 1935, 1936, 1937, 1938, 1939]\n",
      "Step 2:  [1900, 1904, 1908, 1912, 1916, 1920, 1924, 1928, 1932, 1936]\n",
      "Step 3:  [1904, 1908, 1912, 1916, 1920, 1924, 1928, 1932, 1936]\n"
     ]
    }
   ],
   "source": [
    "#步驟拆解，逐漸加入條件\n",
    "leaps = [y for y in range(1900, 1940)]\n",
    "print('Step 1: ', leaps)\n",
    "leaps = [y for y in range(1900, 1940) if y % 4 == 0]\n",
    "print('Step 2: ',leaps)\n",
    "leaps = [y for y in range(1900, 1940) if (y % 4 == 0 and y % 100 != 0) or (y % 400 == 0)]\n",
    "print('Step 3: ',leaps)"
   ]
  },
  {
   "cell_type": "code",
   "execution_count": 4,
   "metadata": {},
   "outputs": [
    {
     "name": "stdout",
     "output_type": "stream",
     "text": [
      "['2*1=2', '2*2=4', '2*3=6', '2*4=8', '2*5=10', '2*6=12', '2*7=14', '2*8=16', '2*9=18', '3*1=3', '3*2=6', '3*3=9', '3*4=12', '3*5=15', '3*6=18', '3*7=21', '3*8=24', '3*9=27', '4*1=4', '4*2=8', '4*3=12', '4*4=16', '4*5=20', '4*6=24', '4*7=28', '4*8=32', '4*9=36', '5*1=5', '5*2=10', '5*3=15', '5*4=20', '5*5=25', '5*6=30', '5*7=35', '5*8=40', '5*9=45', '6*1=6', '6*2=12', '6*3=18', '6*4=24', '6*5=30', '6*6=36', '6*7=42', '6*8=48', '6*9=54', '7*1=7', '7*2=14', '7*3=21', '7*4=28', '7*5=35', '7*6=42', '7*7=49', '7*8=56', '7*9=63', '8*1=8', '8*2=16', '8*3=24', '8*4=32', '8*5=40', '8*6=48', '8*7=56', '8*8=64', '8*9=72', '9*1=9', '9*2=18', '9*3=27', '9*4=36', '9*5=45', '9*6=54', '9*7=63', '9*8=72', '9*9=81']\n"
     ]
    }
   ],
   "source": [
    "#九九乘法表\n",
    "result = []\n",
    "for x in range(2, 9 + 1):\n",
    "    for y in range(1, 9 + 1):\n",
    "        result.append(str(x) + '*' + str(y) + '=' + str(x*y))\n",
    "print(result)        "
   ]
  },
  {
   "cell_type": "code",
   "execution_count": 5,
   "metadata": {},
   "outputs": [
    {
     "name": "stdout",
     "output_type": "stream",
     "text": [
      "['2*1=2', '2*2=4', '2*3=6', '2*4=8', '2*5=10', '2*6=12', '2*7=14', '2*8=16', '2*9=18', '3*1=3', '3*2=6', '3*3=9', '3*4=12', '3*5=15', '3*6=18', '3*7=21', '3*8=24', '3*9=27', '4*1=4', '4*2=8', '4*3=12', '4*4=16', '4*5=20', '4*6=24', '4*7=28', '4*8=32', '4*9=36', '5*1=5', '5*2=10', '5*3=15', '5*4=20', '5*5=25', '5*6=30', '5*7=35', '5*8=40', '5*9=45', '6*1=6', '6*2=12', '6*3=18', '6*4=24', '6*5=30', '6*6=36', '6*7=42', '6*8=48', '6*9=54', '7*1=7', '7*2=14', '7*3=21', '7*4=28', '7*5=35', '7*6=42', '7*7=49', '7*8=56', '7*9=63', '8*1=8', '8*2=16', '8*3=24', '8*4=32', '8*5=40', '8*6=48', '8*7=56', '8*8=64', '8*9=72', '9*1=9', '9*2=18', '9*3=27', '9*4=36', '9*5=45', '9*6=54', '9*7=63', '9*8=72', '9*9=81']\n"
     ]
    }
   ],
   "source": [
    "#九九乘法表 list comprehension method\n",
    "result = [str(x) + '*' + str(y) + '=' + str(x*y) \\\n",
    "          for x in range(2, 9 + 1) for y in range(1, 9 + 1)]\n",
    "print(result)"
   ]
  },
  {
   "cell_type": "code",
   "execution_count": 6,
   "metadata": {},
   "outputs": [
    {
     "name": "stdout",
     "output_type": "stream",
     "text": [
      "['MSB', 'MSG', 'MSW', 'MMB', 'MMG', 'MMW', 'MLB', 'MLG', 'MLW', 'MXB', 'MXG', 'MXW', 'FSB', 'FSG', 'FSW', 'FMB', 'FMG', 'FMW', 'FLB', 'FLG', 'FLW']\n"
     ]
    }
   ],
   "source": [
    "#建立服裝標籤，但跳過女性特大號\n",
    "codes = []\n",
    "for sex in \"MF\":\n",
    "    for size in \"SMLX\":\n",
    "        if sex == \"F\" and size == \"X\":\n",
    "            continue\n",
    "        for color in \"BGW\":\n",
    "            codes.append(sex + size + color)\n",
    "print(codes)   "
   ]
  },
  {
   "cell_type": "code",
   "execution_count": 7,
   "metadata": {},
   "outputs": [
    {
     "name": "stdout",
     "output_type": "stream",
     "text": [
      "['MSB', 'MSG', 'MSW', 'MMB', 'MMG', 'MMW', 'MLB', 'MLG', 'MLW', 'MXB', 'MXG', 'MXW', 'FSB', 'FSG', 'FSW', 'FMB', 'FMG', 'FMW', 'FLB', 'FLG', 'FLW']\n"
     ]
    }
   ],
   "source": [
    "#建立服裝標籤，但跳過女性特大號 list comprehension method\n",
    "codes = [s + z + c \\\n",
    "         for s in \"MF\"  \\\n",
    "         for z in \"SMLX\"  \\\n",
    "         for c in \"BGW\" \\\n",
    "         if not (s == \"F\" and z == \"X\")]\n",
    "print(codes)"
   ]
  },
  {
   "cell_type": "markdown",
   "metadata": {},
   "source": [
    "Quiz"
   ]
  },
  {
   "cell_type": "code",
   "execution_count": 44,
   "metadata": {},
   "outputs": [
    {
     "name": "stdout",
     "output_type": "stream",
     "text": [
      "['b2', 'b1', 'c2', 'c1', 'd2', 'd1']\n"
     ]
    }
   ],
   "source": [
    "li1 = ['a', 'b','c','d']\n",
    "li2 = [2, 5, 8, 1]\n",
    "li3 = [x1 + str(y1) \\\n",
    "       for x1 in li1 if x1 != 'a' \\\n",
    "       for y1 in li2 if y1 < 5]\n",
    "print(li3)"
   ]
  },
  {
   "cell_type": "markdown",
   "metadata": {},
   "source": [
    "srting format - %"
   ]
  },
  {
   "cell_type": "code",
   "execution_count": 9,
   "metadata": {},
   "outputs": [
    {
     "data": {
      "text/plain": [
       "'Now is 4 PM.'"
      ]
     },
     "execution_count": 9,
     "metadata": {},
     "output_type": "execute_result"
    }
   ],
   "source": [
    "'Now is %i PM.' % 4"
   ]
  },
  {
   "cell_type": "code",
   "execution_count": 46,
   "metadata": {},
   "outputs": [
    {
     "name": "stdout",
     "output_type": "stream",
     "text": [
      "My name is En-Jui Lee and I am 37 years old!\n"
     ]
    }
   ],
   "source": [
    "name = 'En-Jui Lee'\n",
    "s1 = 'My name is %s and I am %i years old!' % (name, 37)\n",
    "print(s1)"
   ]
  },
  {
   "cell_type": "code",
   "execution_count": 11,
   "metadata": {},
   "outputs": [
    {
     "name": "stdout",
     "output_type": "stream",
     "text": [
      "Now is 4.000000 PM.\n",
      "Now is 4.000000e+00 PM.\n",
      "Now is 4 PM.\n",
      "Now is 4.123 PM.\n",
      "Now is 4 PM.\n"
     ]
    }
   ],
   "source": [
    "s2 = 'Now is %f PM.' % 4\n",
    "print(s2)\n",
    "s3 = 'Now is %e PM.' % 4\n",
    "print(s3)\n",
    "s4 = 'Now is %s PM.' % 4\n",
    "print(s4)\n",
    "s5 = 'Now is %s PM.' % 4.123\n",
    "print(s5)\n",
    "s6 = 'Now is %i PM.' % 4.123 # float -> integer\n",
    "print(s6)"
   ]
  },
  {
   "cell_type": "code",
   "execution_count": 12,
   "metadata": {},
   "outputs": [
    {
     "ename": "TypeError",
     "evalue": "%i format: a number is required, not str",
     "output_type": "error",
     "traceback": [
      "\u001b[0;31m---------------------------------------------------------------------------\u001b[0m",
      "\u001b[0;31mTypeError\u001b[0m                                 Traceback (most recent call last)",
      "\u001b[0;32m/var/folders/v6/8pgsnr594_q47lz8dphy0r0r0000gn/T/ipykernel_4334/1261812661.py\u001b[0m in \u001b[0;36m<module>\u001b[0;34m\u001b[0m\n\u001b[0;32m----> 1\u001b[0;31m \u001b[0ms7\u001b[0m \u001b[0;34m=\u001b[0m \u001b[0;34m'Now is %i PM.'\u001b[0m \u001b[0;34m%\u001b[0m \u001b[0;34m'4'\u001b[0m\u001b[0;34m\u001b[0m\u001b[0;34m\u001b[0m\u001b[0m\n\u001b[0m\u001b[1;32m      2\u001b[0m \u001b[0mprint\u001b[0m\u001b[0;34m(\u001b[0m\u001b[0ms7\u001b[0m\u001b[0;34m)\u001b[0m\u001b[0;34m\u001b[0m\u001b[0;34m\u001b[0m\u001b[0m\n",
      "\u001b[0;31mTypeError\u001b[0m: %i format: a number is required, not str"
     ]
    }
   ],
   "source": [
    "s7 = 'Now is %i PM.' % '4'\n",
    "print(s7)"
   ]
  },
  {
   "cell_type": "code",
   "execution_count": 13,
   "metadata": {
    "scrolled": true
   },
   "outputs": [
    {
     "name": "stdout",
     "output_type": "stream",
     "text": [
      "format1 : 1234 1234 2322 4d2 4D2\n",
      "format2 : 123.456000 123.456000 1.234560e+02 1.234560E+02 123.456 123.456\n",
      "format3 : 123.456789 1.234568e+02 123.457\n"
     ]
    }
   ],
   "source": [
    "print('format1 : %d %i %o %x %X' % (1234, 1234, 1234, 1234, 1234))\n",
    "print('format2 : %f %F %e %E %g %G' % (123.456, 123.456, 123.456, 123.456, 123.456, 123.456))\n",
    "print('format3 : %f %e %g' % (123.456789, 123.456789, 123.456789)) # g only provides 3 digits"
   ]
  },
  {
   "cell_type": "code",
   "execution_count": 14,
   "metadata": {},
   "outputs": [
    {
     "name": "stdout",
     "output_type": "stream",
     "text": [
      "format4 : b b\n",
      "format5 : c 'c'\n"
     ]
    }
   ],
   "source": [
    "print('format4 : %c %c' % (98, 'b'))\n",
    "print('format5 : %s %r' % ('c', 'c'))"
   ]
  },
  {
   "cell_type": "code",
   "execution_count": 15,
   "metadata": {},
   "outputs": [
    {
     "name": "stdout",
     "output_type": "stream",
     "text": [
      "format6: 4D2 0X4D2 2322 0o2322\n",
      "format7: |1234 | 1234 |+1234 |+1234\n"
     ]
    }
   ],
   "source": [
    "# %  旗標  欄寬  .精確度  型式\n",
    "#examples with flags\n",
    "print('format6: %X %#X %o %#o' % (1234, 1234, 1234, 1234))\n",
    "print('format7: |%i |% i |%+i |% +i' % (1234, 1234, 1234, 1234))"
   ]
  },
  {
   "cell_type": "code",
   "execution_count": 4,
   "metadata": {},
   "outputs": [
    {
     "name": "stdout",
     "output_type": "stream",
     "text": [
      "format8: |   1234 |000 |1234   |\n",
      "format9: |  0x4d2 |0x004d2\n"
     ]
    }
   ],
   "source": [
    "# %  旗標  欄寬  .精確度  型式\n",
    "#examples with flags & width\n",
    "print('format8: |%7i |%07i |%-7i|' % (1234, 1234, 1234))\n",
    "print('format9: |%#7x |%#07x' % (1234, 1234))"
   ]
  },
  {
   "cell_type": "code",
   "execution_count": 17,
   "metadata": {},
   "outputs": [
    {
     "name": "stdout",
     "output_type": "stream",
     "text": [
      "format10: 1234.567800 1234.57\n",
      "format11: 1.234500 |  1.23450 | +1.23450 |+01.23450\n"
     ]
    }
   ],
   "source": [
    "# %  旗標  欄寬  .精確度  型式\n",
    "#examples with flags, width, and presision\n",
    "print('format10: %f %.2f' % (1234.5678, 1234.5678))\n",
    "print('format11: %f |%9.5f |%+9.5f |%+09.5f' % (1.2345, 1.2345, 1.2345, 1.2345))"
   ]
  },
  {
   "cell_type": "code",
   "execution_count": 18,
   "metadata": {},
   "outputs": [
    {
     "name": "stdout",
     "output_type": "stream",
     "text": [
      "format12: ['apple', 'orange', 'pear'] [12, 34.56, 78]\n"
     ]
    }
   ],
   "source": [
    "# examples with other data types to string\n",
    "fruit =['apple', 'orange', 'pear']\n",
    "number = [12, 34.56, 78]\n",
    "print('format12: %s %s' % (fruit, number))"
   ]
  },
  {
   "cell_type": "markdown",
   "metadata": {},
   "source": [
    "srting format - format method (field name)"
   ]
  },
  {
   "cell_type": "code",
   "execution_count": 19,
   "metadata": {},
   "outputs": [
    {
     "data": {
      "text/plain": [
       "\"The novel 'Hard Times' was published in 1854\""
      ]
     },
     "execution_count": 19,
     "metadata": {},
     "output_type": "execute_result"
    }
   ],
   "source": [
    "\"The novel '{0}' was published in {1}\".format(\"Hard Times\", 1854)"
   ]
  },
  {
   "cell_type": "code",
   "execution_count": 20,
   "metadata": {},
   "outputs": [
    {
     "data": {
      "text/plain": [
       "\"{I'm in braces} I'm not ;-}\""
      ]
     },
     "execution_count": 20,
     "metadata": {},
     "output_type": "execute_result"
    }
   ],
   "source": [
    "\"{{{0}}} {1} ;-}}\".format(\"I'm in braces\", \"I'm not\")"
   ]
  },
  {
   "cell_type": "code",
   "execution_count": 21,
   "metadata": {},
   "outputs": [
    {
     "name": "stdout",
     "output_type": "stream",
     "text": [
      "format13: The amount due is $100.25\n",
      "The three tops\n"
     ]
    }
   ],
   "source": [
    "print(\"format13: {0}{1}\".format(\"The amount due is $\", 100.25))\n",
    "x = 'three'\n",
    "s10 = '{0} {1} {2}'\n",
    "s10 = s10.format(\"The\", x, \"tops\")\n",
    "print(s10)"
   ]
  },
  {
   "cell_type": "code",
   "execution_count": 22,
   "metadata": {},
   "outputs": [
    {
     "name": "stdout",
     "output_type": "stream",
     "text": [
      "She turned 88 this year\n",
      "The boy was 12 last week\n"
     ]
    }
   ],
   "source": [
    "print(\"{who} turned {age} this year\".format(who=\"She\", age=88))\n",
    "print(\"The {who} was {0} last week\".format(12, who=\"boy\"))"
   ]
  },
  {
   "cell_type": "code",
   "execution_count": 47,
   "metadata": {},
   "outputs": [
    {
     "ename": "SyntaxError",
     "evalue": "positional argument follows keyword argument (Temp/ipykernel_22276/996391153.py, line 1)",
     "output_type": "error",
     "traceback": [
      "\u001b[1;36m  File \u001b[1;32m\"C:\\Users\\User\\AppData\\Local\\Temp/ipykernel_22276/996391153.py\"\u001b[1;36m, line \u001b[1;32m1\u001b[0m\n\u001b[1;33m    print(\"The {who} was {0} last week\".format(who=\"boy\",12)) # 引數:先位置引數再關鍵字\u001b[0m\n\u001b[1;37m                                                         ^\u001b[0m\n\u001b[1;31mSyntaxError\u001b[0m\u001b[1;31m:\u001b[0m positional argument follows keyword argument\n"
     ]
    }
   ],
   "source": [
    "print(\"The {who} was {0} last week\".format(who=\"boy\",12)) # 引數:先位置引數再關鍵字"
   ]
  },
  {
   "cell_type": "raw",
   "metadata": {},
   "source": [
    "more examples"
   ]
  },
  {
   "cell_type": "code",
   "execution_count": 24,
   "metadata": {},
   "outputs": [
    {
     "name": "stdout",
     "output_type": "stream",
     "text": [
      "We have envelopes and notepads in stock\n"
     ]
    }
   ],
   "source": [
    "stock = [\"paper\", \"envelopes\", \"notepads\", \"pens\", \"paper clips\"] #利用list索引\n",
    "print(\"We have {0[1]} and {0[2]} in stock\".format(stock))"
   ]
  },
  {
   "cell_type": "code",
   "execution_count": 25,
   "metadata": {},
   "outputs": [
    {
     "name": "stdout",
     "output_type": "stream",
     "text": [
      "The elephant weighs 12000kg\n"
     ]
    }
   ],
   "source": [
    "d = dict(animal=\"elephant\", weight=12000) # 利用字典 key\n",
    "print(\"The {0[animal]} weighs {0[weight]}kg\".format(d))"
   ]
  },
  {
   "cell_type": "code",
   "execution_count": 26,
   "metadata": {},
   "outputs": [
    {
     "name": "stdout",
     "output_type": "stream",
     "text": [
      "math.pi==3.141592653589793 sys.maxunicode==1114111\n"
     ]
    }
   ],
   "source": [
    "import math #利用 模組 & 屬性存取運算符\n",
    "import sys\n",
    "print(\"math.pi=={0.pi} sys.maxunicode=={1.maxunicode}\".format(math, sys))"
   ]
  },
  {
   "cell_type": "code",
   "execution_count": 27,
   "metadata": {},
   "outputs": [
    {
     "name": "stdout",
     "output_type": "stream",
     "text": [
      "Element 47 is Silver\n"
     ]
    }
   ],
   "source": [
    "# locals()內建函式:當前有效變數\n",
    "# 使用**映射運算符提取\n",
    "element = \"Silver\"\n",
    "number = 47\n",
    "print(\"Element {number} is {element}\".format(**locals()))"
   ]
  },
  {
   "cell_type": "markdown",
   "metadata": {},
   "source": [
    "srting format - format method (conversion & format specification)"
   ]
  },
  {
   "cell_type": "code",
   "execution_count": 28,
   "metadata": {},
   "outputs": [
    {
     "name": "stdout",
     "output_type": "stream",
     "text": [
      "93.4 93.4 Decimal('93.4') Decimal('93.4')\n"
     ]
    }
   ],
   "source": [
    "#conversion\n",
    "import decimal\n",
    "print(\"{0} {0!s} {0!r} {0!a}\".format(decimal.Decimal(\"93.4\")))"
   ]
  },
  {
   "cell_type": "code",
   "execution_count": 29,
   "metadata": {},
   "outputs": [
    {
     "name": "stdout",
     "output_type": "stream",
     "text": [
      "format1: |The sword of truth| |The sword of truth       |\n",
      "format2: |       The sword of truth| |   The sword of truth    | |The sword of truth       |\n"
     ]
    }
   ],
   "source": [
    "s = \"The sword of truth\"\n",
    "print(\"format1: |{0}| |{0:25}|\".format(s))  # default formatting V.S. width 25\n",
    "# width 25 for right, center, and left align\n",
    "print(\"format2: |{0:>25}| |{0:^25}| |{0:<25}|\".format(s)) "
   ]
  },
  {
   "cell_type": "code",
   "execution_count": 31,
   "metadata": {},
   "outputs": [
    {
     "name": "stdout",
     "output_type": "stream",
     "text": [
      "format3: |---The sword of truth----| |The sword of truth.......|\n",
      "format4: The sword o\n"
     ]
    }
   ],
   "source": [
    "s = \"The sword of truth\"\n",
    "# - fill, center align, with 25; . fill, left align, width 25\n",
    "print(\"format3: |{0:-^25}| |{0:.<25}|\".format(s)) \n",
    "print(\"format4: {0:.11}\".format(s)) # maximum width 11"
   ]
  },
  {
   "cell_type": "code",
   "execution_count": 32,
   "metadata": {},
   "outputs": [
    {
     "name": "stdout",
     "output_type": "stream",
     "text": [
      "The sword of\n",
      "The sword of\n"
     ]
    }
   ],
   "source": [
    "s = \"The sword of truth\"\n",
    "#1: 使用切片\n",
    "maxwidth = 12\n",
    "print(\"{0}\".format(s[:maxwidth]))\n",
    "#2:利用置換欄位\n",
    "print(\"{0:.{1}}\".format(s, maxwidth))"
   ]
  },
  {
   "cell_type": "code",
   "execution_count": 33,
   "metadata": {},
   "outputs": [
    {
     "name": "stdout",
     "output_type": "stream",
     "text": [
      "format5: 000123456 +00123456\n"
     ]
    }
   ],
   "source": [
    "#整數格式規範\n",
    "print(\"format5: {0:09} {0:+09}\".format(123456)) # 0-pad and width 9"
   ]
  },
  {
   "cell_type": "code",
   "execution_count": 34,
   "metadata": {},
   "outputs": [
    {
     "name": "stdout",
     "output_type": "stream",
     "text": [
      "format6: |1234567********| |****1234567****| |********1234567|\n",
      "format7: |1234567| | 1234567| |+1234567|\n"
     ]
    }
   ],
   "source": [
    "# with 15, * fill, left align, center align, right align\n",
    "print(\"format6: |{0:*<15}| |{0:*^15}| |{0:*>15}|\".format(1234567)) \n",
    "# origin, space, and force sign\n",
    "print(\"format7: |{0}| |{0: }| |{0:+}|\".format(1234567)) "
   ]
  },
  {
   "cell_type": "code",
   "execution_count": 35,
   "metadata": {},
   "outputs": [
    {
     "name": "stdout",
     "output_type": "stream",
     "text": [
      "format8: |    3.14e+03| |     3141.59|\n",
      "format8: |****3.14e+03| |*****3141.59|\n",
      "format8: |***+3.14e+03| |****+3141.59|\n"
     ]
    }
   ],
   "source": [
    "#浮點數格式規範\n",
    "import math\n",
    "amount = (10 ** 3) * math.pi\n",
    "print(\"format8: |{0:12.2e}| |{0:12.2f}|\".format(amount))\n",
    "print(\"format8: |{0:*>12.2e}| |{0:*>12.2f}|\".format(amount))\n",
    "print(\"format8: |{0:*>+12.2e}| |{0:*>+12.2f}|\".format(amount))"
   ]
  },
  {
   "cell_type": "code",
   "execution_count": 36,
   "metadata": {},
   "outputs": [
    {
     "name": "stdout",
     "output_type": "stream",
     "text": [
      "format9: 1234567890.123457\n"
     ]
    }
   ],
   "source": [
    "import decimal\n",
    "print(\"format9: {:.6f}\".format(decimal.Decimal(\"1234567890.1234567890\")))"
   ]
  },
  {
   "cell_type": "code",
   "execution_count": 37,
   "metadata": {},
   "outputs": [
    {
     "name": "stdout",
     "output_type": "stream",
     "text": [
      "format10: 4.759+1.204j\n",
      "format11: 4.759-1.204j\n",
      "format12: 4.759+1.204j\n"
     ]
    }
   ],
   "source": [
    "#複數格式化\n",
    "#method 1 : 將實部和虛部分開表示\n",
    "complex_value1 = 4.759172+1.20425j\n",
    "complex_value2 = 4.759172-1.20425j\n",
    "print(\"format10: {0.real:.3f}{0.imag:+.3f}j\".format(complex_value1))\n",
    "print(\"format11: {0.real:.3f}{0.imag:+.3f}j\".format(complex_value2))\n",
    "# method 2\n",
    "print(\"format12: {0:.3f}\".format(complex_value1))"
   ]
  },
  {
   "cell_type": "markdown",
   "metadata": {},
   "source": [
    "Quiz"
   ]
  },
  {
   "cell_type": "code",
   "execution_count": null,
   "metadata": {},
   "outputs": [],
   "source": [
    "import math\n",
    "print('test1: %+.3e' % math.pi)\n",
    "print('test2: %+10.3e' % math.pi)\n",
    "print('test3: {0:10.3e}'.format(math.pi))\n",
    "print('test4: %+3.3e' % math.pi)"
   ]
  },
  {
   "cell_type": "code",
   "execution_count": null,
   "metadata": {
    "scrolled": true
   },
   "outputs": [],
   "source": [
    "print('{1}%s{{{0}%s}}'.format('raining','sunny') % ('raining','{}'))"
   ]
  },
  {
   "cell_type": "code",
   "execution_count": null,
   "metadata": {},
   "outputs": [],
   "source": [
    "import math\n",
    "print('pi = |{0.pi:^+12.4f}| & e = |{0.e:<+15.4e}|'.format(math))"
   ]
  },
  {
   "cell_type": "code",
   "execution_count": null,
   "metadata": {},
   "outputs": [],
   "source": []
  }
 ],
 "metadata": {
  "kernelspec": {
   "display_name": "Python 3 (ipykernel)",
   "language": "python",
   "name": "python3"
  },
  "language_info": {
   "codemirror_mode": {
    "name": "ipython",
    "version": 3
   },
   "file_extension": ".py",
   "mimetype": "text/x-python",
   "name": "python",
   "nbconvert_exporter": "python",
   "pygments_lexer": "ipython3",
   "version": "3.8.8"
  }
 },
 "nbformat": 4,
 "nbformat_minor": 4
}
