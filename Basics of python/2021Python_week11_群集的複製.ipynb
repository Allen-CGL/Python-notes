{
 "cells": [
  {
   "cell_type": "markdown",
   "metadata": {},
   "source": [
    "群集的複製"
   ]
  },
  {
   "cell_type": "code",
   "execution_count": 1,
   "metadata": {},
   "outputs": [
    {
     "name": "stdout",
     "output_type": "stream",
     "text": [
      "fruits1: ['apple', 'cherry', 'kiwi', 'orange'] fruits2: ['apple', 'cherry', 'kiwi', 'orange']\n",
      "fruits1: ['apple', 'banana', 'kiwi', 'orange'] fruits2: ['apple', 'banana', 'kiwi', 'orange']\n"
     ]
    }
   ],
   "source": [
    "#list copy references ==> aliasing\n",
    "fruits1 = ['apple','cherry','kiwi','orange']\n",
    "fruits2 = fruits1\n",
    "print('fruits1:',fruits1,'fruits2:',fruits2)\n",
    "fruits2[1] = 'banana'\n",
    "print('fruits1:',fruits1,'fruits2:',fruits2)"
   ]
  },
  {
   "cell_type": "code",
   "execution_count": 2,
   "metadata": {},
   "outputs": [
    {
     "name": "stdout",
     "output_type": "stream",
     "text": [
      "fruits1: ['apple', 'cherry', 'kiwi', 'orange'] fruits2: ['apple', 'cherry', 'kiwi', 'orange']\n",
      "fruits1: ['apple', 'cherry', 'kiwi', 'orange'] fruits2: ['apple', 'banana', 'kiwi', 'orange']\n"
     ]
    }
   ],
   "source": [
    "#list copy all references\n",
    "fruits1 = ['apple','cherry','kiwi','orange']\n",
    "fruits2 = fruits1[:]\n",
    "print('fruits1:',fruits1,'fruits2:',fruits2)\n",
    "fruits2[1] = 'banana'\n",
    "print('fruits1:',fruits1,'fruits2:',fruits2)"
   ]
  },
  {
   "cell_type": "code",
   "execution_count": 3,
   "metadata": {},
   "outputs": [
    {
     "name": "stdout",
     "output_type": "stream",
     "text": [
      "listA: [35, 'apple', ['A', 'B', 'C']] listB: [35, 'apple', ['A', 'B', 'C']]\n",
      "listA: [35, 'apple', ['A', '&', 'C']] listB: [35, 'kiwi', ['A', '&', 'C']]\n"
     ]
    }
   ],
   "source": [
    "# example of shallow copy \n",
    "listA = [35, 'apple', ['A', 'B', 'C']]\n",
    "listB = listA[:] # shallow copy\n",
    "print('listA:',listA,'listB:',listB)\n",
    "listB[1] = 'kiwi'\n",
    "listB[2][1] = '&'\n",
    "print('listA:',listA,'listB:',listB)"
   ]
  },
  {
   "cell_type": "code",
   "execution_count": 4,
   "metadata": {},
   "outputs": [
    {
     "name": "stdout",
     "output_type": "stream",
     "text": [
      "listA: [35, 'apple', ['A', 'B', 'C']] listB: [35, 'apple', ['A', 'B', 'C']]\n",
      "listA: [35, 'apple', ['A', 'B', 'C']] listB: [35, 'kiwi', ['A', '&', 'C']]\n"
     ]
    }
   ],
   "source": [
    "# example of deep copy \n",
    "import copy\n",
    "listA = [35, 'apple', ['A', 'B', 'C']]\n",
    "listB = copy.deepcopy(listA) # deep copy\n",
    "print('listA:',listA,'listB:',listB)\n",
    "listB[1] = 'kiwi'\n",
    "listB[2][1] = '&'\n",
    "print('listA:',listA,'listB:',listB)"
   ]
  },
  {
   "cell_type": "markdown",
   "metadata": {},
   "source": [
    "Quiz群集的複製"
   ]
  },
  {
   "cell_type": "code",
   "execution_count": 5,
   "metadata": {},
   "outputs": [
    {
     "name": "stdout",
     "output_type": "stream",
     "text": [
      "old [12, 'book', {1: 'a', 2: 'b', 3: 'c'}, (5, 7, 9)]\n",
      "new lst1: [12, 'book', {1: 'a', 2: 'b', 3: 21}, (5, 7, 9)]\n",
      "new lst2: [12, 11, {1: 'a', 2: 'b', 3: 21}, 31]\n",
      "12 12\n",
      "book 11\n",
      "a a\n",
      "21 21\n",
      "(5, 7, 9) 31\n"
     ]
    }
   ],
   "source": [
    "lst1 = [12, 'book',{1:'a',2:'b',3:'c'},(5,7,9)]\n",
    "print('old',lst1)\n",
    "lst2 = lst1[:]\n",
    "lst2[1] = 11\n",
    "lst1[2][3] = 21\n",
    "lst2[3] = 31\n",
    "print('new lst1:',lst1)\n",
    "print('new lst2:',lst2)\n",
    "####\n",
    "print(lst1[0],lst2[0])\n",
    "print(lst1[1],lst2[1]) # diff\n",
    "print(lst1[2][1],lst2[2][1])\n",
    "print(lst1[2][3],lst2[2][3])\n",
    "print(lst1[3],lst2[3]) #diff"
   ]
  },
  {
   "cell_type": "code",
   "execution_count": 6,
   "metadata": {},
   "outputs": [
    {
     "name": "stdout",
     "output_type": "stream",
     "text": [
      "old {'a': [1, 3, 5], 0: ('book', 'apple'), 'x': {'a', 'n', 'b'}}\n",
      "new d1: {'a': [9, 3, 5], 0: ('book', 'apple'), 'x': {'a', 'n', 'k', 'b'}}\n",
      "new d2: {'a': [9, 3, 5], 0: 10, 'x': {'a', 'n', 'k', 'b'}}\n",
      "('book', 'apple') 10\n",
      "9 9\n",
      "5 5\n",
      "{'a', 'n', 'k', 'b'} {'a', 'n', 'k', 'b'}\n"
     ]
    }
   ],
   "source": [
    "d1 = {'a': [1, 3, 5], 0:('book','apple'), 'x':set('banana')}\n",
    "print('old',d1)\n",
    "d2 = d1.copy()\n",
    "d2['x'].add('k')\n",
    "d1['a'][0] = 9\n",
    "d2[0]= 10\n",
    "#d2[1]=[1,2]\n",
    "#d1[1]=[3,4]\n",
    "print('new d1:',d1)\n",
    "print('new d2:',d2)\n",
    "###\n",
    "print(d1[0],d2[0]) # diff\n",
    "print(d1['a'][0],d2['a'][0])\n",
    "print(d1['a'][2],d2['a'][2])\n",
    "print(d1['x'],d2['x'])\n",
    "#=====\n",
    "#print(d1[1],d2[1])"
   ]
  }
 ],
 "metadata": {
  "kernelspec": {
   "display_name": "Python 3 (ipykernel)",
   "language": "python",
   "name": "python3"
  },
  "language_info": {
   "codemirror_mode": {
    "name": "ipython",
    "version": 3
   },
   "file_extension": ".py",
   "mimetype": "text/x-python",
   "name": "python",
   "nbconvert_exporter": "python",
   "pygments_lexer": "ipython3",
   "version": "3.8.8"
  }
 },
 "nbformat": 4,
 "nbformat_minor": 4
}
