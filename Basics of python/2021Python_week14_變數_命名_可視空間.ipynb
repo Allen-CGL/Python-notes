{
 "cells": [
  {
   "cell_type": "markdown",
   "id": "f31d1339",
   "metadata": {},
   "source": [
    "local 變數（區域變數）"
   ]
  },
  {
   "cell_type": "code",
   "execution_count": 1,
   "id": "5c375716",
   "metadata": {},
   "outputs": [
    {
     "name": "stdout",
     "output_type": "stream",
     "text": [
      "Y3 before fun: 3\n",
      "Y3 in fun: 27\n",
      "Y3 after fun: 3\n"
     ]
    }
   ],
   "source": [
    "def f3(x):\n",
    "    y3 = x ** 3\n",
    "    print('Y3 in fun:',y3)\n",
    "    \n",
    "y3 = 3\n",
    "print('Y3 before fun:',y3)\n",
    "\n",
    "f3(y3)\n",
    "print('Y3 after fun:',y3)"
   ]
  },
  {
   "cell_type": "markdown",
   "id": "15ee8967",
   "metadata": {},
   "source": [
    "global變數 (全域變數)"
   ]
  },
  {
   "cell_type": "code",
   "execution_count": 28,
   "id": "5811a7bc",
   "metadata": {},
   "outputs": [
    {
     "name": "stdout",
     "output_type": "stream",
     "text": [
      "before fun : y4 =  3  & y5 =  4\n",
      "in fun : y4 =  27  & y5 =  27\n",
      "after fun : y4 =  27  & y5 =  4\n"
     ]
    }
   ],
   "source": [
    "def f4(x):\n",
    "    global y4\n",
    "    y4 = x ** 3\n",
    "    y5 = x ** 3\n",
    "    print('in fun : y4 = ',y4, ' & y5 = ',y5)\n",
    "  \n",
    "y4 = 3\n",
    "y5 = 4\n",
    "\n",
    "print('before fun : y4 = ',y4, ' & y5 = ',y5)\n",
    "f4(3)\n",
    "print('after fun : y4 = ',y4, ' & y5 = ',y5)"
   ]
  },
  {
   "cell_type": "markdown",
   "id": "cf646d8c",
   "metadata": {},
   "source": [
    "nonlocal 變數　（上一層變數）"
   ]
  },
  {
   "cell_type": "code",
   "execution_count": 3,
   "id": "ae60889d",
   "metadata": {},
   "outputs": [
    {
     "name": "stdout",
     "output_type": "stream",
     "text": [
      "before  g_nl_test: g_val =  0  ; nl_val =  0\n",
      "(1) g_nl_test: g_val =  0  ; nl_val =  1\n",
      "inner_test: g_val =  2  ; nl_val =  2\n",
      "(2) g_nl_test: g_val =  2  ; nl_val =  2\n",
      "after g_nl_test: g_val =  2  ; nl_val =  0\n"
     ]
    }
   ],
   "source": [
    "def g_nl_test():\n",
    "    nl_val = 1\n",
    "    print('(1) g_nl_test: g_val = ', g_val, ' ; nl_val = ', nl_val)\n",
    "    \n",
    "    def inner_test():\n",
    "        global g_val \n",
    "        nonlocal nl_val\n",
    "        \n",
    "        g_val = 2\n",
    "        nl_val = 2\n",
    "        print('inner_test: g_val = ', g_val, ' ; nl_val = ', nl_val)\n",
    "        \n",
    "    inner_test()\n",
    "    print('(2) g_nl_test: g_val = ', g_val, ' ; nl_val = ', nl_val)\n",
    "\n",
    "    \n",
    "#====== test the functions\n",
    "g_val = 0\n",
    "nl_val = 0\n",
    "\n",
    "print('before  g_nl_test: g_val = ', g_val, ' ; nl_val = ', nl_val)\n",
    "\n",
    "g_nl_test()\n",
    "\n",
    "print('after g_nl_test: g_val = ', g_val, ' ; nl_val = ', nl_val)\n"
   ]
  },
  {
   "cell_type": "markdown",
   "id": "6acf89f0",
   "metadata": {},
   "source": [
    "scope (可視範圍)"
   ]
  },
  {
   "cell_type": "code",
   "execution_count": 4,
   "id": "f8059cfb",
   "metadata": {},
   "outputs": [
    {
     "name": "stdout",
     "output_type": "stream",
     "text": [
      "5 10\n",
      "foo_1 10\n",
      "foo_2 110\n"
     ]
    },
    {
     "ename": "NameError",
     "evalue": "name 'bar' is not defined",
     "output_type": "error",
     "traceback": [
      "\u001b[1;31m---------------------------------------------------------------------------\u001b[0m",
      "\u001b[1;31mNameError\u001b[0m                                 Traceback (most recent call last)",
      "\u001b[1;32m~\\AppData\\Local\\Temp/ipykernel_9320/1773721164.py\u001b[0m in \u001b[0;36m<module>\u001b[1;34m\u001b[0m\n\u001b[0;32m     22\u001b[0m \u001b[0mprint\u001b[0m\u001b[1;33m(\u001b[0m\u001b[1;34m'foo_2'\u001b[0m\u001b[1;33m,\u001b[0m\u001b[0mn\u001b[0m\u001b[1;33m)\u001b[0m\u001b[1;33m\u001b[0m\u001b[1;33m\u001b[0m\u001b[0m\n\u001b[0;32m     23\u001b[0m \u001b[1;33m\u001b[0m\u001b[0m\n\u001b[1;32m---> 24\u001b[1;33m \u001b[0mbar\u001b[0m\u001b[1;33m(\u001b[0m\u001b[0mc\u001b[0m\u001b[1;33m)\u001b[0m\u001b[1;33m\u001b[0m\u001b[1;33m\u001b[0m\u001b[0m\n\u001b[0m",
      "\u001b[1;31mNameError\u001b[0m: name 'bar' is not defined"
     ]
    }
   ],
   "source": [
    "li = [0, 1, 2, 3, 4] \n",
    "a = 3\n",
    "a = len(li)\n",
    "b = sum(li)\n",
    "\n",
    "def foo_1(a, b):\n",
    "   d = a + b - c\n",
    "   return d\n",
    "\n",
    "def foo_2(a, b):\n",
    "   def bar(x):\n",
    "      return x ** 2\n",
    "   len = a * b + bar(c)\n",
    "   return len\n",
    "\n",
    "c = 5\n",
    "print(a,b)\n",
    "m = foo_1(a, b)\n",
    "print('foo_1',m)\n",
    "\n",
    "n = foo_2(a, b+2+len(li))\n",
    "print('foo_2',n)\n",
    "\n",
    "bar(c)"
   ]
  },
  {
   "cell_type": "code",
   "execution_count": 5,
   "id": "f4f786d7",
   "metadata": {},
   "outputs": [
    {
     "name": "stdout",
     "output_type": "stream",
     "text": [
      "Y1 =  123\n",
      "x =  5\n"
     ]
    }
   ],
   "source": [
    "#example 1\n",
    "y1 = 123\n",
    "def f1(x):\n",
    "    print('Y1 = ',y1)\n",
    "    print('x = ',x)\n",
    "f1(5)"
   ]
  },
  {
   "cell_type": "code",
   "execution_count": 7,
   "id": "2d941cbb",
   "metadata": {},
   "outputs": [
    {
     "name": "stdout",
     "output_type": "stream",
     "text": [
      "x =  5\n",
      "local y2 =  25\n",
      "y2 =  123\n"
     ]
    }
   ],
   "source": [
    "#example 2\n",
    "y2 = 123\n",
    "def f2(x):\n",
    "    #print('Y2 = ',y2) #尚未指派區域y2 在function內有被賦值\n",
    "    y2 = x * x\n",
    "    print('x = ',x)\n",
    "    print('local y2 = ', y2)\n",
    "f2(5)\n",
    "print('y2 = ',y2)"
   ]
  },
  {
   "cell_type": "markdown",
   "id": "7f145868",
   "metadata": {},
   "source": [
    "宣告 & 賦值"
   ]
  },
  {
   "cell_type": "code",
   "execution_count": 9,
   "id": "de2cb2e8",
   "metadata": {},
   "outputs": [
    {
     "ename": "SyntaxError",
     "evalue": "name 'aa' is assigned to before global declaration (Temp/ipykernel_9320/2584121366.py, line 5)",
     "output_type": "error",
     "traceback": [
      "\u001b[1;36m  File \u001b[1;32m\"C:\\Users\\User\\AppData\\Local\\Temp/ipykernel_9320/2584121366.py\"\u001b[1;36m, line \u001b[1;32m5\u001b[0m\n\u001b[1;33m    global aa\u001b[0m\n\u001b[1;37m    ^\u001b[0m\n\u001b[1;31mSyntaxError\u001b[0m\u001b[1;31m:\u001b[0m name 'aa' is assigned to before global declaration\n"
     ]
    }
   ],
   "source": [
    "#第一次指派(賦值)的(命名空間)，決定該名稱的可視範圍(Scope)\n",
    "def assign_test():\n",
    "    #global aa\n",
    "    aa = 1\n",
    "    global aa    "
   ]
  },
  {
   "cell_type": "code",
   "execution_count": 12,
   "id": "6335695b",
   "metadata": {},
   "outputs": [
    {
     "name": "stdout",
     "output_type": "stream",
     "text": [
      "1\n"
     ]
    },
    {
     "ename": "UnboundLocalError",
     "evalue": "local variable 'aa' referenced before assignment",
     "output_type": "error",
     "traceback": [
      "\u001b[1;31m---------------------------------------------------------------------------\u001b[0m",
      "\u001b[1;31mUnboundLocalError\u001b[0m                         Traceback (most recent call last)",
      "\u001b[1;32m~\\AppData\\Local\\Temp/ipykernel_9320/3788739602.py\u001b[0m in \u001b[0;36m<module>\u001b[1;34m\u001b[0m\n\u001b[0;32m     10\u001b[0m \u001b[0massign_test2\u001b[0m\u001b[1;33m(\u001b[0m\u001b[1;36m1\u001b[0m\u001b[1;33m)\u001b[0m\u001b[1;33m\u001b[0m\u001b[1;33m\u001b[0m\u001b[0m\n\u001b[0;32m     11\u001b[0m \u001b[1;33m\u001b[0m\u001b[0m\n\u001b[1;32m---> 12\u001b[1;33m \u001b[0massign_test2\u001b[0m\u001b[1;33m(\u001b[0m\u001b[1;36m0\u001b[0m\u001b[1;33m)\u001b[0m\u001b[1;33m\u001b[0m\u001b[1;33m\u001b[0m\u001b[0m\n\u001b[0m",
      "\u001b[1;32m~\\AppData\\Local\\Temp/ipykernel_9320/3788739602.py\u001b[0m in \u001b[0;36massign_test2\u001b[1;34m(x)\u001b[0m\n\u001b[0;32m      4\u001b[0m     \u001b[1;32mif\u001b[0m \u001b[0mx\u001b[0m \u001b[1;33m:\u001b[0m\u001b[1;33m\u001b[0m\u001b[1;33m\u001b[0m\u001b[0m\n\u001b[0;32m      5\u001b[0m         \u001b[0maa\u001b[0m \u001b[1;33m=\u001b[0m \u001b[0mx\u001b[0m\u001b[1;33m\u001b[0m\u001b[1;33m\u001b[0m\u001b[0m\n\u001b[1;32m----> 6\u001b[1;33m     \u001b[0mprint\u001b[0m\u001b[1;33m(\u001b[0m\u001b[0maa\u001b[0m\u001b[1;33m)\u001b[0m\u001b[1;33m\u001b[0m\u001b[1;33m\u001b[0m\u001b[0m\n\u001b[0m\u001b[0;32m      7\u001b[0m \u001b[1;33m\u001b[0m\u001b[0m\n\u001b[0;32m      8\u001b[0m \u001b[1;31m#====\u001b[0m\u001b[1;33m\u001b[0m\u001b[1;33m\u001b[0m\u001b[1;33m\u001b[0m\u001b[0m\n",
      "\u001b[1;31mUnboundLocalError\u001b[0m: local variable 'aa' referenced before assignment"
     ]
    }
   ],
   "source": [
    "#第一次指派(賦值)的(命名空間)，決定該名稱的可視範圍(Scope)\n",
    "#函式內有賦值即視為區域變數\n",
    "def assign_test2(x):\n",
    "    if x :\n",
    "        aa = x\n",
    "    print(aa)\n",
    "        \n",
    "#====\n",
    "aa = 99\n",
    "assign_test2(1)\n",
    "\n",
    "assign_test2(0)"
   ]
  },
  {
   "cell_type": "code",
   "execution_count": 13,
   "id": "3e60928f",
   "metadata": {},
   "outputs": [
    {
     "name": "stdout",
     "output_type": "stream",
     "text": [
      "99\n",
      "99\n"
     ]
    }
   ],
   "source": [
    "def assign_test3(x):\n",
    "    print(aa)\n",
    "        \n",
    "#====\n",
    "aa = 99\n",
    "assign_test3(1)\n",
    "\n",
    "assign_test3(0)"
   ]
  },
  {
   "cell_type": "markdown",
   "id": "7fcbdcb8",
   "metadata": {},
   "source": [
    "由全域變數看mutable 為function的input"
   ]
  },
  {
   "cell_type": "code",
   "execution_count": 14,
   "id": "a80904e9",
   "metadata": {},
   "outputs": [
    {
     "name": "stdout",
     "output_type": "stream",
     "text": [
      "list before fun: [1, 2, 3]\n",
      "(1) list in fun: [1, 2, 3, 4]\n",
      "list after fun: [1, 2, 3, 4]\n"
     ]
    }
   ],
   "source": [
    "def list_add1(x,lst1=[]): #lst1 為全域\n",
    "    lst1.append(x)\n",
    "    print('(1) list in fun:',lst1)\n",
    "        \n",
    "lst1 = [1, 2, 3]\n",
    "print('list before fun:',lst1)\n",
    "    \n",
    "list_add1(4, lst1)\n",
    "print('list after fun:',lst1)"
   ]
  },
  {
   "cell_type": "code",
   "execution_count": 15,
   "id": "aaa39520",
   "metadata": {},
   "outputs": [
    {
     "name": "stdout",
     "output_type": "stream",
     "text": [
      "list before fun: [1, 2, 3]\n",
      "(2) list in fun: [1, 2, 3, 4]\n",
      "list after fun: [1, 2, 3, 4]\n"
     ]
    }
   ],
   "source": [
    "def list_add2(x,lst2=None):\n",
    "    if lst2 == None:\n",
    "        lst2=[] #lst2 為區域\n",
    "    lst2.append(x)\n",
    "    print('(2) list in fun:',lst2)\n",
    "        \n",
    "lst2 = [1, 2, 3]\n",
    "print('list before fun:',lst2)\n",
    "    \n",
    "list_add2(4, lst2)\n",
    "print('list after fun:',lst2)"
   ]
  },
  {
   "cell_type": "code",
   "execution_count": 16,
   "id": "ddae791c",
   "metadata": {},
   "outputs": [
    {
     "name": "stdout",
     "output_type": "stream",
     "text": [
      "(1) list in fun: [2]\n",
      "(1) list in fun: [2, 4, 6, 2]\n",
      "(1) list in fun: [2, 3]\n",
      "(2) list in fun: [2]\n",
      "(2) list in fun: [2, 4, 6, 2]\n",
      "(2) list in fun: [3]\n"
     ]
    }
   ],
   "source": [
    "# review of mutable in function parameter\n",
    "lst_ts1 = [2, 4, 6]\n",
    "lst_ts2 = [2, 4, 6]\n",
    "#=== \n",
    "#lst1 為全域\n",
    "list_add1(2)\n",
    "list_add1(2,lst_ts1)\n",
    "list_add1(3)\n",
    "\n",
    "#lst2 為區域\n",
    "list_add2(2)\n",
    "list_add2(2,lst_ts2)\n",
    "list_add2(3)"
   ]
  },
  {
   "cell_type": "markdown",
   "id": "89b95fb9",
   "metadata": {},
   "source": [
    "nonlocal變數　＝＝＞ 外圍(Enclosing)；不可為全域"
   ]
  },
  {
   "cell_type": "code",
   "execution_count": 23,
   "id": "816fe905",
   "metadata": {},
   "outputs": [
    {
     "ename": "SyntaxError",
     "evalue": "no binding for nonlocal 'nl_val' found (Temp/ipykernel_9320/2696082810.py, line 5)",
     "output_type": "error",
     "traceback": [
      "\u001b[1;36m  File \u001b[1;32m\"C:\\Users\\User\\AppData\\Local\\Temp/ipykernel_9320/2696082810.py\"\u001b[1;36m, line \u001b[1;32m5\u001b[0m\n\u001b[1;33m    nonlocal nl_val  #nonlocal 表示外層變數，但是一旦外層變數是全域性變數，則只能用 global。\u001b[0m\n\u001b[1;37m    ^\u001b[0m\n\u001b[1;31mSyntaxError\u001b[0m\u001b[1;31m:\u001b[0m no binding for nonlocal 'nl_val' found\n"
     ]
    }
   ],
   "source": [
    "# nonlocal變數　＝＝＞ 要在外圍(Enclosing)\n",
    "def g_nl_test2():\n",
    "    #print('(1) g_nl_test: g_val = ', g_val, ' ; nl_val = ', nl_val)\n",
    "    global g_val \n",
    "    nonlocal nl_val  #nonlocal 表示外層變數，但是一旦外層變數是全域性變數，則只能用 global。\n",
    "        \n",
    "    g_val = 2\n",
    "    nl_val = 2\n",
    "        \n",
    "    print('(2) g_nl_test: g_val = ', g_val, ' ; nl_val = ', nl_val)\n",
    "   \n",
    "#====== test the functions\n",
    "g_val = 0\n",
    "nl_val = 0\n",
    "\n",
    "print('before  g_nl_test: g_val = ', g_val, ' ; nl_val = ', nl_val)\n",
    "\n",
    "g_nl_test2()\n",
    "\n",
    "print('after g_nl_test: g_val = ', g_val, ' ; nl_val = ', nl_val)\n"
   ]
  },
  {
   "cell_type": "code",
   "execution_count": 27,
   "id": "76d1bc7f",
   "metadata": {},
   "outputs": [
    {
     "name": "stdout",
     "output_type": "stream",
     "text": [
      "(1) g_nl_test: g_val =  0  ; nl_val =  1\n",
      "(2) g_nl_test: g_val =  0  ; nl_val =  1\n",
      "inner_test (1): g_val =  0  ; nl_val =  2\n",
      "inner_test (2): g_val =  2  ; nl_val =  2\n",
      "(3) g_nl_test: g_val =  2  ; nl_val =  1\n",
      "after g_nl_test: g_val =  2  ; nl_val =  2\n"
     ]
    }
   ],
   "source": [
    "def g_nl_test3():\n",
    "    nl_val = 1\n",
    "    print('(1) g_nl_test: g_val = ', g_val, ' ; nl_val = ', nl_val)\n",
    "    \n",
    "    def inner_test():\n",
    "        global g_val \n",
    "        global nl_val \n",
    "        \n",
    "        #(1)在全域找不到nl_val\n",
    "        print('inner_test (1): g_val = ', g_val, ' ; nl_val = ', nl_val)\n",
    "        \n",
    "        g_val = 2  #區域變數\n",
    "        nl_val = 2 #區域變數\n",
    "        \n",
    "        print('inner_test (2): g_val = ', g_val, ' ; nl_val = ', nl_val)\n",
    "    \n",
    "    print('(2) g_nl_test: g_val = ', g_val, ' ; nl_val = ', nl_val)\n",
    "    inner_test()\n",
    "    # nl_val 區域變數優先　\n",
    "    print('(3) g_nl_test: g_val = ', g_val, ' ; nl_val = ', nl_val)\n",
    "\n",
    "    \n",
    "#====== test the functions\n",
    "g_val = 0\n",
    "\n",
    "g_nl_test3()\n",
    "\n",
    "print('after g_nl_test: g_val = ', g_val, ' ; nl_val = ', nl_val)\n",
    "################媽的三小###################################################################"
   ]
  },
  {
   "cell_type": "markdown",
   "id": "a8cc5057",
   "metadata": {},
   "source": [
    "[!!注意!!] 不要建立和內建函式名稱相同的變數或函式"
   ]
  },
  {
   "cell_type": "code",
   "execution_count": 6,
   "id": "74bdf778",
   "metadata": {},
   "outputs": [
    {
     "name": "stdout",
     "output_type": "stream",
     "text": [
      "(1) length of lst5 =  3\n"
     ]
    },
    {
     "ename": "TypeError",
     "evalue": "'int' object is not callable",
     "output_type": "error",
     "traceback": [
      "\u001b[0;31m---------------------------------------------------------------------------\u001b[0m",
      "\u001b[0;31mTypeError\u001b[0m                                 Traceback (most recent call last)",
      "\u001b[0;32m<ipython-input-6-bf6ce79b828f>\u001b[0m in \u001b[0;36m<module>\u001b[0;34m\u001b[0m\n\u001b[1;32m      3\u001b[0m \u001b[0;34m\u001b[0m\u001b[0m\n\u001b[1;32m      4\u001b[0m \u001b[0mlen\u001b[0m \u001b[0;34m=\u001b[0m \u001b[0;36m1\u001b[0m \u001b[0;31m#len 指向整數物件\u001b[0m\u001b[0;34m\u001b[0m\u001b[0;34m\u001b[0m\u001b[0m\n\u001b[0;32m----> 5\u001b[0;31m \u001b[0mprint\u001b[0m\u001b[0;34m(\u001b[0m\u001b[0;34m'(2) length of lst5 = '\u001b[0m\u001b[0;34m,\u001b[0m \u001b[0mlen\u001b[0m\u001b[0;34m(\u001b[0m\u001b[0mlst5\u001b[0m\u001b[0;34m)\u001b[0m\u001b[0;34m)\u001b[0m\u001b[0;34m\u001b[0m\u001b[0;34m\u001b[0m\u001b[0m\n\u001b[0m",
      "\u001b[0;31mTypeError\u001b[0m: 'int' object is not callable"
     ]
    }
   ],
   "source": [
    "lst5 = [1, 2 , 3]\n",
    "print('(1) length of lst5 = ', len(lst5))\n",
    "\n",
    "len = 1 #len 指向整數物件\n",
    "print('(2) length of lst5 = ', len(lst5))"
   ]
  }
 ],
 "metadata": {
  "kernelspec": {
   "display_name": "Python 3 (ipykernel)",
   "language": "python",
   "name": "python3"
  },
  "language_info": {
   "codemirror_mode": {
    "name": "ipython",
    "version": 3
   },
   "file_extension": ".py",
   "mimetype": "text/x-python",
   "name": "python",
   "nbconvert_exporter": "python",
   "pygments_lexer": "ipython3",
   "version": "3.8.8"
  }
 },
 "nbformat": 4,
 "nbformat_minor": 5
}
