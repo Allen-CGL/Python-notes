{
 "cells": [
  {
   "cell_type": "markdown",
   "metadata": {},
   "source": [
    "群集 all, any, len, min, max, sum"
   ]
  },
  {
   "cell_type": "code",
   "execution_count": 1,
   "metadata": {},
   "outputs": [
    {
     "name": "stdout",
     "output_type": "stream",
     "text": [
      "True True 6 -7 15 24\n",
      "False True 7 -7 15 24\n"
     ]
    }
   ],
   "source": [
    "L1 = [3, -7, 15, 9, -2, 6]\n",
    "print(all(L1),any(L1),len(L1),min(L1),max(L1),sum(L1))\n",
    "L1.append(0)\n",
    "print(all(L1),any(L1),len(L1),min(L1),max(L1),sum(L1))"
   ]
  },
  {
   "cell_type": "markdown",
   "metadata": {},
   "source": [
    "enumerate 的使用"
   ]
  },
  {
   "cell_type": "code",
   "execution_count": 2,
   "metadata": {},
   "outputs": [
    {
     "name": "stdout",
     "output_type": "stream",
     "text": [
      "1 : apple\n",
      "2 : cherry\n",
      "3 : blueberry\n"
     ]
    }
   ],
   "source": [
    "#using range for a list\n",
    "flavor_list = ['apple', 'cherry', 'blueberry']\n",
    "for i1 in range(len(flavor_list)):\n",
    "    print('{0} : {1}'.format(i1 +1 ,flavor_list[i1]))"
   ]
  },
  {
   "cell_type": "code",
   "execution_count": 3,
   "metadata": {},
   "outputs": [
    {
     "name": "stdout",
     "output_type": "stream",
     "text": [
      "1 : apple\n",
      "2 : cherry\n",
      "3 : blueberry\n"
     ]
    }
   ],
   "source": [
    "#using enumerate for a list\n",
    "flavor_list = ['apple', 'cherry', 'blueberry']\n",
    "for i1, flavor in enumerate(flavor_list):\n",
    "    print('{0} : {1}'.format(i1+1 ,flavor))"
   ]
  },
  {
   "cell_type": "code",
   "execution_count": 4,
   "metadata": {},
   "outputs": [
    {
     "name": "stdout",
     "output_type": "stream",
     "text": [
      "1 : apple\n",
      "2 : cherry\n",
      "3 : blueberry\n"
     ]
    }
   ],
   "source": [
    "#using enumerate for a list\n",
    "flavor_list = ['apple', 'cherry', 'blueberry']\n",
    "for i1, flavor in enumerate(flavor_list, start = 1):\n",
    "    print('{0} : {1}'.format(i1 ,flavor))"
   ]
  },
  {
   "cell_type": "markdown",
   "metadata": {},
   "source": [
    "zip的使用"
   ]
  },
  {
   "cell_type": "code",
   "execution_count": 5,
   "metadata": {},
   "outputs": [
    {
     "name": "stdout",
     "output_type": "stream",
     "text": [
      "(0, 2, 1)\n",
      "(1, 4, 3)\n",
      "(2, 6, 5)\n",
      "(3, 8, 7)\n"
     ]
    }
   ],
   "source": [
    "#same length\n",
    "zip_list = zip(range(4),range(2,9,2),range(1,8,2))\n",
    "for t in zip_list:\n",
    "    print(t)"
   ]
  },
  {
   "cell_type": "code",
   "execution_count": 6,
   "metadata": {},
   "outputs": [
    {
     "name": "stdout",
     "output_type": "stream",
     "text": [
      "(0, 2, 1)\n",
      "(1, 4, 3)\n",
      "(2, 6, 5)\n",
      "(3, 8, 7)\n"
     ]
    }
   ],
   "source": [
    "#different length\n",
    "zip_list = zip(range(4),range(2,11,2),range(1,15,2))\n",
    "for t in zip_list:\n",
    "    print(t)"
   ]
  },
  {
   "cell_type": "code",
   "execution_count": 7,
   "metadata": {},
   "outputs": [
    {
     "name": "stdout",
     "output_type": "stream",
     "text": [
      "Rick 4 letters\n",
      "Eason 5 letters\n",
      "Michael 7 letters\n",
      "Jeffrey 7 letters\n"
     ]
    }
   ],
   "source": [
    "names = ['Rick', 'Eason', 'Michael', 'Jeffrey']\n",
    "letters = [len(n) for n in names]\n",
    "for name, count in zip(names, letters):\n",
    "    print(name,count,'letters')"
   ]
  },
  {
   "cell_type": "markdown",
   "metadata": {},
   "source": [
    "reversed() 使用"
   ]
  },
  {
   "cell_type": "code",
   "execution_count": 8,
   "metadata": {},
   "outputs": [
    {
     "data": {
      "text/plain": [
       "[0, 1, 2, 3, 4, 5]"
      ]
     },
     "execution_count": 8,
     "metadata": {},
     "output_type": "execute_result"
    }
   ],
   "source": [
    "list(range(6))"
   ]
  },
  {
   "cell_type": "code",
   "execution_count": 9,
   "metadata": {},
   "outputs": [
    {
     "data": {
      "text/plain": [
       "[5, 4, 3, 2, 1, 0]"
      ]
     },
     "execution_count": 9,
     "metadata": {},
     "output_type": "execute_result"
    }
   ],
   "source": [
    "list(reversed(range(6)))"
   ]
  },
  {
   "cell_type": "markdown",
   "metadata": {},
   "source": [
    "sorted() 使用"
   ]
  },
  {
   "cell_type": "code",
   "execution_count": 1,
   "metadata": {},
   "outputs": [
    {
     "name": "stdout",
     "output_type": "stream",
     "text": [
      "[-10, 1, 4, -8, 3, 6, -6, 5, 8, -4, 7, 10]\n",
      "sort: [-10, -8, -6, -4, 1, 3, 4, 5, 6, 7, 8, 10]\n",
      "reverse sort: [10, 8, 7, 6, 5, 4, 3, 1, -4, -6, -8, -10]\n",
      "abs sort: [1, 3, 4, -4, 5, 6, -6, 7, -8, 8, -10, 10]\n"
     ]
    }
   ],
   "source": [
    "x = []\n",
    "for t in zip(range(-10,-2,2),range(1,8,2),range(4,11,2)):\n",
    "    x.extend(t)\n",
    "    #x += t\n",
    "print(x)    \n",
    "print('sort:', sorted(x))\n",
    "print('reverse sort:', sorted(x, reverse=True))\n",
    "print('abs sort:',sorted(x, key=abs))"
   ]
  },
  {
   "cell_type": "code",
   "execution_count": 2,
   "metadata": {},
   "outputs": [
    {
     "name": "stdout",
     "output_type": "stream",
     "text": [
      "Before: ['Book', 'apple', 'Time', 'Cloth', 'yo-yo']\n",
      "sort:  ['Book', 'Cloth', 'Time', 'apple', 'yo-yo']\n",
      "After: ['apple', 'Book', 'Cloth', 'Time', 'yo-yo']\n"
     ]
    }
   ],
   "source": [
    "# sort by key = lowercase\n",
    "x = ['Book', 'apple', 'Time', 'Cloth', 'yo-yo']\n",
    "print('Before:',x)\n",
    "x0 = sorted(x)\n",
    "print ('sort: ',x0)\n",
    "x = sorted(x, key = str.lower)\n",
    "print('After:',x)"
   ]
  },
  {
   "cell_type": "code",
   "execution_count": 3,
   "metadata": {},
   "outputs": [
    {
     "name": "stdout",
     "output_type": "stream",
     "text": [
      "sorted: [(1, 'Time'), (2, 'Book'), (2, 'yo-yo'), (3, 'Cloth'), (4, 'apple')]\n"
     ]
    }
   ],
   "source": [
    "# sort to differnt levels\n",
    "x = ['Book', 'apple', 'Time', 'Cloth', 'yo-yo']\n",
    "number = [2, 4, 1, 3, 2]\n",
    "x2 = zip(number,x)\n",
    "x2 = sorted(x2)\n",
    "print('sorted:', x2)"
   ]
  },
  {
   "cell_type": "code",
   "execution_count": 10,
   "metadata": {},
   "outputs": [
    {
     "name": "stdout",
     "output_type": "stream",
     "text": [
      "sorted by number: [('Jeffrey', 2), ('Eason', 3), ('Rick', 5), ('Michael', 10)]\n"
     ]
    }
   ],
   "source": [
    "#sort by key = swap\n",
    "def swap(t):\n",
    "    return t[1], t[0]\n",
    "names = ['Rick', 'Eason', 'Michael', 'Jeffrey']\n",
    "persons = [5, 3, 10, 2]\n",
    "sort_by_num = sorted(zip(names,persons),key=swap)\n",
    "print('sorted by number:',sort_by_num)\n",
    "####################################################################################################################"
   ]
  },
  {
   "cell_type": "code",
   "execution_count": 11,
   "metadata": {},
   "outputs": [
    {
     "ename": "TypeError",
     "evalue": "'<' not supported between instances of 'str' and 'int'",
     "output_type": "error",
     "traceback": [
      "\u001b[1;31m---------------------------------------------------------------------------\u001b[0m",
      "\u001b[1;31mTypeError\u001b[0m                                 Traceback (most recent call last)",
      "\u001b[1;32m~\\AppData\\Local\\Temp/ipykernel_12576/2001959577.py\u001b[0m in \u001b[0;36m<module>\u001b[1;34m\u001b[0m\n\u001b[0;32m      1\u001b[0m \u001b[1;31m#case of TypeError\u001b[0m\u001b[1;33m\u001b[0m\u001b[1;33m\u001b[0m\u001b[1;33m\u001b[0m\u001b[0m\n\u001b[1;32m----> 2\u001b[1;33m \u001b[0msorted\u001b[0m\u001b[1;33m(\u001b[0m\u001b[1;33m[\u001b[0m\u001b[1;36m3\u001b[0m\u001b[1;33m,\u001b[0m \u001b[1;34m'book'\u001b[0m\u001b[1;33m,\u001b[0m \u001b[1;33m-\u001b[0m\u001b[1;36m3\u001b[0m\u001b[1;33m,\u001b[0m \u001b[1;36m7.7\u001b[0m\u001b[1;33m,\u001b[0m \u001b[1;36m94.87\u001b[0m\u001b[1;33m]\u001b[0m\u001b[1;33m)\u001b[0m\u001b[1;33m\u001b[0m\u001b[1;33m\u001b[0m\u001b[0m\n\u001b[0m",
      "\u001b[1;31mTypeError\u001b[0m: '<' not supported between instances of 'str' and 'int'"
     ]
    }
   ],
   "source": [
    "#case of TypeError\n",
    "sorted([3, 'book', -3, 7.7, 94.87])"
   ]
  },
  {
   "cell_type": "code",
   "execution_count": 12,
   "metadata": {},
   "outputs": [
    {
     "name": "stdout",
     "output_type": "stream",
     "text": [
      "sorted list: ['-9.4', 3.5, '3.75', 7, '12.34', 101]\n"
     ]
    }
   ],
   "source": [
    "# Using float \n",
    "list1 = [3.5, '-9.4', 7, '3.75', 101, '12.34']\n",
    "#s1 = sorted(list1) #TypeError\n",
    "s2 = sorted(list1,key=float)\n",
    "print('sorted list:',s2)"
   ]
  },
  {
   "cell_type": "markdown",
   "metadata": {},
   "source": [
    "群集的迭代 Quiz"
   ]
  },
  {
   "cell_type": "code",
   "execution_count": 8,
   "metadata": {},
   "outputs": [
    {
     "name": "stdout",
     "output_type": "stream",
     "text": [
      "[(0, 1, -5), (1, 4, -3), (2, 7, -1), (3, 10, 1)]\n",
      "(2, 7, -1)\n"
     ]
    }
   ],
   "source": [
    "x1 = []\n",
    "for t in zip(range(4),range(1,11,3),range(-5,2,2)):\n",
    "    x1.append(t)\n",
    "print(x1)\n",
    "print(x1[2])"
   ]
  },
  {
   "cell_type": "code",
   "execution_count": 9,
   "metadata": {},
   "outputs": [
    {
     "name": "stdout",
     "output_type": "stream",
     "text": [
      "('Eason', 3, 5)\n"
     ]
    }
   ],
   "source": [
    "def swap2(t):\n",
    "    return t[2], t[0]\n",
    "x1 = ['Rick', 'Eason', 'Michael', 'Jeffrey']\n",
    "x2 = [5, 3, 10, 2]\n",
    "x3 = [7, 5, 1 ,3]\n",
    "sort_x = sorted(zip(x1,x2,x3),key=swap2)\n",
    "print(sort_x[2])"
   ]
  }
 ],
 "metadata": {
  "kernelspec": {
   "display_name": "Python 3 (ipykernel)",
   "language": "python",
   "name": "python3"
  },
  "language_info": {
   "codemirror_mode": {
    "name": "ipython",
    "version": 3
   },
   "file_extension": ".py",
   "mimetype": "text/x-python",
   "name": "python",
   "nbconvert_exporter": "python",
   "pygments_lexer": "ipython3",
   "version": "3.8.8"
  }
 },
 "nbformat": 4,
 "nbformat_minor": 4
}
