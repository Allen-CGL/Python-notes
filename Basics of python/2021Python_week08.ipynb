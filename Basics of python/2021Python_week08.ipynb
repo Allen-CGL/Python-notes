{
 "cells": [
  {
   "cell_type": "markdown",
   "metadata": {},
   "source": [
    "檔案操作"
   ]
  },
  {
   "cell_type": "code",
   "execution_count": 1,
   "metadata": {},
   "outputs": [
    {
     "name": "stdout",
     "output_type": "stream",
     "text": [
      "See You Again\n",
      "\n"
     ]
    }
   ],
   "source": [
    "# open a file & read a single line\n",
    "fin = open('/Users/rick/Desktop/SeeYouAgain.txt','r')\n",
    "print(fin.readline())\n",
    "fin.close()"
   ]
  },
  {
   "cell_type": "code",
   "execution_count": 2,
   "metadata": {},
   "outputs": [
    {
     "name": "stdout",
     "output_type": "stream",
     "text": [
      "See You Again\n",
      "\n",
      "It's been a long day without you, my friend\n",
      "\n",
      "And I'll tell you all about it when I see you again\n",
      "\n",
      "We've come a long way from where we began\n",
      "\n",
      "Oh, I'll tell you all about it when I see you again\n",
      "\n",
      "When I see you again\n"
     ]
    }
   ],
   "source": [
    "# open a file & read all lines\n",
    "fin = open('/Users/rick/Desktop/SeeYouAgain.txt','r')\n",
    "for line in fin.readlines():\n",
    "    print(line)\n",
    "fin.close()"
   ]
  },
  {
   "cell_type": "code",
   "execution_count": 3,
   "metadata": {},
   "outputs": [
    {
     "name": "stdout",
     "output_type": "stream",
     "text": [
      "See You Again\n",
      "\n",
      "It's been a long day without you, my friend\n",
      "\n",
      "And I'll tell you all about it when I see you again\n",
      "\n",
      "We've come a long way from where we began\n",
      "\n",
      "Oh, I'll tell you all about it when I see you again\n",
      "\n",
      "When I see you again\n"
     ]
    }
   ],
   "source": [
    "# open a file & read & print it all\n",
    "fin = open('/Users/rick/Desktop/SeeYouAgain.txt','r')\n",
    "for line in fin:\n",
    "    print(line)\n",
    "fin.close()    "
   ]
  },
  {
   "cell_type": "code",
   "execution_count": 4,
   "metadata": {},
   "outputs": [
    {
     "name": "stdout",
     "output_type": "stream",
     "text": [
      "See You Again\n",
      "It's been a long day without you, my friend\n",
      "And I'll tell you all about it when I see you again\n",
      "We've come a long way from where we began\n",
      "Oh, I'll tell you all about it when I see you again\n",
      "When I see you again\n"
     ]
    }
   ],
   "source": [
    "# open a file & read & print it all\n",
    "#Using strip to remove \\n\n",
    "fin = open('/Users/rick/Desktop/SeeYouAgain.txt','r')\n",
    "for line in fin:\n",
    "    print(line.strip())\n",
    "fin.close() "
   ]
  },
  {
   "cell_type": "code",
   "execution_count": 5,
   "metadata": {},
   "outputs": [
    {
     "name": "stdout",
     "output_type": "stream",
     "text": [
      "line 0 See You Again\n",
      "line 1 It's been a long day without you, my friend\n",
      "line 2 And I'll tell you all about it when I see you again\n",
      "line 3 We've come a long way from where we began\n",
      "line 4 Oh, I'll tell you all about it when I see you again\n",
      "line 5 When I see you again\n"
     ]
    }
   ],
   "source": [
    "# open a file & read & print it all\n",
    "#Using strip to remove \\n\n",
    "fin = open('/Users/rick/Desktop/SeeYouAgain.txt','r')\n",
    "for i1, line in enumerate(fin):\n",
    "    print('line',i1, line.strip())\n",
    "fin.close() "
   ]
  },
  {
   "cell_type": "code",
   "execution_count": null,
   "metadata": {},
   "outputs": [],
   "source": []
  },
  {
   "cell_type": "code",
   "execution_count": 6,
   "metadata": {},
   "outputs": [],
   "source": [
    "# copy text in a file\n",
    "fin = open('/Users/rick/Desktop/SeeYouAgain.txt','r')\n",
    "fout = open('/Users/rick/Desktop/SeeYouAgain_copy.txt','w')\n",
    "for line in fin:\n",
    "    fout.write(line)\n",
    "fin.close()\n",
    "fout.close()"
   ]
  },
  {
   "cell_type": "code",
   "execution_count": 7,
   "metadata": {},
   "outputs": [],
   "source": [
    "# examples of write \n",
    "text_list=['Lemon Tree',\"I'm sitting here in a boring room\", \"it's just another rainy Sunday afternoon\"]\n",
    "fout = open('/Users/rick/Desktop/LemonTree1.txt','w')\n",
    "for text in text_list:\n",
    "    fout.write(text)\n",
    "fout.close()        "
   ]
  },
  {
   "cell_type": "code",
   "execution_count": 8,
   "metadata": {},
   "outputs": [],
   "source": [
    "# examples of write with \\n\n",
    "text_list=['Lemon Tree',\"I'm sitting here in a boring room\", \"it's just another rainy Sunday afternoon\"]\n",
    "fout = open('/Users/rick/Desktop/LemonTree2.txt','w')\n",
    "for text in text_list:\n",
    "    fout.write(text + '\\n')\n",
    "fout.close()   "
   ]
  },
  {
   "cell_type": "code",
   "execution_count": null,
   "metadata": {},
   "outputs": [],
   "source": []
  }
 ],
 "metadata": {
  "kernelspec": {
   "display_name": "Python 3 (ipykernel)",
   "language": "python",
   "name": "python3"
  },
  "language_info": {
   "codemirror_mode": {
    "name": "ipython",
    "version": 3
   },
   "file_extension": ".py",
   "mimetype": "text/x-python",
   "name": "python",
   "nbconvert_exporter": "python",
   "pygments_lexer": "ipython3",
   "version": "3.8.8"
  }
 },
 "nbformat": 4,
 "nbformat_minor": 4
}
