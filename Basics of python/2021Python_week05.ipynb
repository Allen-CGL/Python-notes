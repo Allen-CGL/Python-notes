{
 "cells": [
  {
   "cell_type": "markdown",
   "metadata": {},
   "source": [
    "迴圈流程控制"
   ]
  },
  {
   "cell_type": "code",
   "execution_count": 3,
   "metadata": {},
   "outputs": [
    {
     "name": "stdout",
     "output_type": "stream",
     "text": [
      "92\n",
      "37\n",
      "score : 37 failed\n"
     ]
    }
   ],
   "source": [
    "scores = [92, 37, 89, 75, 62, 45]\n",
    "for i1 in scores:\n",
    "    print(i1)\n",
    "    if i1 < 60: \n",
    "        print('score : ' + str(i1) + ' failed')\n",
    "        break"
   ]
  },
  {
   "cell_type": "code",
   "execution_count": 2,
   "metadata": {},
   "outputs": [
    {
     "name": "stdout",
     "output_type": "stream",
     "text": [
      "pass 92\n",
      "37\n",
      "pass 89\n",
      "pass 75\n",
      "pass 62\n",
      "45\n",
      "4 student(s) passed!\n"
     ]
    }
   ],
   "source": [
    "scores = [92, 37, 89, 75, 62, 45]\n",
    "pass_num = 0\n",
    "for i1 in scores:\n",
    "    if i1 < 60: \n",
    "        print(i1)\n",
    "        continue\n",
    "    print('pass',i1)\n",
    "    pass_num = pass_num + 1\n",
    "print(str(pass_num) + ' student(s) passed!')"
   ]
  },
  {
   "cell_type": "markdown",
   "metadata": {},
   "source": [
    "turtle module"
   ]
  },
  {
   "cell_type": "code",
   "execution_count": 3,
   "metadata": {},
   "outputs": [
    {
     "name": "stdin",
     "output_type": "stream",
     "text": [
      "input a number: 5\n"
     ]
    },
    {
     "name": "stdout",
     "output_type": "stream",
     "text": [
      "5.0\n"
     ]
    }
   ],
   "source": [
    "num = float(input('input a number:'))\n",
    "print(num)"
   ]
  },
  {
   "cell_type": "code",
   "execution_count": null,
   "metadata": {},
   "outputs": [],
   "source": [
    "import turtle\n",
    "turtle.fd(100) # forward 100 pixels\n",
    "turtle.lt(90) #left turn 90 degree\n",
    "turtle.fd(100)\n"
   ]
  },
  {
   "cell_type": "code",
   "execution_count": null,
   "metadata": {},
   "outputs": [],
   "source": [
    "turtle.clear()\n",
    "#turtle.Screen().bye()"
   ]
  },
  {
   "cell_type": "code",
   "execution_count": null,
   "metadata": {},
   "outputs": [],
   "source": [
    "import turtle\n",
    "turtle.clear()\n",
    "turtle.fd(100) # forward 100 pixels\n",
    "turtle.lt(90) #left turn 90 degree\n",
    "turtle.fd(100)\n",
    "turtle.lt(90)\n",
    "turtle.fd(100)\n",
    "turtle.lt(90)\n",
    "turtle.fd(100)\n",
    "turtle.lt(90)"
   ]
  },
  {
   "cell_type": "markdown",
   "metadata": {},
   "source": [
    "function recursion "
   ]
  },
  {
   "cell_type": "code",
   "execution_count": 1,
   "metadata": {},
   "outputs": [
    {
     "name": "stdout",
     "output_type": "stream",
     "text": [
      "5\n",
      "4\n",
      "3\n",
      "2\n",
      "1\n",
      "Blastoff!!!\n"
     ]
    }
   ],
   "source": [
    "def countdown(n):\n",
    "    #print('call countdown : ' + str(n))\n",
    "    if n <= 0:\n",
    "        print('Blastoff!!!')\n",
    "    else:\n",
    "        print(n)\n",
    "        countdown(n-1) # recursion\n",
    "        \n",
    "countdown(5)"
   ]
  },
  {
   "cell_type": "code",
   "execution_count": 2,
   "metadata": {},
   "outputs": [
    {
     "name": "stdout",
     "output_type": "stream",
     "text": [
      "call 4\n",
      "call 3\n",
      "call 2\n",
      "call 1\n",
      "call 0\n"
     ]
    },
    {
     "data": {
      "text/plain": [
       "24"
      ]
     },
     "execution_count": 2,
     "metadata": {},
     "output_type": "execute_result"
    }
   ],
   "source": [
    "def factorial(n):\n",
    "    print('call ' + str(n))\n",
    "    if n == 0:\n",
    "        return 1\n",
    "    else:\n",
    "        recurse = factorial(n-1)\n",
    "        result = n * recurse\n",
    "        return result\n",
    "    \n",
    "factorial(4)"
   ]
  },
  {
   "cell_type": "markdown",
   "metadata": {},
   "source": [
    "try-except basic"
   ]
  },
  {
   "cell_type": "code",
   "execution_count": 3,
   "metadata": {},
   "outputs": [
    {
     "ename": "ValueError",
     "evalue": "invalid literal for int() with base 10: '9.9'",
     "output_type": "error",
     "traceback": [
      "\u001b[1;31m---------------------------------------------------------------------------\u001b[0m",
      "\u001b[1;31mValueError\u001b[0m                                Traceback (most recent call last)",
      "\u001b[1;32m~\\AppData\\Local\\Temp/ipykernel_12520/1766475340.py\u001b[0m in \u001b[0;36m<module>\u001b[1;34m\u001b[0m\n\u001b[1;32m----> 1\u001b[1;33m \u001b[0mint\u001b[0m\u001b[1;33m(\u001b[0m\u001b[1;34m'9.9'\u001b[0m\u001b[1;33m)\u001b[0m\u001b[1;33m\u001b[0m\u001b[1;33m\u001b[0m\u001b[0m\n\u001b[0m",
      "\u001b[1;31mValueError\u001b[0m: invalid literal for int() with base 10: '9.9'"
     ]
    }
   ],
   "source": [
    "int('9.9')"
   ]
  },
  {
   "cell_type": "code",
   "execution_count": 4,
   "metadata": {},
   "outputs": [
    {
     "ename": "ValueError",
     "evalue": "invalid literal for int() with base 10: 'abc'",
     "output_type": "error",
     "traceback": [
      "\u001b[1;31m---------------------------------------------------------------------------\u001b[0m",
      "\u001b[1;31mValueError\u001b[0m                                Traceback (most recent call last)",
      "\u001b[1;32m~\\AppData\\Local\\Temp/ipykernel_12520/186767990.py\u001b[0m in \u001b[0;36m<module>\u001b[1;34m\u001b[0m\n\u001b[1;32m----> 1\u001b[1;33m \u001b[0mint\u001b[0m\u001b[1;33m(\u001b[0m\u001b[1;34m'abc'\u001b[0m\u001b[1;33m)\u001b[0m\u001b[1;33m\u001b[0m\u001b[1;33m\u001b[0m\u001b[0m\n\u001b[0m",
      "\u001b[1;31mValueError\u001b[0m: invalid literal for int() with base 10: 'abc'"
     ]
    }
   ],
   "source": [
    "int('abc')"
   ]
  },
  {
   "cell_type": "code",
   "execution_count": 6,
   "metadata": {},
   "outputs": [
    {
     "name": "stdin",
     "output_type": "stream",
     "text": [
      "enter an interger:  7.2\n"
     ]
    },
    {
     "name": "stdout",
     "output_type": "stream",
     "text": [
      "system msg: invalid literal for int() with base 10: '7.2' check your input!\n"
     ]
    }
   ],
   "source": [
    "s = input('enter an interger: ')\n",
    "try:\n",
    "    i = int(s)\n",
    "    print('valid integer entered:', i)\n",
    "except ValueError as err:\n",
    "    print('system msg:',err,'check your input!')"
   ]
  },
  {
   "cell_type": "code",
   "execution_count": 7,
   "metadata": {},
   "outputs": [
    {
     "name": "stdin",
     "output_type": "stream",
     "text": [
      "enter an interger:  3\n"
     ]
    },
    {
     "name": "stdout",
     "output_type": "stream",
     "text": [
      "valid integer entered: 3\n"
     ]
    }
   ],
   "source": [
    "s = input('enter an interger: ')\n",
    "try:\n",
    "    i = int(s)\n",
    "    print('valid integer entered:', i)\n",
    "except:\n",
    "    print('Error: check your input!')"
   ]
  },
  {
   "cell_type": "markdown",
   "metadata": {},
   "source": [
    "recursion quiz"
   ]
  },
  {
   "cell_type": "code",
   "execution_count": 1,
   "metadata": {},
   "outputs": [
    {
     "name": "stdout",
     "output_type": "stream",
     "text": [
      "call fun : 3 0\n",
      "n =  3  s =  0\n",
      "call fun : 2 3\n",
      "n =  2  s =  3\n",
      "call fun : 1 5\n",
      "n =  1  s =  5\n",
      "call fun : 0 6\n",
      "6\n"
     ]
    }
   ],
   "source": [
    "def recurse(n,s):\n",
    "    print('call fun :',n,s)\n",
    "    if n == 0:\n",
    "        print(s)\n",
    "    else:\n",
    "        print('n = ',n,' s = ',s)\n",
    "        recurse(n-1,n+s)\n",
    "recurse(3,0)\n",
    "#recurse(-1,0)"
   ]
  },
  {
   "cell_type": "markdown",
   "metadata": {},
   "source": [
    "List methods"
   ]
  },
  {
   "cell_type": "code",
   "execution_count": 1,
   "metadata": {},
   "outputs": [
    {
     "name": "stdout",
     "output_type": "stream",
     "text": [
      "['apple', 'bnanan', 'orange']\n"
     ]
    }
   ],
   "source": [
    "fruit = ['apple', 'bnanan', 'orange']\n",
    "print(fruit)"
   ]
  },
  {
   "cell_type": "code",
   "execution_count": 2,
   "metadata": {},
   "outputs": [
    {
     "name": "stdout",
     "output_type": "stream",
     "text": [
      "['apple', 'bnanan', 'orange', 'grape']\n"
     ]
    }
   ],
   "source": [
    "fruit.append('grape')\n",
    "print(fruit)"
   ]
  },
  {
   "cell_type": "code",
   "execution_count": 3,
   "metadata": {},
   "outputs": [
    {
     "name": "stdout",
     "output_type": "stream",
     "text": [
      "['apple', 'bnanan', 'orange', 'grape', 'pear', 'cherry']\n"
     ]
    }
   ],
   "source": [
    "fruit.extend(['pear', 'cherry'])\n",
    "print(fruit)"
   ]
  },
  {
   "cell_type": "code",
   "execution_count": 4,
   "metadata": {},
   "outputs": [
    {
     "name": "stdout",
     "output_type": "stream",
     "text": [
      "['pineapple', 'apple', 'bnanan', 'orange', 'grape', 'pear', 'cherry']\n"
     ]
    }
   ],
   "source": [
    "fruit.insert(0, 'pineapple')\n",
    "print(fruit)"
   ]
  },
  {
   "cell_type": "code",
   "execution_count": 5,
   "metadata": {},
   "outputs": [
    {
     "name": "stdout",
     "output_type": "stream",
     "text": [
      "['pineapple', 'apple', 'bnanan', 'orange', 'grape', 'pear']\n"
     ]
    }
   ],
   "source": [
    "fruit.pop()\n",
    "print(fruit)"
   ]
  },
  {
   "cell_type": "code",
   "execution_count": 6,
   "metadata": {},
   "outputs": [
    {
     "name": "stdout",
     "output_type": "stream",
     "text": [
      "['apple', 'bnanan', 'orange', 'grape', 'pear']\n"
     ]
    }
   ],
   "source": [
    "fruit.pop(0)\n",
    "print(fruit)"
   ]
  },
  {
   "cell_type": "code",
   "execution_count": 7,
   "metadata": {},
   "outputs": [
    {
     "name": "stdout",
     "output_type": "stream",
     "text": [
      "['bnanan', 'orange', 'grape', 'pear']\n"
     ]
    }
   ],
   "source": [
    "fruit.remove('apple')\n",
    "print(fruit)"
   ]
  },
  {
   "cell_type": "code",
   "execution_count": 8,
   "metadata": {},
   "outputs": [
    {
     "name": "stdout",
     "output_type": "stream",
     "text": [
      "['bnanan', 'grape', 'pear']\n"
     ]
    }
   ],
   "source": [
    "del fruit[1:2]\n",
    "print(fruit)"
   ]
  },
  {
   "cell_type": "code",
   "execution_count": 9,
   "metadata": {},
   "outputs": [
    {
     "name": "stdout",
     "output_type": "stream",
     "text": [
      "['A', 'X', 'Y', 'D', 'E']\n"
     ]
    }
   ],
   "source": [
    "L1 = ['A','B','C','D','E']\n",
    "L1[1:3] = ['X','Y']\n",
    "print(L1)"
   ]
  },
  {
   "cell_type": "code",
   "execution_count": 10,
   "metadata": {},
   "outputs": [
    {
     "name": "stdout",
     "output_type": "stream",
     "text": [
      "['A', 'X', 'Y', 'Z', 'C', 'D', 'E']\n"
     ]
    }
   ],
   "source": [
    "L1 = ['A','B','C','D','E']\n",
    "L1[1:2] = ['X','Y','Z']\n",
    "print(L1)"
   ]
  },
  {
   "cell_type": "code",
   "execution_count": 11,
   "metadata": {},
   "outputs": [
    {
     "name": "stdout",
     "output_type": "stream",
     "text": [
      "['A', 'D', 'E']\n"
     ]
    }
   ],
   "source": [
    "L1 = ['A','B','C','D','E']\n",
    "L1[1:3] = []\n",
    "print(L1)"
   ]
  },
  {
   "cell_type": "code",
   "execution_count": 12,
   "metadata": {},
   "outputs": [
    {
     "name": "stdout",
     "output_type": "stream",
     "text": [
      "length of list 1 = 4\n",
      "length of list 2 = 3\n",
      "length of 3rd element in list 2 = 2\n"
     ]
    }
   ],
   "source": [
    "list_1 = ['a', 3, 'b', 13.2]\n",
    "print('length of list 1 = ' + str(len(list_1)))\n",
    "list_2 = ['a', 3, ['b', 13.2]]\n",
    "print('length of list 2 = ' + str(len(list_2)))\n",
    "print('length of 3rd element in list 2 = ' + str(len(list_2[2])))"
   ]
  },
  {
   "cell_type": "markdown",
   "metadata": {},
   "source": [
    "List quiz1"
   ]
  },
  {
   "cell_type": "code",
   "execution_count": 5,
   "metadata": {},
   "outputs": [
    {
     "name": "stdout",
     "output_type": "stream",
     "text": [
      "4\n",
      "['apple', 'bnanan', 'orange', ['lemon', 'peach']]\n"
     ]
    }
   ],
   "source": [
    "fruit2 = ['apple', 'bnanan', 'orange']\n",
    "fruit2.append(['lemon', 'peach']) # append add \"1\" element\n",
    "print(len(fruit2))\n",
    "print(fruit2)"
   ]
  },
  {
   "cell_type": "code",
   "execution_count": 6,
   "metadata": {},
   "outputs": [
    {
     "ename": "ValueError",
     "evalue": "list.remove(x): x not in list",
     "output_type": "error",
     "traceback": [
      "\u001b[1;31m---------------------------------------------------------------------------\u001b[0m",
      "\u001b[1;31mValueError\u001b[0m                                Traceback (most recent call last)",
      "\u001b[1;32m~\\AppData\\Local\\Temp/ipykernel_2008/987261707.py\u001b[0m in \u001b[0;36m<module>\u001b[1;34m\u001b[0m\n\u001b[1;32m----> 1\u001b[1;33m \u001b[0mfruit2\u001b[0m\u001b[1;33m.\u001b[0m\u001b[0mremove\u001b[0m\u001b[1;33m(\u001b[0m\u001b[1;34m'lemon'\u001b[0m\u001b[1;33m)\u001b[0m\u001b[1;33m\u001b[0m\u001b[1;33m\u001b[0m\u001b[0m\n\u001b[0m\u001b[0;32m      2\u001b[0m \u001b[0mprint\u001b[0m\u001b[1;33m(\u001b[0m\u001b[0mfruit2\u001b[0m\u001b[1;33m)\u001b[0m\u001b[1;33m\u001b[0m\u001b[1;33m\u001b[0m\u001b[0m\n",
      "\u001b[1;31mValueError\u001b[0m: list.remove(x): x not in list"
     ]
    }
   ],
   "source": [
    "fruit2.remove('lemon')\n",
    "print(fruit2)"
   ]
  },
  {
   "cell_type": "code",
   "execution_count": 15,
   "metadata": {},
   "outputs": [
    {
     "name": "stdout",
     "output_type": "stream",
     "text": [
      "['apple', 'bnanan', 'orange']\n"
     ]
    }
   ],
   "source": [
    "fruit2.remove(['lemon', 'peach'])\n",
    "print(fruit2)"
   ]
  },
  {
   "cell_type": "markdown",
   "metadata": {},
   "source": [
    "Input example (Homework 06)"
   ]
  },
  {
   "cell_type": "code",
   "execution_count": 21,
   "metadata": {},
   "outputs": [
    {
     "name": "stdout",
     "output_type": "stream",
     "text": [
      "Type a value; or just Enter to finish :\n",
      "No input value!\n"
     ]
    }
   ],
   "source": [
    "value = input('Type a value; or just Enter to finish :')\n",
    "if value:\n",
    "    try:\n",
    "        number = float(value)\n",
    "        print('Your input value : ',number)\n",
    "    except ValueError as err_msg:\n",
    "        print('ERROR:' + str(err_msg))\n",
    "else:\n",
    "    print('No input value!')"
   ]
  },
  {
   "cell_type": "markdown",
   "metadata": {},
   "source": [
    "temp"
   ]
  },
  {
   "cell_type": "code",
   "execution_count": 2,
   "metadata": {},
   "outputs": [
    {
     "data": {
      "text/plain": [
       "['C:\\\\Users\\\\User',\n",
       " 'C:\\\\Users\\\\User\\\\anaconda3\\\\python38.zip',\n",
       " 'C:\\\\Users\\\\User\\\\anaconda3\\\\DLLs',\n",
       " 'C:\\\\Users\\\\User\\\\anaconda3\\\\lib',\n",
       " 'C:\\\\Users\\\\User\\\\anaconda3',\n",
       " '',\n",
       " 'C:\\\\Users\\\\User\\\\anaconda3\\\\lib\\\\site-packages',\n",
       " 'C:\\\\Users\\\\User\\\\anaconda3\\\\lib\\\\site-packages\\\\win32',\n",
       " 'C:\\\\Users\\\\User\\\\anaconda3\\\\lib\\\\site-packages\\\\win32\\\\lib',\n",
       " 'C:\\\\Users\\\\User\\\\anaconda3\\\\lib\\\\site-packages\\\\Pythonwin',\n",
       " 'C:\\\\Users\\\\User\\\\anaconda3\\\\lib\\\\site-packages\\\\IPython\\\\extensions',\n",
       " 'C:\\\\Users\\\\User\\\\.ipython']"
      ]
     },
     "execution_count": 2,
     "metadata": {},
     "output_type": "execute_result"
    }
   ],
   "source": [
    "import sys; sys.path"
   ]
  },
  {
   "cell_type": "code",
   "execution_count": 3,
   "metadata": {},
   "outputs": [
    {
     "name": "stdout",
     "output_type": "stream",
     "text": [
      "a 6\n"
     ]
    }
   ],
   "source": [
    "print('a',6)"
   ]
  },
  {
   "cell_type": "code",
   "execution_count": 4,
   "metadata": {},
   "outputs": [
    {
     "data": {
      "text/plain": [
       "True"
      ]
     },
     "execution_count": 4,
     "metadata": {},
     "output_type": "execute_result"
    }
   ],
   "source": [
    "aa = 6\n",
    "bb = 6\n",
    "aa is bb"
   ]
  },
  {
   "cell_type": "code",
   "execution_count": 5,
   "metadata": {},
   "outputs": [
    {
     "name": "stdout",
     "output_type": "stream",
     "text": [
      "7\n",
      "6\n"
     ]
    }
   ],
   "source": [
    "aa = aa + 1\n",
    "print(aa)\n",
    "print(bb)"
   ]
  },
  {
   "cell_type": "code",
   "execution_count": 6,
   "metadata": {},
   "outputs": [
    {
     "data": {
      "text/plain": [
       "True"
      ]
     },
     "execution_count": 6,
     "metadata": {},
     "output_type": "execute_result"
    }
   ],
   "source": [
    "list_int = [6,7]\n",
    "aa is list_int[1]"
   ]
  },
  {
   "cell_type": "code",
   "execution_count": 7,
   "metadata": {},
   "outputs": [
    {
     "data": {
      "text/plain": [
       "True"
      ]
     },
     "execution_count": 7,
     "metadata": {},
     "output_type": "execute_result"
    }
   ],
   "source": [
    "bb is list_int[0]"
   ]
  },
  {
   "cell_type": "code",
   "execution_count": 8,
   "metadata": {},
   "outputs": [
    {
     "data": {
      "text/plain": [
       "False"
      ]
     },
     "execution_count": 8,
     "metadata": {},
     "output_type": "execute_result"
    }
   ],
   "source": [
    "bb is list_int[1]"
   ]
  },
  {
   "cell_type": "code",
   "execution_count": 8,
   "metadata": {},
   "outputs": [
    {
     "name": "stdout",
     "output_type": "stream",
     "text": [
      "['a', 'p', 'p', 'l', 'e']\n"
     ]
    }
   ],
   "source": [
    "list1= list('apple')\n",
    "print(list1)"
   ]
  },
  {
   "cell_type": "code",
   "execution_count": 10,
   "metadata": {},
   "outputs": [
    {
     "name": "stdout",
     "output_type": "stream",
     "text": [
      "dx = 3\n",
      "dy = 4\n",
      "dsquared = 25\n"
     ]
    },
    {
     "data": {
      "text/plain": [
       "5.0"
      ]
     },
     "execution_count": 10,
     "metadata": {},
     "output_type": "execute_result"
    }
   ],
   "source": [
    "import math\n",
    "def distance(x1,y1,x2,y2):\n",
    "    dx = x2 - x1\n",
    "    print('dx = ' + str(dx))\n",
    "    dy = y2 - y1\n",
    "    print('dy = ' + str(dy))\n",
    "    dsquared = dx**2 + dy**2\n",
    "    print('dsquared = ' + str(dsquared))\n",
    "    result = math.sqrt(dsquared)\n",
    "    return result\n",
    "distance(1, 2, 4, 6)\n",
    "#print(dist)"
   ]
  },
  {
   "cell_type": "code",
   "execution_count": null,
   "metadata": {},
   "outputs": [],
   "source": []
  },
  {
   "cell_type": "code",
   "execution_count": null,
   "metadata": {},
   "outputs": [],
   "source": []
  },
  {
   "cell_type": "code",
   "execution_count": null,
   "metadata": {},
   "outputs": [],
   "source": []
  }
 ],
 "metadata": {
  "kernelspec": {
   "display_name": "Python 3 (ipykernel)",
   "language": "python",
   "name": "python3"
  },
  "language_info": {
   "codemirror_mode": {
    "name": "ipython",
    "version": 3
   },
   "file_extension": ".py",
   "mimetype": "text/x-python",
   "name": "python",
   "nbconvert_exporter": "python",
   "pygments_lexer": "ipython3",
   "version": "3.8.8"
  }
 },
 "nbformat": 4,
 "nbformat_minor": 4
}
