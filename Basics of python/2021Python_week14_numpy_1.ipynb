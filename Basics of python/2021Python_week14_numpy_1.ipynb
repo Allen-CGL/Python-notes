{
 "cells": [
  {
   "cell_type": "markdown",
   "metadata": {},
   "source": [
    "Numpy \n",
    "linspace(start, end, num) #等間隔陣列\n",
    "araang(start, stop, step) #stop"
   ]
  },
  {
   "cell_type": "code",
   "execution_count": 3,
   "metadata": {},
   "outputs": [
    {
     "name": "stdout",
     "output_type": "stream",
     "text": [
      "s1 [ 0.  1.  2.  3.  4.  5.  6.  7.  8.  9. 10. 11. 12. 13. 14. 15.]\n",
      "s2 range(0, 16)\n",
      "s3 [ 0  1  2  3  4  5  6  7  8  9 10 11 12 13 14 15]\n",
      "s2 type: <class 'range'> s3 type: <class 'numpy.ndarray'>\n"
     ]
    }
   ],
   "source": [
    "import numpy as np\n",
    "\n",
    "s1 = np.linspace(0,15,16)\n",
    "print('s1',s1)\n",
    "s2 = range(16)\n",
    "print('s2',s2)\n",
    "s3 = np.arange(16)\n",
    "print('s3',s3)\n",
    "print('s2 type:',type(s2),'s3 type:',type(s3))"
   ]
  },
  {
   "cell_type": "markdown",
   "metadata": {},
   "source": [
    "三角函數"
   ]
  },
  {
   "cell_type": "code",
   "execution_count": 6,
   "metadata": {},
   "outputs": [
    {
     "data": {
      "image/png": "[encoded data removed]",
      "text/plain": [
       "<Figure size 432x288 with 1 Axes>"
      ]
     },
     "metadata": {
      "needs_background": "light"
     },
     "output_type": "display_data"
    }
   ],
   "source": [
    "import numpy as np\n",
    "import matplotlib.pyplot as plt\n",
    "\n",
    "x1 = np.linspace(0,3.14159*2,400)\n",
    "y1 = np.sin(x1)\n",
    "y2 = np.cos(x1)\n",
    "\n",
    "plt.plot(y1)\n",
    "plt.plot(y2)\n",
    "plt.show()"
   ]
  },
  {
   "cell_type": "markdown",
   "metadata": {},
   "source": [
    "n維陣列 ndarry "
   ]
  },
  {
   "cell_type": "code",
   "execution_count": 7,
   "metadata": {},
   "outputs": [
    {
     "name": "stdout",
     "output_type": "stream",
     "text": [
      "type: <class 'numpy.ndarray'>\n",
      "v1 dtype: int64\n",
      "v2 dtype: float64\n",
      "v3 dtype: int8\n",
      "v1 itemsize: 8\n",
      "v2 itemsize: 8\n",
      "v3 itemsize: 1\n",
      "v1 ndim: 1\n",
      "v1 shape: (3,)\n",
      "v1 size: 3\n",
      "v1: [1 2 3]\n"
     ]
    }
   ],
   "source": [
    "#create 1 D array \n",
    "import numpy as np\n",
    "\n",
    "v1 = np.array([1,2,3])\n",
    "v2 = np.array([1.0, 2.0,3.0])\n",
    "v3 = np.array([1,2,3],dtype=np.int8)\n",
    "\n",
    "print('type:',type(v1))\n",
    "print('v1 dtype:',v1.dtype)\n",
    "print('v2 dtype:',v2.dtype)\n",
    "print('v3 dtype:',v3.dtype)\n",
    "print('v1 itemsize:', v1.itemsize) #位元組;佔空間大小\n",
    "print('v2 itemsize:', v2.itemsize)\n",
    "print('v3 itemsize:', v3.itemsize)\n",
    "print('v1 ndim:', v1.ndim)\n",
    "print('v1 shape:', v1.shape)\n",
    "print('v1 size:', v1.size)\n",
    "print('v1:',v1)"
   ]
  },
  {
   "cell_type": "code",
   "execution_count": 8,
   "metadata": {},
   "outputs": [
    {
     "name": "stdout",
     "output_type": "stream",
     "text": [
      "v4 dtype: int32\n",
      "v5 dtype: int64\n",
      "v6 dtype: float64\n",
      "v4 : [0 0 0 0 0 0 0]\n",
      "v5 : [1 1 1 1 1 1 1]\n",
      "v6 : [ 2.68156159e+154  2.68156159e+154  3.79750000e+002  2.42000000e+001\n",
      "  2.68156159e+154 -1.49458051e-154  9.88131292e-324]\n"
     ]
    }
   ],
   "source": [
    "import numpy as np\n",
    "\n",
    "v4 = np.zeros(7,dtype=np.int32)\n",
    "v5 = np.ones(7,dtype=np.int64)\n",
    "v6 = np.empty(7)\n",
    "\n",
    "print('v4 dtype:',v4.dtype)\n",
    "print('v5 dtype:',v5.dtype)\n",
    "print('v6 dtype:',v6.dtype)\n",
    "print('v4 :',v4)\n",
    "print('v5 :',v5)\n",
    "print('v6 :',v6)"
   ]
  },
  {
   "cell_type": "markdown",
   "metadata": {},
   "source": [
    "vector operations\n",
    "+, -, *, /, //, %, **"
   ]
  },
  {
   "cell_type": "code",
   "execution_count": 9,
   "metadata": {},
   "outputs": [
    {
     "name": "stdout",
     "output_type": "stream",
     "text": [
      "v7 + 5 : [20 30 40]\n",
      "v7 - 5: [10 20 30]\n",
      "v7 * 5: [ 75 125 175]\n",
      "v7 / 5 : [3. 5. 7.]\n",
      "v7 // 5: [3 5 7]\n",
      "v7 % 5: [0 0 0]\n",
      "v7 ** 3: [ 3375 15625 42875]\n"
     ]
    }
   ],
   "source": [
    "import numpy as np\n",
    "\n",
    "v7 = np.array([15,25,35])\n",
    "\n",
    "print('v7 + 5 :',v7+5)\n",
    "print('v7 - 5:',v7-5)\n",
    "print('v7 * 5:',v7*5)\n",
    "print('v7 / 5 :',v7/5)\n",
    "print('v7 // 5:',v7//5)\n",
    "print('v7 % 5:',v7%5)\n",
    "print('v7 ** 3:',v7**3)"
   ]
  },
  {
   "cell_type": "code",
   "execution_count": null,
   "metadata": {},
   "outputs": [],
   "source": []
  },
  {
   "cell_type": "code",
   "execution_count": null,
   "metadata": {},
   "outputs": [],
   "source": []
  },
  {
   "cell_type": "code",
   "execution_count": null,
   "metadata": {},
   "outputs": [],
   "source": []
  }
 ],
 "metadata": {
  "kernelspec": {
   "display_name": "Python 3 (ipykernel)",
   "language": "python",
   "name": "python3"
  },
  "language_info": {
   "codemirror_mode": {
    "name": "ipython",
    "version": 3
   },
   "file_extension": ".py",
   "mimetype": "text/x-python",
   "name": "python",
   "nbconvert_exporter": "python",
   "pygments_lexer": "ipython3",
   "version": "3.8.8"
  }
 },
 "nbformat": 4,
 "nbformat_minor": 4
}
