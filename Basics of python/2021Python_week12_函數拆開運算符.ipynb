{
 "cells": [
  {
   "cell_type": "markdown",
   "metadata": {},
   "source": [
    "拆開序列運算符(*) 在參數的應用"
   ]
  },
  {
   "cell_type": "code",
   "execution_count": 19,
   "metadata": {
    "scrolled": true
   },
   "outputs": [
    {
     "name": "stdout",
     "output_type": "stream",
     "text": [
      "-- case 2 --\n",
      "pos: 1 2 3\n",
      "tuple: ()\n",
      "-- case 3 --\n",
      "pos: 1 2 3\n",
      "tuple: (4, 5)\n",
      "-- case 4 --\n",
      "pos: 1 2 3\n",
      "tuple: ()\n"
     ]
    }
   ],
   "source": [
    "def print_p1(p1, p2, p3, *t):\n",
    "    print('pos:',p1, p2, p3)\n",
    "    print('tuple:',t)\n",
    "#########################################################################################\n",
    "\n",
    "#print('-- case 1 --'); print_p1(1, 2) # 參數不足(至少3個)\n",
    "print('-- case 2 --'); print_p1(1, 2, 3)\n",
    "print('-- case 3 --'); print_p1(1, 2, 3, 4, 5)\n",
    "print('-- case 4 --'); print_p1(p1=1, p2=2, p3=3) # 關鍵字引數\n",
    "#print('-- case 5 --'); print_p1(p1=1, p2=2, p3=3, 4, 5) # 關鍵字引數後不得加位置引數"
   ]
  },
  {
   "cell_type": "code",
   "execution_count": 8,
   "metadata": {},
   "outputs": [
    {
     "name": "stdout",
     "output_type": "stream",
     "text": [
      "-- case 1 --\n",
      "pos: 1 2 3\n",
      "tuple: (4, 5)\n",
      "key: a b\n",
      "-- case 2 --\n"
     ]
    },
    {
     "ename": "TypeError",
     "evalue": "print_p2() missing 2 required keyword-only arguments: 'k1' and 'k2'",
     "output_type": "error",
     "traceback": [
      "\u001b[1;31m---------------------------------------------------------------------------\u001b[0m",
      "\u001b[1;31mTypeError\u001b[0m                                 Traceback (most recent call last)",
      "\u001b[1;32m~\\AppData\\Local\\Temp/ipykernel_21276/166404086.py\u001b[0m in \u001b[0;36m<module>\u001b[1;34m\u001b[0m\n\u001b[0;32m      7\u001b[0m \u001b[0mprint_p2\u001b[0m\u001b[1;33m(\u001b[0m\u001b[1;36m1\u001b[0m\u001b[1;33m,\u001b[0m \u001b[1;36m2\u001b[0m\u001b[1;33m,\u001b[0m \u001b[1;36m3\u001b[0m\u001b[1;33m,\u001b[0m \u001b[1;36m4\u001b[0m\u001b[1;33m,\u001b[0m \u001b[1;36m5\u001b[0m\u001b[1;33m,\u001b[0m \u001b[0mk1\u001b[0m\u001b[1;33m=\u001b[0m\u001b[1;34m'a'\u001b[0m\u001b[1;33m,\u001b[0m \u001b[0mk2\u001b[0m\u001b[1;33m=\u001b[0m\u001b[1;34m'b'\u001b[0m\u001b[1;33m)\u001b[0m\u001b[1;33m\u001b[0m\u001b[1;33m\u001b[0m\u001b[0m\n\u001b[0;32m      8\u001b[0m \u001b[0mprint\u001b[0m\u001b[1;33m(\u001b[0m\u001b[1;34m'-- case 2 --'\u001b[0m\u001b[1;33m)\u001b[0m\u001b[1;33m\u001b[0m\u001b[1;33m\u001b[0m\u001b[0m\n\u001b[1;32m----> 9\u001b[1;33m \u001b[0mprint_p2\u001b[0m\u001b[1;33m(\u001b[0m\u001b[1;36m1\u001b[0m\u001b[1;33m,\u001b[0m \u001b[1;36m2\u001b[0m\u001b[1;33m,\u001b[0m \u001b[1;36m3\u001b[0m\u001b[1;33m,\u001b[0m \u001b[1;36m4\u001b[0m\u001b[1;33m,\u001b[0m \u001b[1;36m5\u001b[0m\u001b[1;33m,\u001b[0m \u001b[1;34m'a'\u001b[0m\u001b[1;33m,\u001b[0m \u001b[1;34m'b'\u001b[0m\u001b[1;33m)\u001b[0m \u001b[1;31m# *t 之後只可用關鍵字引數\u001b[0m\u001b[1;33m\u001b[0m\u001b[1;33m\u001b[0m\u001b[0m\n\u001b[0m",
      "\u001b[1;31mTypeError\u001b[0m: print_p2() missing 2 required keyword-only arguments: 'k1' and 'k2'"
     ]
    }
   ],
   "source": [
    "def print_p2(p1, p2, p3, *t, k1, k2):\n",
    "    print('pos:', p1, p2, p3)\n",
    "    print('tuple:', t)\n",
    "    print('key:', k1, k2)\n",
    "#########\n",
    "print('-- case 1 --')\n",
    "print_p2(1, 2, 3, 4, 5, k1='a', k2='b')\n",
    "print('-- case 2 --')\n",
    "print_p2(1, 2, 3, 4, 5, 'a', 'b') # *t 之後只可用關鍵字引數"
   ]
  },
  {
   "cell_type": "code",
   "execution_count": 5,
   "metadata": {},
   "outputs": [
    {
     "name": "stdout",
     "output_type": "stream",
     "text": [
      "-- case 1 --\n",
      "pos: 1 2 3\n",
      "tuple: (4, 5)\n",
      "key: a b\n",
      "-- case 2 --\n",
      "pos: 1 2 3\n",
      "tuple: (4, 5, 'a', 'b')\n",
      "key: c d\n"
     ]
    }
   ],
   "source": [
    "def print_p22(p1, p2, p3, *t, k1='c', k2='d'):\n",
    "    print('pos:', p1, p2, p3)\n",
    "    print('tuple:', t)\n",
    "    print('key:', k1, k2)\n",
    "#########\n",
    "print('-- case 1 --')\n",
    "print_p22(1, 2, 3, 4, 5, k1='a', k2='b')\n",
    "print('-- case 2 --')\n",
    "print_p22(1, 2, 3, 4, 5, 'a', 'b') "
   ]
  },
  {
   "cell_type": "code",
   "execution_count": 10,
   "metadata": {},
   "outputs": [
    {
     "name": "stdout",
     "output_type": "stream",
     "text": [
      "-- case 1 --\n",
      "tuple: (1, 2, 3, 4, 5)\n",
      "key: a b\n",
      "-- case 2 --\n",
      "-- case 3 --\n",
      "tuple: ()\n",
      "key: a b\n"
     ]
    }
   ],
   "source": [
    "def print_p3(*t, k1, k2):\n",
    "    print('tuple:', t)\n",
    "    print('key:', k1, k2)\n",
    "#########\n",
    "print('-- case 1 --')\n",
    "print_p3(1, 2, 3, 4, 5, k1='a', k2='b')\n",
    "print('-- case 2 --')\n",
    "#print_p3(1, 2, 3, 4, 5, 'a', 'b') # *t 之後只可用關鍵字引數\n",
    "print('-- case 3 --')\n",
    "print_p3( k1='a', k2='b')"
   ]
  },
  {
   "cell_type": "code",
   "execution_count": 11,
   "metadata": {},
   "outputs": [
    {
     "name": "stdout",
     "output_type": "stream",
     "text": [
      "-- case 1 --\n",
      "-- case 2 --\n",
      "-- case 3 --\n",
      "pos: 1 2 3\n",
      "key: a b\n"
     ]
    }
   ],
   "source": [
    "def print_p4(p1, p2, p3, *, k1, k2):\n",
    "    print('pos:', p1, p2, p3)\n",
    "    print('key:', k1, k2)\n",
    "#########\n",
    "print('-- case 1 --')\n",
    "#print_p4(1, 2, 3, 4, 5, k1='a', k2='b') #  只接受3個引數\n",
    "print('-- case 2 --')\n",
    "#print_p4(1, 2, 3, 'a', 'b') # * 之後也只可用關鍵字引數\n",
    "print('-- case 3 --')\n",
    "print_p4(1, 2, 3, k1='a', k2='b') # * 之後也只可用關鍵字引數"
   ]
  },
  {
   "cell_type": "code",
   "execution_count": 12,
   "metadata": {},
   "outputs": [
    {
     "name": "stdout",
     "output_type": "stream",
     "text": [
      "-- case 1 --\n",
      "-- case 2 --\n",
      "key: a b\n"
     ]
    }
   ],
   "source": [
    "def print_p5(*, k1, k2):\n",
    "    print('key:', k1, k2)\n",
    "#########\n",
    "print('-- case 1 --')\n",
    "#print_p5(1, 2)  # * 之後, 只可用關鍵字引數\n",
    "print('-- case 2 --')\n",
    "print_p5(k1='a', k2='b') "
   ]
  },
  {
   "cell_type": "code",
   "execution_count": 20,
   "metadata": {},
   "outputs": [
    {
     "name": "stdout",
     "output_type": "stream",
     "text": [
      "-- case 1 --\n",
      "pos: 1 2 3\n",
      "tuple: (4, 'a')\n",
      "-- case 2 --\n",
      "pos: 1 2 a\n",
      "tuple: ()\n",
      "-- case 3 --\n",
      "pos: 1 2 3\n",
      "tuple: ()\n",
      "-- case 4 --\n"
     ]
    }
   ],
   "source": [
    "def print_p6(p1, p2, p3 = 'a', *t):\n",
    "    print('pos:', p1, p2, p3)\n",
    "    print('tuple:', t)\n",
    "#########\n",
    "print('-- case 1 --')\n",
    "print_p6(1, 2, 3, 4, 'a')\n",
    "print('-- case 2 --')\n",
    "print_p6(1,2)\n",
    "print('-- case 3 --')\n",
    "print_p6(1, 2, p3=3)\n",
    "print('-- case 4 --')\n",
    "#print_p6(1,2,p3=3,4,5) #關鍵字引數後不可加位置引數"
   ]
  },
  {
   "cell_type": "code",
   "execution_count": 14,
   "metadata": {},
   "outputs": [
    {
     "name": "stdout",
     "output_type": "stream",
     "text": [
      "-- case 1 --\n",
      "pos: 1 2 3\n",
      "tuple: (4, 5)\n",
      "key: xx yy\n",
      "-- case 2 --\n",
      "pos: 1 2 3\n",
      "tuple: ()\n",
      "key: a b\n",
      "-- case 3 --\n",
      "pos: 1 2 3\n",
      "tuple: (4, 5)\n",
      "key: a b\n",
      "-- case 4 --\n",
      "pos: 1 2 3\n",
      "tuple: (4, 5, 'xx', 'yy')\n",
      "key: a b\n"
     ]
    }
   ],
   "source": [
    "def print_p7(p1, p2, p3, *t, k1 ='a', k2= 'b'):\n",
    "    print('pos:', p1, p2, p3)\n",
    "    print('tuple:', t)\n",
    "    print('key:', k1, k2)\n",
    "#########\n",
    "print('-- case 1 --')\n",
    "print_p7(1, 2, 3, 4, 5, k1 = 'xx', k2 = 'yy')\n",
    "print('-- case 2 --')\n",
    "print_p7(1, 2, 3)\n",
    "print('-- case 3 --')\n",
    "print_p7(1, 2, 3, 4, 5)\n",
    "print('-- case 4 --')\n",
    "print_p7(1, 2, 3, 4, 5, 'xx', 'yy')"
   ]
  },
  {
   "cell_type": "markdown",
   "metadata": {},
   "source": [
    "拆開映射運算符 (**) 在參數的應用"
   ]
  },
  {
   "cell_type": "code",
   "execution_count": 15,
   "metadata": {},
   "outputs": [
    {
     "name": "stdout",
     "output_type": "stream",
     "text": [
      "-- case 2 --\n",
      "dict: {}\n",
      "-- case 3 --\n",
      "dict: {'a': 1, 'b': 2, 'c': 3}\n"
     ]
    }
   ],
   "source": [
    "def print_d1(**d):\n",
    "    print('dict:',d)\n",
    "###\n",
    "#print('-- case 1 --')\n",
    "#print_d1(1, 2, 3) # 只接受關鍵字參數\n",
    "print('-- case 2 --')\n",
    "print_d1()\n",
    "print('-- case 3 --')\n",
    "print_d1(a=1, b=2, c=3)"
   ]
  },
  {
   "cell_type": "code",
   "execution_count": 16,
   "metadata": {},
   "outputs": [
    {
     "name": "stdout",
     "output_type": "stream",
     "text": [
      "-- case 1 --\n",
      "pos: 1 2 3\n",
      "dict: {}\n",
      "-- case 2 --\n",
      "-- case 3 --\n",
      "-- case 4 --\n",
      "pos: 1 2 3\n",
      "dict: {'d1': 'a'}\n",
      "-- case 5 --\n",
      "pos: 1 2 3\n",
      "dict: {'d2': 'b', 'd1': 'a'}\n"
     ]
    }
   ],
   "source": [
    "def print_d2(p1, p2, p3, **d):\n",
    "    print('pos:',p1, p2, p3)\n",
    "    print('dict:',d)\n",
    "###\n",
    "print('-- case 1 --')\n",
    "print_d2(1, 2, 3) \n",
    "print('-- case 2 --')\n",
    "#print_d2()  #參數不足，至少3個\n",
    "print('-- case 3 --')\n",
    "#print_d2(1, 2, 3, 'a') #位置參數太多\n",
    "print('-- case 4 --')\n",
    "print_d2(1, 2, p3=3, d1='a')\n",
    "print('-- case 5 --')\n",
    "print_d2(p2 =2, p3=3, p1 =1, d2 ='b', d1='a')"
   ]
  },
  {
   "cell_type": "markdown",
   "metadata": {},
   "source": [
    "拆開序列( * ) & 拆開映射 ( ** )"
   ]
  },
  {
   "cell_type": "code",
   "execution_count": 1,
   "metadata": {},
   "outputs": [
    {
     "name": "stdout",
     "output_type": "stream",
     "text": [
      "-- case 1 --\n",
      "pos: 1 2 3\n",
      "tuple: (4, 5)\n",
      "dict: {'d1': 'a', 'd2': 'b'}\n",
      "-- case 2 --\n",
      "pos: 1 2 33\n",
      "tuple: ()\n",
      "dict: {'d1': 'a', 'd2': 'b'}\n",
      "-- case 3 --\n",
      "pos: 1 2 a\n",
      "tuple: ()\n",
      "dict: {}\n"
     ]
    }
   ],
   "source": [
    "def print_pd1(p1, p2, p3, *t, **d):\n",
    "    print('pos:', p1, p2, p3)\n",
    "    print('tuple:', t)\n",
    "    print('dict:', d)   \n",
    "######\n",
    "print('-- case 1 --')\n",
    "print_pd1(1, 2, 3, 4, 5, d1='a', d2='b') \n",
    "print('-- case 2 --')\n",
    "print_pd1(1, 2, p3 = 33, d1='a', d2='b') \n",
    "print('-- case 3 --')\n",
    "#print_pd1(1, 2, d1='a', d2='b')  # 少了p3\n",
    "print_pd1(1, 2, 'a')  "
   ]
  },
  {
   "cell_type": "code",
   "execution_count": 21,
   "metadata": {},
   "outputs": [
    {
     "name": "stdout",
     "output_type": "stream",
     "text": [
      "-- case 1 --\n",
      "tuple: (1, 2, 3)\n",
      "dict: {'d1': 'a', 'd2': 'b'}\n",
      "-- case 2 --\n",
      "tuple: (1, 2)\n",
      "dict: {'p3': 33, 'd1': 'a', 'd2': 'b'}\n"
     ]
    }
   ],
   "source": [
    "def print_pd2(*t, **d):\n",
    "    print('tuple:', t)\n",
    "    print('dict:', d)   \n",
    "######\n",
    "print('-- case 1 --')\n",
    "print_pd2(1, 2, 3, d1='a', d2='b') \n",
    "print('-- case 2 --')\n",
    "print_pd2(1, 2, p3 = 33, d1='a', d2='b') "
   ]
  },
  {
   "cell_type": "code",
   "execution_count": 26,
   "metadata": {},
   "outputs": [
    {
     "name": "stdout",
     "output_type": "stream",
     "text": [
      "-- case 1 --\n",
      "pos: 1 2 3\n",
      "tuple: (4, 5)\n",
      "key: 6 7\n",
      "dict: {'d1': 3, 'd2': 4}\n",
      "-- case 2 --\n",
      "pos: 1 2 3\n",
      "tuple: ()\n",
      "key: 6 7\n",
      "dict: {}\n"
     ]
    }
   ],
   "source": [
    "def print_pd3(p1, p2, p3, *t, k1, k2, **d):\n",
    "    print('pos:', p1, p2, p3)\n",
    "    print('tuple:', t)\n",
    "    print('key:', k1, k2)\n",
    "    print('dict:', d)   \n",
    "######\n",
    "print('-- case 1 --')\n",
    "print_pd3(1, 2, 3, 4, 5, k1= 6 , k2= 7 , d1=3, d2=4) \n",
    "print('-- case 2 --')\n",
    "print_pd3(1, 2, 3, k1=6, k2=7)     "
   ]
  },
  {
   "cell_type": "code",
   "execution_count": 27,
   "metadata": {},
   "outputs": [
    {
     "name": "stdout",
     "output_type": "stream",
     "text": [
      "-- case 1 --\n",
      "pos: 1 2 3\n",
      "key: 6 7\n",
      "dict: {'d1': 'a', 'd2': 'b'}\n",
      "-- case 2 --\n",
      "pos: 1 2 3\n",
      "key: 6 7\n",
      "dict: {}\n"
     ]
    }
   ],
   "source": [
    "def print_pd4(p1, p2, p3, *, k1, k2, **d):\n",
    "    print('pos:', p1, p2, p3)\n",
    "    print('key:', k1, k2)\n",
    "    print('dict:', d)   \n",
    "######\n",
    "print('-- case 1 --')\n",
    "#print_pd4(1, 2, 3, 4, 5, k1=6, k2=7, d1='a', d2='b') # 沒有t接收額外參數\n",
    "print_pd4(1, 2, 3, k1=6, k2=7, d1='a', d2='b') # 沒有t接收額外參數\n",
    "print('-- case 2 --')\n",
    "print_pd4(1, 2, 3, k1=6, k2=7)     "
   ]
  },
  {
   "cell_type": "code",
   "execution_count": 28,
   "metadata": {},
   "outputs": [
    {
     "name": "stdout",
     "output_type": "stream",
     "text": [
      "-- case 1 --\n",
      "tuple: (1, 2, 3, 4, 5)\n",
      "key: 6 7\n",
      "dict: {'d1': 'a', 'd2': 'b'}\n",
      "-- case 2 --\n",
      "tuple: (1, 2, 3)\n",
      "key: 6 7\n",
      "dict: {}\n"
     ]
    }
   ],
   "source": [
    "def print_pd5(*t, k1, k2, **d):\n",
    "    print('tuple:', t)\n",
    "    print('key:', k1, k2)\n",
    "    print('dict:', d)   \n",
    "######\n",
    "print('-- case 1 --')\n",
    "print_pd5(1, 2, 3, 4, 5, k1=6, k2=7, d1='a', d2='b') \n",
    "print('-- case 2 --')\n",
    "print_pd5(1, 2, 3, k1=6, k2=7)     "
   ]
  },
  {
   "cell_type": "code",
   "execution_count": 29,
   "metadata": {},
   "outputs": [
    {
     "name": "stdout",
     "output_type": "stream",
     "text": [
      "-- case 1 --\n",
      "-- case 2 --\n",
      "-- case 3 --\n",
      "key: 6 7\n",
      "dict: {'d1': 'a', 'd2': 'b'}\n",
      "-- case 4 --\n",
      "key: 6 7\n",
      "dict: {}\n"
     ]
    }
   ],
   "source": [
    "def print_pd6(*, k1, k2, **d):\n",
    "    print('key:', k1, k2)\n",
    "    print('dict:', d)   \n",
    "######\n",
    "print('-- case 1 --')\n",
    "#print_pd6(1, 2, 3, 4, 5, k1=6, k2=7, d1='a', d2='b') \n",
    "print('-- case 2 --')\n",
    "#print_pd6(1, 2, 3, k1=6, k2=7)\n",
    "print('-- case 3 --')\n",
    "print_pd6(k1=6, k2=7, d1='a', d2='b') \n",
    "print('-- case 4 --')\n",
    "print_pd6(k1=6, k2=7) "
   ]
  },
  {
   "cell_type": "code",
   "execution_count": 30,
   "metadata": {},
   "outputs": [
    {
     "name": "stdout",
     "output_type": "stream",
     "text": [
      "-- case 1 --\n",
      "pos: 1 2 3\n",
      "tuple: ()\n",
      "key: 1000 2000\n",
      "dict: {'d1': 'a', 'd2': 'b'}\n",
      "-- case 2 --\n",
      "pos: 1 2 3\n",
      "tuple: ()\n",
      "key: 6 7\n",
      "dict: {}\n",
      "-- case 3 --\n",
      "pos: 1 2 3\n",
      "tuple: (4,)\n",
      "key: 6 2000\n",
      "dict: {'d1': 9}\n"
     ]
    }
   ],
   "source": [
    "def print_pd7(p1, p2, p3, *t, k1=1000, k2=2000, **d):\n",
    "    print('pos:', p1, p2, p3)\n",
    "    print('tuple:', t)\n",
    "    print('key:', k1, k2)\n",
    "    print('dict:', d)   \n",
    "######\n",
    "print('-- case 1 --')\n",
    "print_pd7(1, 2, 3, d1='a', d2='b') \n",
    "print('-- case 2 --')\n",
    "print_pd7(1, 2, 3, k1=6, k2=7) \n",
    "print('-- case 3 --')\n",
    "print_pd7(1, 2, 3, 4, k1=6, d1=9) "
   ]
  },
  {
   "cell_type": "markdown",
   "metadata": {},
   "source": [
    "參數輸入使用 拆開序列( * ) & 拆開映射 ( ** )"
   ]
  },
  {
   "cell_type": "code",
   "execution_count": 31,
   "metadata": {},
   "outputs": [
    {
     "name": "stdout",
     "output_type": "stream",
     "text": [
      "-- case 2 --\n",
      "1 2 3 0 1\n",
      "-- case 3 --\n",
      "1 2 3 a b\n",
      "-- case 4 --\n"
     ]
    },
    {
     "ename": "TypeError",
     "evalue": "fun1() got an unexpected keyword argument 'k1'",
     "output_type": "error",
     "traceback": [
      "\u001b[1;31m---------------------------------------------------------------------------\u001b[0m",
      "\u001b[1;31mTypeError\u001b[0m                                 Traceback (most recent call last)",
      "\u001b[1;32m~\\AppData\\Local\\Temp/ipykernel_21276/3250966405.py\u001b[0m in \u001b[0;36m<module>\u001b[1;34m\u001b[0m\n\u001b[0;32m     11\u001b[0m \u001b[0mfun1\u001b[0m\u001b[1;33m(\u001b[0m\u001b[1;36m1\u001b[0m\u001b[1;33m,\u001b[0m \u001b[1;36m2\u001b[0m\u001b[1;33m,\u001b[0m \u001b[1;36m3\u001b[0m\u001b[1;33m,\u001b[0m \u001b[1;33m**\u001b[0m\u001b[0mdict1\u001b[0m\u001b[1;33m)\u001b[0m\u001b[1;33m\u001b[0m\u001b[1;33m\u001b[0m\u001b[0m\n\u001b[0;32m     12\u001b[0m \u001b[0mprint\u001b[0m\u001b[1;33m(\u001b[0m\u001b[1;34m'-- case 4 --'\u001b[0m\u001b[1;33m)\u001b[0m\u001b[1;33m\u001b[0m\u001b[1;33m\u001b[0m\u001b[0m\n\u001b[1;32m---> 13\u001b[1;33m \u001b[0mfun1\u001b[0m\u001b[1;33m(\u001b[0m\u001b[1;36m1\u001b[0m\u001b[1;33m,\u001b[0m \u001b[1;36m2\u001b[0m\u001b[1;33m,\u001b[0m \u001b[1;36m3\u001b[0m\u001b[1;33m,\u001b[0m \u001b[1;33m**\u001b[0m\u001b[0mdict2\u001b[0m\u001b[1;33m)\u001b[0m \u001b[1;31m# 太多關鍵字參數\u001b[0m\u001b[1;33m\u001b[0m\u001b[1;33m\u001b[0m\u001b[0m\n\u001b[0m",
      "\u001b[1;31mTypeError\u001b[0m: fun1() got an unexpected keyword argument 'k1'"
     ]
    }
   ],
   "source": [
    "def fun1(p1, p2, p3, p4, p5):\n",
    "    print(p1, p2, p3, p4, p5)\n",
    "#######\n",
    "dict1 = {'p4':'a', 'p5':'b'}\n",
    "dict2 = {'p4':'a', 'p5':'b', 'k1':'c'}\n",
    "#print('-- case 1 --')\n",
    "#fun1(1, 2, 3, range(2))\n",
    "print('-- case 2 --')\n",
    "fun1(1, 2, 3, *range(2))\n",
    "print('-- case 3 --')\n",
    "fun1(1, 2, 3, **dict1)\n",
    "print('-- case 4 --')\n",
    "fun1(1, 2, 3, **dict2) # 太多關鍵字參數"
   ]
  },
  {
   "cell_type": "code",
   "execution_count": 32,
   "metadata": {},
   "outputs": [
    {
     "name": "stdout",
     "output_type": "stream",
     "text": [
      "-- case 1 --\n",
      "10 20 30 (0, 1, 2, 3)\n",
      "-- case 1 --\n",
      "10 0 1 (2, 3)\n"
     ]
    }
   ],
   "source": [
    "def fun2(p1, p2, p3, *t):\n",
    "    print(p1, p2, p3, t)\n",
    "#####\n",
    "print('-- case 1 --')\n",
    "fun2(10, 20, 30, *range(4))\n",
    "print('-- case 1 --')\n",
    "fun2(10, *range(4))"
   ]
  },
  {
   "cell_type": "code",
   "execution_count": 33,
   "metadata": {},
   "outputs": [
    {
     "name": "stdout",
     "output_type": "stream",
     "text": [
      "-- case 1 --\n",
      "pos: 10 20 30\n",
      "tuple: (0, 1, 2)\n",
      "key: a b\n",
      "dict: {'k3': 'c'}\n"
     ]
    }
   ],
   "source": [
    "def fun3(p1, p2, p3, *t, k1, k2, **d):\n",
    "    print('pos:', p1, p2, p3)\n",
    "    print('tuple:', t)\n",
    "    print('key:', k1, k2)\n",
    "    print('dict:', d)\n",
    "##########\n",
    "dict3 = {'k1':'a', 'k2':'b', 'k3':'c'}\n",
    "li1 = range(3)\n",
    "print('-- case 1 --')\n",
    "fun3(10, 20, 30, *li1,**dict3)"
   ]
  },
  {
   "cell_type": "code",
   "execution_count": 34,
   "metadata": {},
   "outputs": [
    {
     "name": "stdout",
     "output_type": "stream",
     "text": [
      "-- case 1 --\n",
      "0.8 0.2 0.2 1.0\n",
      "-- case 2 --\n",
      "0.4 0.6 0.8 0.7\n"
     ]
    }
   ],
   "source": [
    "#可用於色彩\n",
    "def print_RGB(*,red, green, blue, alpha = 1.0):\n",
    "    print(red, green, blue, alpha)\n",
    "c0 = {'red':0.8, 'green':0.2, 'blue':0.2}\n",
    "c1 = {'red':0.4, 'green':0.6, 'blue':0.8, 'alpha':0.7}\n",
    "#######\n",
    "print('-- case 1 --')\n",
    "print_RGB(**c0)\n",
    "print('-- case 2 --')\n",
    "print_RGB(**c1)"
   ]
  },
  {
   "cell_type": "markdown",
   "metadata": {},
   "source": [
    "Quiz: * 和 ** 運算符"
   ]
  },
  {
   "cell_type": "code",
   "execution_count": 35,
   "metadata": {},
   "outputs": [
    {
     "name": "stdout",
     "output_type": "stream",
     "text": [
      "-- case 1 --\n",
      "pos: 1 2\n",
      "tuple: (3,)\n",
      "key: a\n",
      "dict: {'d1': 9, 'd2': 10}\n",
      "-- case 2 --\n",
      "pos: 1 2\n",
      "tuple: ()\n",
      "key: a\n",
      "dict: {}\n",
      "-- case 3 --\n",
      "pos: 1 2\n",
      "tuple: ()\n",
      "key: a\n",
      "dict: {'d1': 9}\n",
      "-- case 4 --\n",
      "pos: 2 1\n",
      "tuple: ()\n",
      "key: a\n",
      "dict: {'d1': 9}\n"
     ]
    }
   ],
   "source": [
    "def test1(p1, p2, *t, k1='a', **d):\n",
    "    print('pos:', p1, p2)\n",
    "    print('tuple:', t)\n",
    "    print('key:', k1)\n",
    "    print('dict:', d)\n",
    "##########\n",
    "print('-- case 1 --')\n",
    "test1(1, 2, 3, d1=9, d2=10) \n",
    "print('-- case 2 --')\n",
    "test1(1, 2) \n",
    "print('-- case 3 --')\n",
    "test1(1, 2, d1=9) \n",
    "print('-- case 4 --')\n",
    "test1(p2=1, p1=2, d1=9) "
   ]
  },
  {
   "cell_type": "code",
   "execution_count": 39,
   "metadata": {},
   "outputs": [
    {
     "name": "stdout",
     "output_type": "stream",
     "text": [
      "-- case 1 --\n",
      "-- case 2 --\n",
      "-- case 3 --\n",
      "-- case 4 --\n",
      "key: a\n",
      "dict: {'p2': 1, 'p1': 2, 'd1': 9}\n"
     ]
    }
   ],
   "source": [
    "def test2(*, k1='a', **d):   \n",
    "    print('key:', k1)\n",
    "    print('dict:', d)\n",
    "##########\n",
    "print('-- case 1 --')\n",
    "#test2(1, 2, 3, d1=9, d2=10) \n",
    "print('-- case 2 --')\n",
    "#test2(1, 2) \n",
    "print('-- case 3 --')\n",
    "#test2(1, 2, d1=9) \n",
    "print('-- case 4 --')\n",
    "test2(p2=1, p1=2, d1=9) "
   ]
  },
  {
   "cell_type": "code",
   "execution_count": 44,
   "metadata": {},
   "outputs": [
    {
     "ename": "SyntaxError",
     "evalue": "invalid syntax (Temp/ipykernel_21276/3051640315.py, line 8)",
     "output_type": "error",
     "traceback": [
      "\u001b[1;36m  File \u001b[1;32m\"C:\\Users\\User\\AppData\\Local\\Temp/ipykernel_21276/3051640315.py\"\u001b[1;36m, line \u001b[1;32m8\u001b[0m\n\u001b[1;33m    def f4(p1,p2,**d,k1='a'): #X\u001b[0m\n\u001b[1;37m                     ^\u001b[0m\n\u001b[1;31mSyntaxError\u001b[0m\u001b[1;31m:\u001b[0m invalid syntax\n"
     ]
    }
   ],
   "source": [
    "#以下何種函式定義有誤?\n",
    "def f1(p1,k1='a',p2): #X\n",
    "    print(p1,k1,p2)\n",
    "def f2(p1,p2,k1='a',*t):\n",
    "    print(p1,k1,p2,t)\n",
    "def f3(p1,p2,*,k1='a'):\n",
    "    print(p1,k1,p2)\n",
    "def f4(p1,p2,**d,k1='a'): #X\n",
    "    print(p1,k1,p2,d) \n",
    "def f5(p1,p2,**d,*t): #X\n",
    "    print(p1,p2,d,t)     "
   ]
  },
  {
   "cell_type": "code",
   "execution_count": null,
   "metadata": {},
   "outputs": [],
   "source": []
  },
  {
   "cell_type": "code",
   "execution_count": null,
   "metadata": {},
   "outputs": [],
   "source": []
  },
  {
   "cell_type": "code",
   "execution_count": null,
   "metadata": {},
   "outputs": [],
   "source": []
  }
 ],
 "metadata": {
  "kernelspec": {
   "display_name": "Python 3 (ipykernel)",
   "language": "python",
   "name": "python3"
  },
  "language_info": {
   "codemirror_mode": {
    "name": "ipython",
    "version": 3
   },
   "file_extension": ".py",
   "mimetype": "text/x-python",
   "name": "python",
   "nbconvert_exporter": "python",
   "pygments_lexer": "ipython3",
   "version": "3.8.8"
  }
 },
 "nbformat": 4,
 "nbformat_minor": 4
}
