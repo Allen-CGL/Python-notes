{
 "cells": [
  {
   "cell_type": "markdown",
   "metadata": {},
   "source": [
    "增強賦值運算"
   ]
  },
  {
   "cell_type": "code",
   "execution_count": 1,
   "metadata": {},
   "outputs": [
    {
     "name": "stdout",
     "output_type": "stream",
     "text": [
      "b is a :  True\n",
      "10\n",
      "b is a :  False\n"
     ]
    }
   ],
   "source": [
    "a = 8\n",
    "b = a\n",
    "print('b is a : ', b is a)\n",
    "a += 2\n",
    "print(a)\n",
    "print('b is a : ', b is a)"
   ]
  },
  {
   "cell_type": "code",
   "execution_count": 2,
   "metadata": {},
   "outputs": [
    {
     "name": "stdout",
     "output_type": "stream",
     "text": [
      "Jeremy Lin\n"
     ]
    }
   ],
   "source": [
    "name = 'Jeremy'\n",
    "name += ' Lin'\n",
    "print(name)"
   ]
  },
  {
   "cell_type": "code",
   "execution_count": 3,
   "metadata": {},
   "outputs": [
    {
     "name": "stdout",
     "output_type": "stream",
     "text": [
      "['sesame', 'sunflower', 'pumpkin', 10, 15.123]\n"
     ]
    }
   ],
   "source": [
    "seeds = ['sesame', 'sunflower']\n",
    "seeds += ['pumpkin', 10, 15.123]\n",
    "print(seeds)"
   ]
  },
  {
   "cell_type": "code",
   "execution_count": 4,
   "metadata": {},
   "outputs": [
    {
     "ename": "TypeError",
     "evalue": "'int' object is not iterable",
     "output_type": "error",
     "traceback": [
      "\u001b[1;31m---------------------------------------------------------------------------\u001b[0m",
      "\u001b[1;31mTypeError\u001b[0m                                 Traceback (most recent call last)",
      "\u001b[1;32m~\\AppData\\Local\\Temp/ipykernel_23480/2735522814.py\u001b[0m in \u001b[0;36m<module>\u001b[1;34m\u001b[0m\n\u001b[0;32m      1\u001b[0m \u001b[0mseeds\u001b[0m \u001b[1;33m=\u001b[0m \u001b[1;33m[\u001b[0m\u001b[1;34m'sesame'\u001b[0m\u001b[1;33m,\u001b[0m \u001b[1;34m'sunflower'\u001b[0m\u001b[1;33m]\u001b[0m\u001b[1;33m\u001b[0m\u001b[1;33m\u001b[0m\u001b[0m\n\u001b[1;32m----> 2\u001b[1;33m \u001b[0mseeds\u001b[0m \u001b[1;33m+=\u001b[0m \u001b[1;36m10\u001b[0m  \u001b[1;31m# iterable object is required\u001b[0m\u001b[1;33m\u001b[0m\u001b[1;33m\u001b[0m\u001b[0m\n\u001b[0m\u001b[0;32m      3\u001b[0m \u001b[0mprint\u001b[0m\u001b[1;33m(\u001b[0m\u001b[0mseeds\u001b[0m\u001b[1;33m)\u001b[0m\u001b[1;33m\u001b[0m\u001b[1;33m\u001b[0m\u001b[0m\n",
      "\u001b[1;31mTypeError\u001b[0m: 'int' object is not iterable"
     ]
    }
   ],
   "source": [
    "seeds = ['sesame', 'sunflower']\n",
    "seeds += 10  # iterable object is required\n",
    "print(seeds)"
   ]
  },
  {
   "cell_type": "code",
   "execution_count": 5,
   "metadata": {},
   "outputs": [
    {
     "name": "stdout",
     "output_type": "stream",
     "text": [
      "['sesame', 'sunflower', 'c', 'h', 'e', 'r', 'r', 'y']\n"
     ]
    }
   ],
   "source": [
    "seeds = ['sesame', 'sunflower']\n",
    "seeds += 'cherry'\n",
    "print(seeds)"
   ]
  },
  {
   "cell_type": "markdown",
   "metadata": {},
   "source": [
    "拆開序列運算符(*)"
   ]
  },
  {
   "cell_type": "code",
   "execution_count": 6,
   "metadata": {},
   "outputs": [
    {
     "name": "stdout",
     "output_type": "stream",
     "text": [
      "first: 9\n",
      "rest: [2, -4, 8, 7]\n"
     ]
    }
   ],
   "source": [
    "first, *rest = [9, 2, -4, 8, 7]\n",
    "print('first:',first)\n",
    "print('rest:',rest)"
   ]
  },
  {
   "cell_type": "code",
   "execution_count": 2,
   "metadata": {},
   "outputs": [
    {
     "name": "stdout",
     "output_type": "stream",
     "text": [
      "first: Charles\n",
      "mid: ['Philip', 'Arthur', 'George']\n",
      "last: Windsor\n"
     ]
    }
   ],
   "source": [
    "first, *mid, last = \"Charles Philip Arthur George Windsor\".split()\n",
    "print('first:',first)\n",
    "print('mid:',mid)\n",
    "print('last:',last)"
   ]
  },
  {
   "cell_type": "code",
   "execution_count": 8,
   "metadata": {},
   "outputs": [
    {
     "name": "stdout",
     "output_type": "stream",
     "text": [
      "directories: ['', 'usr', 'local', 'bin']\n",
      "executable: gvim\n"
     ]
    }
   ],
   "source": [
    "*directories, executable = \"/usr/local/bin/gvim\".split(\"/\")\n",
    "print('directories:', directories)\n",
    "print('executable:', executable)"
   ]
  },
  {
   "cell_type": "code",
   "execution_count": 5,
   "metadata": {},
   "outputs": [
    {
     "name": "stdout",
     "output_type": "stream",
     "text": [
      "test1:  30\n",
      "test2:  30\n",
      "list [2, 3, 5]\n",
      "*list 2 3 5\n",
      "test3:  30\n",
      "3 5\n"
     ]
    }
   ],
   "source": [
    "def product (a, b, c):\n",
    "    return a * b * c\n",
    "print('test1: ', product(2, 3, 5))\n",
    "L = [2, 3, 5]\n",
    "print('test2: ', product(*L))\n",
    "print('list',L)\n",
    "print('*list',*L)\n",
    "print('test3: ', product(2, *L[1:]))\n",
    "print(*L[1:])"
   ]
  },
  {
   "cell_type": "markdown",
   "metadata": {},
   "source": [
    "Quiz"
   ]
  },
  {
   "cell_type": "code",
   "execution_count": 10,
   "metadata": {},
   "outputs": [
    {
     "name": "stdout",
     "output_type": "stream",
     "text": [
      "29.24\n"
     ]
    }
   ],
   "source": [
    "a = 5\n",
    "a += 12.7\n",
    "a *= 2\n",
    "a -= 6.16\n",
    "print(a)"
   ]
  },
  {
   "cell_type": "code",
   "execution_count": 11,
   "metadata": {},
   "outputs": [
    {
     "name": "stdout",
     "output_type": "stream",
     "text": [
      "['C', 'D', 'E']\n"
     ]
    }
   ],
   "source": [
    "text = list('ABCDEFG')\n",
    "t1,t2,*t3,t4,t5 = text\n",
    "print(t3)"
   ]
  },
  {
   "cell_type": "markdown",
   "metadata": {},
   "source": [
    "tuple"
   ]
  },
  {
   "cell_type": "code",
   "execution_count": 12,
   "metadata": {},
   "outputs": [
    {
     "name": "stdout",
     "output_type": "stream",
     "text": [
      "('venus', -28, 'green', '21', 19.74)\n",
      "['venus', -28, 'green', '21', 19.74]\n",
      "('venus', -28, 'green', '21', 19.74)\n",
      "('venus', -28, 'green', '21', 19.74)\n"
     ]
    }
   ],
   "source": [
    "t1 = tuple([\"venus\", -28, \"green\", \"21\", 19.74]) #turn list to tuple\n",
    "l1 = list(t1) # turn tuple to list\n",
    "t2 = (\"venus\", -28, \"green\", \"21\", 19.74)\n",
    "t3 = \"venus\", -28, \"green\", \"21\", 19.74\n",
    "print(t1)\n",
    "print(l1)\n",
    "print(t2)\n",
    "print(t3)"
   ]
  },
  {
   "cell_type": "code",
   "execution_count": 13,
   "metadata": {},
   "outputs": [
    {
     "name": "stdout",
     "output_type": "stream",
     "text": [
      "('a', 'p', 'p', 'l', 'e')\n",
      "('apple',)\n"
     ]
    }
   ],
   "source": [
    "t4 = tuple('apple')\n",
    "t5 = 'apple',\n",
    "print(t4)\n",
    "print(t5)"
   ]
  },
  {
   "cell_type": "code",
   "execution_count": 7,
   "metadata": {},
   "outputs": [
    {
     "name": "stdout",
     "output_type": "stream",
     "text": [
      "['venus', 101, 'green', '21', 19.74]\n",
      "['venus', 'green', '21', 19.74]\n"
     ]
    }
   ],
   "source": [
    "#不可變的(無法取代或刪除資料)\n",
    "t1 = (\"venus\", -28, \"green\", \"21\", 19.74)\n",
    "l1 = [\"venus\", -28, \"green\", \"21\", 19.74]\n",
    "#t1[1] = 101\n",
    "l1[1] = 101\n",
    "print(l1)\n",
    "#del t1[1]\n",
    "del l1[1]\n",
    "print(l1)"
   ]
  },
  {
   "cell_type": "code",
   "execution_count": 29,
   "metadata": {},
   "outputs": [
    {
     "name": "stdout",
     "output_type": "stream",
     "text": [
      "('pear', 'cherry')\n",
      "(('apple', 'pear'), 'mango', ('cherry', 'banana'))\n",
      "('apple', 'pear', 'mango', 'cherry', 'banana')\n",
      "1 2 3 4\n"
     ]
    }
   ],
   "source": [
    "fruit = ('apple', 'pear', 'cherry', 'banana')\n",
    "print(fruit[1:3])\n",
    "fruit2 = (fruit[:2], 'mango', fruit[2:])\n",
    "print(fruit2)\n",
    "#fruit3 = fruit[:2] + ('mango') + fruit[2:]\n",
    "fruit3 = fruit[:2] + ('mango',) + fruit[2:]\n",
    "print(fruit3)"
   ]
  },
  {
   "cell_type": "code",
   "execution_count": 20,
   "metadata": {},
   "outputs": [
    {
     "name": "stdout",
     "output_type": "stream",
     "text": [
      "(('pork', 'beef', 'chicken', 'lamb'), ('apple', 'pear', 'cherry', 'banana'))\n"
     ]
    },
    {
     "data": {
      "text/plain": [
       "('pear', 'cherry')"
      ]
     },
     "execution_count": 20,
     "metadata": {},
     "output_type": "execute_result"
    }
   ],
   "source": [
    "fruit = ('apple', 'pear', 'cherry', 'banana')\n",
    "meat = ('pork', 'beef', 'chicken', 'lamb')\n",
    "food = (meat, fruit)\n",
    "print(food)\n",
    "food[1][1:-1]"
   ]
  },
  {
   "cell_type": "code",
   "execution_count": 21,
   "metadata": {},
   "outputs": [
    {
     "data": {
      "text/plain": [
       "'z'"
      ]
     },
     "execution_count": 21,
     "metadata": {},
     "output_type": "execute_result"
    }
   ],
   "source": [
    "things = (1, -7.5, (\"pea\", (5, \"Xyz\"), \"queue\"))\n",
    "things[2][1][1][2]"
   ]
  },
  {
   "cell_type": "markdown",
   "metadata": {},
   "source": [
    "具名元組(named tuple)"
   ]
  },
  {
   "cell_type": "code",
   "execution_count": 30,
   "metadata": {},
   "outputs": [
    {
     "data": {
      "text/plain": [
       "220"
      ]
     },
     "execution_count": 30,
     "metadata": {},
     "output_type": "execute_result"
    }
   ],
   "source": [
    "MANUFACTURER, MODEL, SEATING = (0, 1, 2)\n",
    "MINIMUM, MAXIMUM = (0, 1)\n",
    "aircraft = (\"Airbus\", \"A320-200\", (100, 220))\n",
    "aircraft[SEATING][MAXIMUM]"
   ]
  },
  {
   "cell_type": "code",
   "execution_count": 31,
   "metadata": {},
   "outputs": [
    {
     "name": "stdout",
     "output_type": "stream",
     "text": [
      "7.99\n",
      "7.99\n"
     ]
    }
   ],
   "source": [
    "import collections\n",
    "Sale = collections.namedtuple(\"Sale\",\"productid customerid date quantity price\")\n",
    "sales = [] \n",
    "sales.append(Sale(432, 921, \"2008-09-14\", 3, 7.99))\n",
    "sales.append(Sale(419, 874, \"2008-09-15\", 1, 18.49))\n",
    "print(sales[0][-1])\n",
    "print(sales[0].price)"
   ]
  },
  {
   "cell_type": "code",
   "execution_count": 16,
   "metadata": {},
   "outputs": [
    {
     "name": "stdout",
     "output_type": "stream",
     "text": [
      "220\n",
      "Airbus A320-200\n",
      "Airbus A320-200\n"
     ]
    }
   ],
   "source": [
    "import collections\n",
    "Aircraft = collections.namedtuple(\"Aircraft\",\"manufacturer model seating\")\n",
    "Seating = collections.namedtuple(\"Seating\", \"minimum maximum\")\n",
    "aircraft = Aircraft(\"Airbus\", \"A320-200\", Seating(100, 220))\n",
    "print(aircraft.seating.maximum)\n",
    "print(\"{0} {1}\".format(aircraft.manufacturer, aircraft.model))\n",
    "print(\"{0.manufacturer} {0.model}\".format(aircraft))"
   ]
  },
  {
   "cell_type": "markdown",
   "metadata": {},
   "source": [
    "Quiz"
   ]
  },
  {
   "cell_type": "code",
   "execution_count": 20,
   "metadata": {},
   "outputs": [
    {
     "ename": "AttributeError",
     "evalue": "'Student' object has no attribute 'high'",
     "output_type": "error",
     "traceback": [
      "\u001b[1;31m---------------------------------------------------------------------------\u001b[0m",
      "\u001b[1;31mAttributeError\u001b[0m                            Traceback (most recent call last)",
      "\u001b[1;32m~\\AppData\\Local\\Temp/ipykernel_28532/1044220856.py\u001b[0m in \u001b[0;36m<module>\u001b[1;34m\u001b[0m\n\u001b[0;32m      8\u001b[0m \u001b[1;31m#print(Students[0].name)\u001b[0m\u001b[1;33m\u001b[0m\u001b[1;33m\u001b[0m\u001b[1;33m\u001b[0m\u001b[0m\n\u001b[0;32m      9\u001b[0m \u001b[1;31m#print(Students[1].person_info.high)\u001b[0m\u001b[1;33m\u001b[0m\u001b[1;33m\u001b[0m\u001b[1;33m\u001b[0m\u001b[0m\n\u001b[1;32m---> 10\u001b[1;33m \u001b[0mprint\u001b[0m\u001b[1;33m(\u001b[0m\u001b[0mStudents\u001b[0m\u001b[1;33m[\u001b[0m\u001b[1;36m1\u001b[0m\u001b[1;33m]\u001b[0m\u001b[1;33m.\u001b[0m\u001b[0mhigh\u001b[0m\u001b[1;33m)\u001b[0m\u001b[1;33m\u001b[0m\u001b[1;33m\u001b[0m\u001b[0m\n\u001b[0m",
      "\u001b[1;31mAttributeError\u001b[0m: 'Student' object has no attribute 'high'"
     ]
    }
   ],
   "source": [
    "import collections\n",
    "Student = collections.namedtuple('Student','ID name major person_info')\n",
    "person_info = collections.namedtuple('person_info','age high weight')\n",
    "Students = []\n",
    "Students.append(Student('13579','David','ES',person_info(20, 170.5, 79.5)))\n",
    "Students.append(Student('13588','Peter','EE',person_info(21, 172.5, 75.5)))\n",
    "#print(Students)\n",
    "#print(Students[0].name)\n",
    "#print(Students[1].person_info.high)\n",
    "print(Students[1].high)"
   ]
  },
  {
   "cell_type": "code",
   "execution_count": null,
   "metadata": {},
   "outputs": [],
   "source": []
  }
 ],
 "metadata": {
  "kernelspec": {
   "display_name": "Python 3 (ipykernel)",
   "language": "python",
   "name": "python3"
  },
  "language_info": {
   "codemirror_mode": {
    "name": "ipython",
    "version": 3
   },
   "file_extension": ".py",
   "mimetype": "text/x-python",
   "name": "python",
   "nbconvert_exporter": "python",
   "pygments_lexer": "ipython3",
   "version": "3.8.8"
  }
 },
 "nbformat": 4,
 "nbformat_minor": 4
}
