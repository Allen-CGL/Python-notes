{
 "cells": [
  {
   "cell_type": "markdown",
   "metadata": {},
   "source": [
    "匯入模組/套件"
   ]
  },
  {
   "cell_type": "code",
   "execution_count": 1,
   "metadata": {},
   "outputs": [
    {
     "name": "stdout",
     "output_type": "stream",
     "text": [
      "module search path:\n"
     ]
    },
    {
     "data": {
      "text/plain": [
       "['/Users/rick/Desktop/202109_python/week14',\n",
       " '/Users/rick/opt/anaconda3/lib/python38.zip',\n",
       " '/Users/rick/opt/anaconda3/lib/python3.8',\n",
       " '/Users/rick/opt/anaconda3/lib/python3.8/lib-dynload',\n",
       " '',\n",
       " '/Users/rick/opt/anaconda3/lib/python3.8/site-packages',\n",
       " '/Users/rick/opt/anaconda3/lib/python3.8/site-packages/aeosa',\n",
       " '/Users/rick/opt/anaconda3/lib/python3.8/site-packages/locket-0.2.1-py3.8.egg',\n",
       " '/Users/rick/opt/anaconda3/lib/python3.8/site-packages/IPython/extensions',\n",
       " '/Users/rick/.ipython']"
      ]
     },
     "execution_count": 1,
     "metadata": {},
     "output_type": "execute_result"
    }
   ],
   "source": [
    "import sys\n",
    "print('module search path:')\n",
    "sys.path"
   ]
  },
  {
   "cell_type": "code",
   "execution_count": 2,
   "metadata": {},
   "outputs": [
    {
     "name": "stdout",
     "output_type": "stream",
     "text": [
      "math pi: 3.141592653589793\n",
      "numpy pi: 3.141592653589793\n"
     ]
    }
   ],
   "source": [
    "import math, numpy\n",
    "\n",
    "print('math pi:',math.pi)\n",
    "print('numpy pi:',numpy.pi)"
   ]
  },
  {
   "cell_type": "code",
   "execution_count": 6,
   "metadata": {},
   "outputs": [
    {
     "name": "stdout",
     "output_type": "stream",
     "text": [
      "3\n",
      "b\n"
     ]
    }
   ],
   "source": [
    "import random as r\n",
    "print(r.randint(1,6))\n",
    "print(r.choice(['a','b','c']))"
   ]
  },
  {
   "cell_type": "code",
   "execution_count": 7,
   "metadata": {},
   "outputs": [
    {
     "name": "stdout",
     "output_type": "stream",
     "text": [
      "4\n"
     ]
    }
   ],
   "source": [
    "from random import randint\n",
    "print(randint(1,6))"
   ]
  },
  {
   "cell_type": "code",
   "execution_count": 8,
   "metadata": {},
   "outputs": [
    {
     "name": "stdout",
     "output_type": "stream",
     "text": [
      "4\n"
     ]
    }
   ],
   "source": [
    "from random import randint as ri\n",
    "print(ri(1,6))"
   ]
  },
  {
   "cell_type": "code",
   "execution_count": 5,
   "metadata": {},
   "outputs": [
    {
     "name": "stdout",
     "output_type": "stream",
     "text": [
      "math pi : 3.141592653589793\n",
      "my pi : 3.14\n"
     ]
    }
   ],
   "source": [
    "from math import *\n",
    "print('math pi :', pi)\n",
    "pi = 3.14\n",
    "print('my pi :', pi)"
   ]
  }
 ],
 "metadata": {
  "kernelspec": {
   "display_name": "Python 3 (ipykernel)",
   "language": "python",
   "name": "python3"
  },
  "language_info": {
   "codemirror_mode": {
    "name": "ipython",
    "version": 3
   },
   "file_extension": ".py",
   "mimetype": "text/x-python",
   "name": "python",
   "nbconvert_exporter": "python",
   "pygments_lexer": "ipython3",
   "version": "3.8.8"
  }
 },
 "nbformat": 4,
 "nbformat_minor": 4
}
