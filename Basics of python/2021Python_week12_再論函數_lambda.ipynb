{
 "cells": [
  {
   "cell_type": "markdown",
   "metadata": {},
   "source": [
    "再論函式:全域函式"
   ]
  },
  {
   "cell_type": "code",
   "execution_count": 1,
   "metadata": {},
   "outputs": [
    {
     "name": "stdout",
     "output_type": "stream",
     "text": [
      "5 + 10 = 15\n",
      "print_add None\n",
      "return_add 15\n"
     ]
    }
   ],
   "source": [
    "def print_add(a,b):\n",
    "    print(a,'+',b, '=', a+b)\n",
    "    \n",
    "def return_add(a,b):\n",
    "    return a+b\n",
    "\n",
    "a = 5\n",
    "b = 10\n",
    "\n",
    "ts1 = print_add(a,b)\n",
    "print('print_add',ts1)\n",
    "ts2 = return_add(a,b)\n",
    "print('return_add',ts2)"
   ]
  },
  {
   "cell_type": "code",
   "execution_count": 2,
   "metadata": {},
   "outputs": [
    {
     "name": "stdout",
     "output_type": "stream",
     "text": [
      "Hello World!! all letters: 10\n",
      "Hello World!! all vowels 1: 3\n",
      "Hello World!! all vowels 2: 3\n"
     ]
    }
   ],
   "source": [
    "import string\n",
    "def letter_count(text, letters = string.ascii_letters):\n",
    "    letters = frozenset(letters)\n",
    "    count = 0\n",
    "    for char in text:\n",
    "        if char in letters:\n",
    "            count +=1\n",
    "    return count\n",
    "\n",
    "text = 'Hello World!!'  \n",
    "letter_all = letter_count(text)\n",
    "letter_vowel1 = letter_count(text,'aeiouAEIOU')\n",
    "letter_vowel2 = letter_count(text,letters='aeiouAEIOU')    \n",
    "print(text, 'all letters:', letter_all)\n",
    "print(text, 'all vowels 1:', letter_vowel1)\n",
    "print(text, 'all vowels 2:', letter_vowel2)"
   ]
  },
  {
   "cell_type": "code",
   "execution_count": 3,
   "metadata": {},
   "outputs": [
    {
     "name": "stdout",
     "output_type": "stream",
     "text": [
      "See you againSee you a...\n",
      "See ...\n",
      "See yo&\n",
      "See yo&\n"
     ]
    }
   ],
   "source": [
    "def shorten(text, length =25, indicator='...'):\n",
    "    if len(text) > length:\n",
    "        text = text[:length - len(indicator)] + indicator\n",
    "    return text\n",
    "print(shorten('See you again'*3))\n",
    "print(shorten(length=7, text='See you again'))\n",
    "print(shorten('See you again', indicator='&', length=7))\n",
    "print(shorten('See you again', 7, '&'))"
   ]
  },
  {
   "cell_type": "code",
   "execution_count": 1,
   "metadata": {},
   "outputs": [
    {
     "name": "stdout",
     "output_type": "stream",
     "text": [
      "Method1: [2, 4, 6, 10]\n",
      "Method1: [2, 4, 6, 10, 12]\n"
     ]
    }
   ],
   "source": [
    "def append_if_even(x,lst=[]):\n",
    "    if x % 2 == 0:\n",
    "        lst.append(x)\n",
    "    return lst\n",
    "\n",
    "even_lst = [2, 4, 6]\n",
    "x = 10\n",
    "\n",
    "even_lst1 = append_if_even(x,even_lst)\n",
    "print('Method1:',even_lst1)\n",
    "even_lst1 = append_if_even(x+2, even_lst)\n",
    "print('Method1:',even_lst1)"
   ]
  },
  {
   "cell_type": "code",
   "execution_count": 2,
   "metadata": {},
   "outputs": [
    {
     "name": "stdout",
     "output_type": "stream",
     "text": [
      "Method2: [2, 4, 6, 10]\n",
      "Method2: [2, 4, 6, 10, 12]\n"
     ]
    }
   ],
   "source": [
    "def append_if_even2(x,lst=None):\n",
    "    if lst is None:\n",
    "        lst = []\n",
    "    if x % 2 == 0:\n",
    "        lst.append(x)\n",
    "    return lst\n",
    "\n",
    "even_lst = [2, 4, 6]\n",
    "x = 10\n",
    "\n",
    "even_lst2 = append_if_even2(x, even_lst)\n",
    "print('Method2:',even_lst2)\n",
    "even_lst2 = append_if_even2(x+2, even_lst)\n",
    "print('Method2:',even_lst2)"
   ]
  },
  {
   "cell_type": "markdown",
   "metadata": {},
   "source": [
    "Quiz"
   ]
  },
  {
   "cell_type": "code",
   "execution_count": 6,
   "metadata": {},
   "outputs": [
    {
     "name": "stdout",
     "output_type": "stream",
     "text": [
      "Merry Christmas\n",
      "**Merry Christmas**\n",
      "**Merry Christmas~\n",
      "**Merry Christmas~\n"
     ]
    }
   ],
   "source": [
    "def text_reform(text, max_len =10, repeat =1,  front='*', back ='*'):\n",
    "    if max_len > len(text):\n",
    "        text = front*repeat + text + back*repeat\n",
    "    return text\n",
    "\n",
    "text='Merry Christmas'\n",
    "print(text_reform(text,len(text)-1))\n",
    "print(text_reform(text,len(text)+1,2))\n",
    "print(text_reform(text,len(text)+1,1,'**','~'))\n",
    "print(text_reform(text,len(text)+1,back='~',front='**',repeat=1))"
   ]
  },
  {
   "cell_type": "markdown",
   "metadata": {},
   "source": [
    "lamda function"
   ]
  },
  {
   "cell_type": "code",
   "execution_count": 7,
   "metadata": {},
   "outputs": [
    {
     "data": {
      "text/plain": [
       "<function __main__.<lambda>(x)>"
      ]
     },
     "execution_count": 7,
     "metadata": {},
     "output_type": "execute_result"
    }
   ],
   "source": [
    "lambda x : x ** 2"
   ]
  },
  {
   "cell_type": "code",
   "execution_count": 8,
   "metadata": {},
   "outputs": [
    {
     "name": "stdout",
     "output_type": "stream",
     "text": [
      "<class 'function'>\n",
      "25\n"
     ]
    }
   ],
   "source": [
    "sq = lambda x : x ** 2\n",
    "print(type(sq))\n",
    "print(sq(5))"
   ]
  },
  {
   "cell_type": "code",
   "execution_count": 9,
   "metadata": {},
   "outputs": [
    {
     "name": "stdout",
     "output_type": "stream",
     "text": [
      "Hello from lambda!\n",
      "12\n"
     ]
    }
   ],
   "source": [
    "#建立後馬上使用\n",
    "(lambda : print('Hello from lambda!'))()\n",
    "print((lambda a, b, c: a + b + c)(3,4,5))"
   ]
  },
  {
   "cell_type": "code",
   "execution_count": 13,
   "metadata": {},
   "outputs": [
    {
     "name": "stdout",
     "output_type": "stream",
     "text": [
      "funct. 1: [('Allison', 5), ('Lily', 15), ('Peter', 9), ('Robert', 12)]\n",
      "lambda 1: [('Allison', 5), ('Lily', 15), ('Peter', 9), ('Robert', 12)]\n",
      "--------------\n",
      "funct. 2: [('Lily', 15), ('Peter', 9), ('Robert', 12), ('Allison', 5)]\n",
      "lambda 2: [('Lily', 15), ('Peter', 9), ('Robert', 12), ('Allison', 5)]\n",
      "--------------\n",
      "funct. 3: [('Allison', 5), ('Peter', 9), ('Robert', 12), ('Lily', 15)]\n",
      "lambda 3: [('Allison', 5), ('Peter', 9), ('Robert', 12), ('Lily', 15)]\n"
     ]
    }
   ],
   "source": [
    "lst = [('Robert',12),('Peter',9),('Lily',15),('Allison',5)]\n",
    "def by_name(item):\n",
    "    return item[0]\n",
    "def by_name_len(item):\n",
    "    return len(item[0])\n",
    "def by_num(item):\n",
    "    return item[1]\n",
    "\n",
    "print('funct. 1:',sorted(lst, key = by_name))\n",
    "print('lambda 1:',sorted(lst, key = lambda item : item[0]))\n",
    "print('--------------')\n",
    "print('funct. 2:',sorted(lst, key = by_name_len))\n",
    "print('lambda 2:',sorted(lst, key = lambda item : len(item[0])))\n",
    "print('--------------')\n",
    "print('funct. 3:',sorted(lst, key = by_num))\n",
    "print('lambda 3:',sorted(lst, key = lambda item : item[1]))\n",
    "##################################################################################"
   ]
  },
  {
   "cell_type": "code",
   "execution_count": null,
   "metadata": {},
   "outputs": [],
   "source": []
  },
  {
   "cell_type": "code",
   "execution_count": null,
   "metadata": {},
   "outputs": [],
   "source": []
  },
  {
   "cell_type": "code",
   "execution_count": null,
   "metadata": {},
   "outputs": [],
   "source": []
  }
 ],
 "metadata": {
  "kernelspec": {
   "display_name": "Python 3 (ipykernel)",
   "language": "python",
   "name": "python3"
  },
  "language_info": {
   "codemirror_mode": {
    "name": "ipython",
    "version": 3
   },
   "file_extension": ".py",
   "mimetype": "text/x-python",
   "name": "python",
   "nbconvert_exporter": "python",
   "pygments_lexer": "ipython3",
   "version": "3.8.8"
  }
 },
 "nbformat": 4,
 "nbformat_minor": 4
}
