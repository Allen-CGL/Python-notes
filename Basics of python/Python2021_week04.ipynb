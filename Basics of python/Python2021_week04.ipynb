{
 "cells": [
  {
   "cell_type": "markdown",
   "metadata": {},
   "source": [
    "loops (迴圈)"
   ]
  },
  {
   "cell_type": "code",
   "execution_count": 1,
   "metadata": {},
   "outputs": [
    {
     "name": "stdout",
     "output_type": "stream",
     "text": [
      "0\n",
      "1\n",
      "2\n",
      "3\n",
      "4\n",
      "5\n",
      "6\n",
      "7\n",
      "current i1: 8\n"
     ]
    }
   ],
   "source": [
    "i1 = 0\n",
    "while i1 < 8:\n",
    "    print(i1)\n",
    "    i1 = i1 + 1\n",
    "    \n",
    "print('current i1:',i1)"
   ]
  },
  {
   "cell_type": "code",
   "execution_count": 2,
   "metadata": {},
   "outputs": [
    {
     "name": "stdout",
     "output_type": "stream",
     "text": [
      "A is a vowel\n",
      "B is a consonant\n",
      "C is a consonant\n",
      "D is a consonant\n",
      "E is a vowel\n",
      "F is a consonant\n",
      "G is a consonant\n",
      "H is a consonant\n",
      "I is a vowel\n",
      "J is a consonant\n",
      "K is a consonant\n",
      "L is a consonant\n",
      "M is a consonant\n",
      "N is a consonant\n",
      "O is a vowel\n",
      "P is a consonant\n",
      "Q is a consonant\n",
      "R is a consonant\n",
      "S is a consonant\n",
      "T is a consonant\n",
      "U is a vowel\n",
      "V is a consonant\n",
      "W is a consonant\n",
      "X is a consonant\n",
      "Y is a consonant\n",
      "Z is a consonant\n"
     ]
    }
   ],
   "source": [
    "for letter in 'ABCDEFGHIJKLMNOPQRSTUVWXYZ':\n",
    "    if letter in 'AEIOU': \n",
    "        print(letter, 'is a vowel')\n",
    "    else:\n",
    "        print(letter, 'is a consonant')"
   ]
  },
  {
   "cell_type": "code",
   "execution_count": 3,
   "metadata": {},
   "outputs": [
    {
     "name": "stdout",
     "output_type": "stream",
     "text": [
      "1 is odd!\n",
      "4 is even!\n",
      "7 is odd!\n"
     ]
    }
   ],
   "source": [
    "for number in range(1,10,3):\n",
    "    if number % 2 == 0:\n",
    "        print(str(number) + ' is even!')\n",
    "    else:\n",
    "        print(str(number) + ' is odd!')"
   ]
  },
  {
   "cell_type": "markdown",
   "metadata": {},
   "source": [
    "loop quiz"
   ]
  },
  {
   "cell_type": "code",
   "execution_count": 4,
   "metadata": {},
   "outputs": [
    {
     "name": "stdout",
     "output_type": "stream",
     "text": [
      "2\n",
      "4\n",
      "6\n",
      "8\n",
      "10\n"
     ]
    }
   ],
   "source": [
    "i1 = 0\n",
    "while i1 != 10:\n",
    "    i1 = i1 +2\n",
    "    print(i1)"
   ]
  },
  {
   "cell_type": "code",
   "execution_count": null,
   "metadata": {},
   "outputs": [],
   "source": [
    "i1 = 1\n",
    "while i1 != 10:\n",
    "    i1 = i1 + 2\n",
    "    print(i1)"
   ]
  },
  {
   "cell_type": "code",
   "execution_count": 5,
   "metadata": {},
   "outputs": [
    {
     "name": "stdout",
     "output_type": "stream",
     "text": [
      "9\n",
      "7\n",
      "5\n",
      "3\n"
     ]
    }
   ],
   "source": [
    "for number in range (9, 1, -2):\n",
    "    print(number)"
   ]
  },
  {
   "cell_type": "markdown",
   "metadata": {},
   "source": [
    "multiple assignments"
   ]
  },
  {
   "cell_type": "code",
   "execution_count": 6,
   "metadata": {},
   "outputs": [
    {
     "name": "stdout",
     "output_type": "stream",
     "text": [
      "1\n",
      "apple\n",
      "3.14159\n"
     ]
    }
   ],
   "source": [
    "var1, var2, var3 = 1, 'apple', 3.14159\n",
    "print(var1)\n",
    "print(var2)\n",
    "print(var3)"
   ]
  },
  {
   "cell_type": "code",
   "execution_count": 8,
   "metadata": {},
   "outputs": [
    {
     "name": "stdout",
     "output_type": "stream",
     "text": [
      "15 3.0\n"
     ]
    }
   ],
   "source": [
    "def sum_mean(v_s,v_e):\n",
    "    #calculate sum and mean form v_s to v_e\n",
    "    counter=0\n",
    "    val_sum=0\n",
    "    for i1 in range(v_s,v_e+1):\n",
    "        counter = counter + 1\n",
    "        val_sum = val_sum + i1\n",
    "    return val_sum, val_sum/counter\n",
    "#===============\n",
    "val_sum, val_mean = sum_mean(1,5)\n",
    "print(val_sum,val_mean)"
   ]
  },
  {
   "cell_type": "markdown",
   "metadata": {},
   "source": [
    "Integer "
   ]
  },
  {
   "cell_type": "code",
   "execution_count": 7,
   "metadata": {},
   "outputs": [
    {
     "name": "stdout",
     "output_type": "stream",
     "text": [
      "741\n",
      "25930\n",
      "10935329\n"
     ]
    }
   ],
   "source": [
    "print(0b1011100101)\n",
    "print(0o62512)\n",
    "print(0xA6DC21)"
   ]
  },
  {
   "cell_type": "markdown",
   "metadata": {},
   "source": [
    "Quiz (Multiple assignments)"
   ]
  },
  {
   "cell_type": "code",
   "execution_count": 9,
   "metadata": {},
   "outputs": [
    {
     "name": "stdout",
     "output_type": "stream",
     "text": [
      "Before a1: 5  b1: apple\n",
      "After a1: apple  b1: 5\n"
     ]
    }
   ],
   "source": [
    "a1 = 5\n",
    "b1 = 'apple'\n",
    "print('Before a1: ' + str(a1) + '  b1: ' + str(b1))\n",
    "a1, b1 = b1, a1\n",
    "print('After a1: ' + str(a1) + '  b1: ' + str(b1))"
   ]
  },
  {
   "cell_type": "code",
   "execution_count": 10,
   "metadata": {},
   "outputs": [
    {
     "name": "stdout",
     "output_type": "stream",
     "text": [
      "3053\n",
      "3053\n",
      "520\n",
      "520\n"
     ]
    }
   ],
   "source": [
    "print(0xBED)\n",
    "int1=16**2*11+16**1*14+16**0*13\n",
    "print(int1)\n",
    "print(0o1010)\n",
    "int2=8**3*1+8**1*1\n",
    "print(int2)"
   ]
  },
  {
   "cell_type": "markdown",
   "metadata": {},
   "source": [
    "float"
   ]
  },
  {
   "cell_type": "code",
   "execution_count": 11,
   "metadata": {},
   "outputs": [
    {
     "name": "stdout",
     "output_type": "stream",
     "text": [
      "False\n"
     ]
    }
   ],
   "source": [
    "print(bool(2.5 * 2 - 2 * 2 - 0.5 * 2))"
   ]
  },
  {
   "cell_type": "code",
   "execution_count": 12,
   "metadata": {},
   "outputs": [
    {
     "name": "stdout",
     "output_type": "stream",
     "text": [
      "True\n"
     ]
    }
   ],
   "source": [
    "print(bool(2.1 * 2 - 2 * 2 - 0.1 * 2))"
   ]
  },
  {
   "cell_type": "code",
   "execution_count": 13,
   "metadata": {},
   "outputs": [
    {
     "data": {
      "text/plain": [
       "sys.float_info(max=1.7976931348623157e+308, max_exp=1024, max_10_exp=308, min=2.2250738585072014e-308, min_exp=-1021, min_10_exp=-307, dig=15, mant_dig=53, epsilon=2.220446049250313e-16, radix=2, rounds=1)"
      ]
     },
     "execution_count": 13,
     "metadata": {},
     "output_type": "execute_result"
    }
   ],
   "source": [
    "import sys\n",
    "sys.float_info"
   ]
  },
  {
   "cell_type": "code",
   "execution_count": 14,
   "metadata": {},
   "outputs": [
    {
     "name": "stdout",
     "output_type": "stream",
     "text": [
      "-12.34\n",
      "56.78\n"
     ]
    }
   ],
   "source": [
    "c  =  -12.34 + 56.78j\n",
    "print(c.real)\n",
    "print(c.imag)"
   ]
  },
  {
   "cell_type": "code",
   "execution_count": 15,
   "metadata": {},
   "outputs": [
    {
     "data": {
      "text/plain": [
       "(-12.34-56.78j)"
      ]
     },
     "execution_count": 15,
     "metadata": {},
     "output_type": "execute_result"
    }
   ],
   "source": [
    "c  =  -12.34 + 56.78j\n",
    "c.conjugate()"
   ]
  },
  {
   "cell_type": "code",
   "execution_count": 16,
   "metadata": {},
   "outputs": [
    {
     "data": {
      "text/plain": [
       "Decimal('0.14158999999999999364064251494710333645343780517578125')"
      ]
     },
     "execution_count": 16,
     "metadata": {},
     "output_type": "execute_result"
    }
   ],
   "source": [
    "import decimal\n",
    "float_a = 0.14159\n",
    "decimal.Decimal(float_a)"
   ]
  },
  {
   "cell_type": "code",
   "execution_count": 17,
   "metadata": {},
   "outputs": [
    {
     "data": {
      "text/plain": [
       "Decimal('0.14158999999999999364064251494710333645343780517578125')"
      ]
     },
     "execution_count": 17,
     "metadata": {},
     "output_type": "execute_result"
    }
   ],
   "source": [
    "import decimal\n",
    "decimal.Decimal.from_float(0.14159)"
   ]
  },
  {
   "cell_type": "code",
   "execution_count": 18,
   "metadata": {},
   "outputs": [
    {
     "name": "stdout",
     "output_type": "stream",
     "text": [
      "21.904761904761905\n",
      "21.90476190476190476190476190\n"
     ]
    }
   ],
   "source": [
    "import decimal\n",
    "print(23 / 1.05)\n",
    "print(decimal.Decimal(23) / decimal.Decimal('1.05'))"
   ]
  },
  {
   "cell_type": "markdown",
   "metadata": {},
   "source": [
    "迴圈流程控制"
   ]
  },
  {
   "cell_type": "code",
   "execution_count": 19,
   "metadata": {},
   "outputs": [
    {
     "name": "stdout",
     "output_type": "stream",
     "text": [
      "92\n",
      "37\n",
      "score : 37 failed\n"
     ]
    }
   ],
   "source": [
    "scores = [92, 37, 89, 75, 62, 45]\n",
    "for i1 in scores:\n",
    "    print(i1)\n",
    "    if i1 < 60: \n",
    "        print('score : ' + str(i1) + ' failed')\n",
    "        break"
   ]
  },
  {
   "cell_type": "code",
   "execution_count": 20,
   "metadata": {},
   "outputs": [
    {
     "name": "stdout",
     "output_type": "stream",
     "text": [
      "pass 92\n",
      "37\n",
      "pass 89\n",
      "pass 75\n",
      "pass 62\n",
      "45\n",
      "4 student(s) passed!\n"
     ]
    }
   ],
   "source": [
    "scores = [92, 37, 89, 75, 62, 45]\n",
    "pass_num = 0\n",
    "for i1 in scores:\n",
    "    if i1 < 60: \n",
    "        print(i1)\n",
    "        continue\n",
    "    print('pass',i1)\n",
    "    pass_num = pass_num + 1\n",
    "print(str(pass_num) + ' student(s) passed!')"
   ]
  },
  {
   "cell_type": "markdown",
   "metadata": {},
   "source": [
    "turtle module"
   ]
  },
  {
   "cell_type": "code",
   "execution_count": null,
   "metadata": {},
   "outputs": [],
   "source": [
    "import turtle\n",
    "turtle.fd(100) # forward 100 pixels\n",
    "turtle.lt(90) #left turn 90 degree\n",
    "turtle.fd(100)"
   ]
  },
  {
   "cell_type": "code",
   "execution_count": null,
   "metadata": {},
   "outputs": [],
   "source": [
    "turtle.bye()"
   ]
  },
  {
   "cell_type": "code",
   "execution_count": null,
   "metadata": {},
   "outputs": [],
   "source": [
    "import turtle\n",
    "turtle.fd(100) # forward 100 pixels\n",
    "turtle.lt(90) #left turn 90 degree\n",
    "turtle.fd(100)\n",
    "turtle.lt(90)\n",
    "turtle.fd(100)\n",
    "turtle.lt(90)\n",
    "turtle.fd(100)\n",
    "turtle.lt(90)"
   ]
  },
  {
   "cell_type": "code",
   "execution_count": null,
   "metadata": {},
   "outputs": [],
   "source": []
  }
 ],
 "metadata": {
  "kernelspec": {
   "display_name": "Python 3 (ipykernel)",
   "language": "python",
   "name": "python3"
  },
  "language_info": {
   "codemirror_mode": {
    "name": "ipython",
    "version": 3
   },
   "file_extension": ".py",
   "mimetype": "text/x-python",
   "name": "python",
   "nbconvert_exporter": "python",
   "pygments_lexer": "ipython3",
   "version": "3.8.8"
  }
 },
 "nbformat": 4,
 "nbformat_minor": 4
}
