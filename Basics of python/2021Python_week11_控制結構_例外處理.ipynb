{
 "cells": [
  {
   "cell_type": "markdown",
   "metadata": {},
   "source": [
    "條件控制"
   ]
  },
  {
   "cell_type": "code",
   "execution_count": 6,
   "metadata": {},
   "outputs": [
    {
     "name": "stdout",
     "output_type": "stream",
     "text": [
      "Width V1: 0\n"
     ]
    }
   ],
   "source": [
    "margin = False\n",
    "width = 100 + 10 if margin else 0\n",
    "print('Width V1:',width)"
   ]
  },
  {
   "cell_type": "code",
   "execution_count": 5,
   "metadata": {},
   "outputs": [
    {
     "name": "stdout",
     "output_type": "stream",
     "text": [
      "Width V2: 100\n"
     ]
    }
   ],
   "source": [
    "margin = False\n",
    "width = 100 + (10 if margin else 0)\n",
    "print('Width V2:',width)"
   ]
  },
  {
   "cell_type": "code",
   "execution_count": 7,
   "metadata": {},
   "outputs": [
    {
     "name": "stdout",
     "output_type": "stream",
     "text": [
      "no files\n",
      "1 file\n",
      "2 files\n"
     ]
    }
   ],
   "source": [
    "count = 0\n",
    "print(\"{0} file{1}\".format((count if count !=0 else \"no\"),(\"s\" if count != 1 else \"\")))\n",
    "count = 1\n",
    "print(\"{0} file{1}\".format((count if count !=0 else \"no\"),(\"s\" if count != 1 else \"\")))\n",
    "count = 2\n",
    "print(\"{0} file{1}\".format((count if count !=0 else \"no\"),(\"s\" if count != 1 else \"\")))"
   ]
  },
  {
   "cell_type": "markdown",
   "metadata": {},
   "source": [
    "迴圈 + else"
   ]
  },
  {
   "cell_type": "code",
   "execution_count": 8,
   "metadata": {},
   "outputs": [
    {
     "name": "stdout",
     "output_type": "stream",
     "text": [
      "for Loop 0\n",
      "for Loop 1\n",
      "for Loop 2\n",
      "for else block!\n"
     ]
    }
   ],
   "source": [
    "for i1 in range(3):\n",
    "    print('for Loop',i1)\n",
    "else:\n",
    "    print('for else block!')"
   ]
  },
  {
   "cell_type": "code",
   "execution_count": 9,
   "metadata": {},
   "outputs": [
    {
     "name": "stdout",
     "output_type": "stream",
     "text": [
      "for Loop 0\n",
      "for Loop 1\n"
     ]
    }
   ],
   "source": [
    "for i1 in range(3):\n",
    "    print('for Loop',i1)\n",
    "    if i1 == 1:\n",
    "        break\n",
    "else:\n",
    "    print('for else block!')"
   ]
  },
  {
   "cell_type": "code",
   "execution_count": 10,
   "metadata": {},
   "outputs": [
    {
     "name": "stdout",
     "output_type": "stream",
     "text": [
      "while else block!\n"
     ]
    }
   ],
   "source": [
    "while False:\n",
    "    print('Never runs')\n",
    "else:\n",
    "    print('while else block!')"
   ]
  },
  {
   "cell_type": "code",
   "execution_count": 11,
   "metadata": {},
   "outputs": [
    {
     "name": "stdout",
     "output_type": "stream",
     "text": [
      "Testing: 2\n",
      "Testing: 3\n",
      "Testing: 4\n",
      "4  and  9  are coprime\n"
     ]
    }
   ],
   "source": [
    "a = 4\n",
    "b = 9\n",
    "for i1 in range (2, min(a, b) + 1):\n",
    "    print('Testing:',i1)\n",
    "    if a % i1 == 0 and b % i1 == 0:\n",
    "        print(a,' and ', b, ' are not coprime')\n",
    "        break\n",
    "else:\n",
    "    print(a,' and ', b, ' are coprime')"
   ]
  },
  {
   "cell_type": "code",
   "execution_count": 12,
   "metadata": {},
   "outputs": [
    {
     "name": "stdout",
     "output_type": "stream",
     "text": [
      "fun1: 4 & 9 are coprime\n",
      "fun2: 4 & 9 are coprime\n"
     ]
    }
   ],
   "source": [
    "def coprime(a,b):\n",
    "    for i1 in range (2, min(a, b) + 1):\n",
    "        if a % i1 == 0 and b % i1 == 0:\n",
    "            return False\n",
    "    return True\n",
    "\n",
    "def coprime2(a,b):\n",
    "    is_coprime = True\n",
    "    for i1 in range (2, min(a, b) + 1):\n",
    "        if a % i1 == 0 and b % i1 == 0:\n",
    "            is_coprime = False\n",
    "            break\n",
    "    return is_coprime\n",
    "\n",
    "a = 4\n",
    "b = 9\n",
    "print(\"fun1: {0} & {1} are {2}\".format(a,b,('coprime' if coprime(a,b) else \"not coprime\")))\n",
    "print(\"fun2: {0} & {1} are {2}\".format(a,b,('coprime' if coprime2(a,b) else \"not coprime\")))"
   ]
  },
  {
   "cell_type": "markdown",
   "metadata": {},
   "source": [
    "Quiz"
   ]
  },
  {
   "cell_type": "code",
   "execution_count": 13,
   "metadata": {},
   "outputs": [
    {
     "name": "stdout",
     "output_type": "stream",
     "text": [
      "idx of 0: 2\n",
      "idx of 0: 4\n",
      "index of 0 is -1\n"
     ]
    }
   ],
   "source": [
    "x = [1, 5, 0 , 8 ,0]\n",
    "idx_0 = 0\n",
    "for i1, x1 in enumerate(x):\n",
    "    if x1 == 0:\n",
    "        print('idx of 0:',i1)\n",
    "        idx_0 = i1\n",
    "else:\n",
    "    idx_0 = -1\n",
    "    \n",
    "print('index of 0 is',idx_0)              "
   ]
  },
  {
   "cell_type": "code",
   "execution_count": 14,
   "metadata": {},
   "outputs": [
    {
     "name": "stdout",
     "output_type": "stream",
     "text": [
      "index of 0 is 2\n"
     ]
    }
   ],
   "source": [
    "x = [1, 5, 0 , 8 ,0]\n",
    "idx_0 = 0\n",
    "for i1, x1 in enumerate(x):\n",
    "    if x1 == 0:\n",
    "        idx_0 = i1\n",
    "        break\n",
    "else:\n",
    "    idx_0 = -1\n",
    "    \n",
    "print('index of 0 is',idx_0) "
   ]
  },
  {
   "cell_type": "markdown",
   "metadata": {},
   "source": [
    "例外處理"
   ]
  },
  {
   "cell_type": "code",
   "execution_count": 16,
   "metadata": {},
   "outputs": [
    {
     "name": "stdout",
     "output_type": "stream",
     "text": [
      "Invalid Key used\n"
     ]
    }
   ],
   "source": [
    "d = {1:'a', 2:'b',3:'c'}\n",
    "try:\n",
    "    x = d[5]\n",
    "#except LookupError:\n",
    "#    print('Lookup error occurred')\n",
    "except KeyError:\n",
    "    print('Invalid Key used')\n",
    "except LookupError:\n",
    "    print('Lookup error occurred')"
   ]
  },
  {
   "cell_type": "code",
   "execution_count": 1,
   "metadata": {},
   "outputs": [],
   "source": [
    "def read_data(filename):\n",
    "    lines = []\n",
    "    fh = None\n",
    "    try:\n",
    "        fh = open(filename)\n",
    "        for line in fh:\n",
    "            if line.strip():\n",
    "                lines.append(line)\n",
    "    except(IOError, OSError) as err:\n",
    "        print(err)\n",
    "        return []\n",
    "    finally:\n",
    "        if fh is not None:\n",
    "            fh.close()\n",
    "    return lines"
   ]
  },
  {
   "cell_type": "code",
   "execution_count": 2,
   "metadata": {},
   "outputs": [],
   "source": [
    "def read_data2(filename):\n",
    "    lines = []\n",
    "    fh = None\n",
    "    try:\n",
    "        fh = open(filename)        \n",
    "    except(IOError, OSError) as err:\n",
    "        print(err)\n",
    "        return []\n",
    "    else:\n",
    "        for line in fh:\n",
    "            if line.strip():\n",
    "                lines.append(line)\n",
    "    finally:\n",
    "        if fh is not None:\n",
    "            fh.close()\n",
    "    return lines"
   ]
  },
  {
   "cell_type": "markdown",
   "metadata": {},
   "source": [
    "Quiz"
   ]
  },
  {
   "cell_type": "code",
   "execution_count": 20,
   "metadata": {},
   "outputs": [
    {
     "name": "stdout",
     "output_type": "stream",
     "text": [
      "missing Key: 9\n",
      "case: 2\n"
     ]
    }
   ],
   "source": [
    "d1 ={1:'a',2:'b',3:'c'}\n",
    "case = -1\n",
    "try:\n",
    "    x1 = d1[9]\n",
    "    case =1\n",
    "except KeyError as err:\n",
    "    print('missing Key:', err)\n",
    "    case = 2\n",
    "else:\n",
    "    pass\n",
    "    case = 3\n",
    "    \n",
    "print('case:',case)"
   ]
  },
  {
   "cell_type": "code",
   "execution_count": 21,
   "metadata": {},
   "outputs": [
    {
     "name": "stdout",
     "output_type": "stream",
     "text": [
      "case: 3\n"
     ]
    }
   ],
   "source": [
    "d1 ={1:'a',2:'b',3:'c'}\n",
    "case = -1\n",
    "try:\n",
    "    x1 = d1[2]\n",
    "    case =1\n",
    "except KeyError as err:\n",
    "    print('missing Key:', err)\n",
    "    case = 2\n",
    "else:\n",
    "    pass\n",
    "    case = 3\n",
    "    \n",
    "print('case:',case)"
   ]
  },
  {
   "cell_type": "code",
   "execution_count": 22,
   "metadata": {},
   "outputs": [
    {
     "name": "stdout",
     "output_type": "stream",
     "text": [
      "case: 4\n"
     ]
    }
   ],
   "source": [
    "d1 ={1:'a',2:'b',3:'c'}\n",
    "case = -1\n",
    "try:\n",
    "    x1 = d1[2]\n",
    "    case =1\n",
    "except KeyError as err:\n",
    "    print('missing Key:', err)\n",
    "    case = 2\n",
    "else:\n",
    "    pass\n",
    "    case = 3\n",
    "finally:\n",
    "    case = 4\n",
    "print('case:',case) "
   ]
  },
  {
   "cell_type": "code",
   "execution_count": null,
   "metadata": {},
   "outputs": [],
   "source": []
  }
 ],
 "metadata": {
  "kernelspec": {
   "display_name": "Python 3 (ipykernel)",
   "language": "python",
   "name": "python3"
  },
  "language_info": {
   "codemirror_mode": {
    "name": "ipython",
    "version": 3
   },
   "file_extension": ".py",
   "mimetype": "text/x-python",
   "name": "python",
   "nbconvert_exporter": "python",
   "pygments_lexer": "ipython3",
   "version": "3.8.8"
  }
 },
 "nbformat": 4,
 "nbformat_minor": 4
}
